{
 "cells": [
  {
   "cell_type": "code",
   "execution_count": 1,
   "metadata": {},
   "outputs": [],
   "source": [
    "import pandas as pd\n",
    "import numpy as np\n",
    "import nltk\n",
    "from configs import NEWS_SAVE_FILE\n",
    "from langdetect import detect\n",
    "from nltk.tokenize import word_tokenize\n",
    "from nltk.probability import FreqDist\n",
    "from nltk.sentiment import SentimentIntensityAnalyzer\n",
    "from nltk.sentiment.vader import SentimentIntensityAnalyzer"
   ]
  },
  {
   "cell_type": "code",
   "execution_count": 48,
   "metadata": {},
   "outputs": [
    {
     "name": "stdout",
     "output_type": "stream",
     "text": [
      "showing info https://raw.githubusercontent.com/nltk/nltk_data/gh-pages/index.xml\n"
     ]
    },
    {
     "data": {
      "text/plain": [
       "True"
      ]
     },
     "execution_count": 48,
     "metadata": {},
     "output_type": "execute_result"
    }
   ],
   "source": [
    "nltk.download()"
   ]
  },
  {
   "cell_type": "code",
   "execution_count": 49,
   "metadata": {},
   "outputs": [
    {
     "name": "stderr",
     "output_type": "stream",
     "text": [
      "[nltk_data] Downloading package names to\n",
      "[nltk_data]     C:\\Users\\mschm\\AppData\\Roaming\\nltk_data...\n",
      "[nltk_data]   Package names is already up-to-date!\n",
      "[nltk_data] Downloading package stopwords to\n",
      "[nltk_data]     C:\\Users\\mschm\\AppData\\Roaming\\nltk_data...\n",
      "[nltk_data]   Package stopwords is already up-to-date!\n",
      "[nltk_data] Downloading package state_union to\n",
      "[nltk_data]     C:\\Users\\mschm\\AppData\\Roaming\\nltk_data...\n",
      "[nltk_data]   Package state_union is already up-to-date!\n",
      "[nltk_data] Downloading package twitter_samples to\n",
      "[nltk_data]     C:\\Users\\mschm\\AppData\\Roaming\\nltk_data...\n",
      "[nltk_data]   Package twitter_samples is already up-to-date!\n",
      "[nltk_data] Downloading package movie_reviews to\n",
      "[nltk_data]     C:\\Users\\mschm\\AppData\\Roaming\\nltk_data...\n",
      "[nltk_data]   Package movie_reviews is already up-to-date!\n",
      "[nltk_data] Downloading package averaged_perceptron_tagger to\n",
      "[nltk_data]     C:\\Users\\mschm\\AppData\\Roaming\\nltk_data...\n",
      "[nltk_data]   Package averaged_perceptron_tagger is already up-to-\n",
      "[nltk_data]       date!\n",
      "[nltk_data] Downloading package vader_lexicon to\n",
      "[nltk_data]     C:\\Users\\mschm\\AppData\\Roaming\\nltk_data...\n",
      "[nltk_data]   Package vader_lexicon is already up-to-date!\n",
      "[nltk_data] Downloading package punkt to\n",
      "[nltk_data]     C:\\Users\\mschm\\AppData\\Roaming\\nltk_data...\n",
      "[nltk_data]   Package punkt is already up-to-date!\n"
     ]
    },
    {
     "data": {
      "text/plain": [
       "True"
      ]
     },
     "execution_count": 49,
     "metadata": {},
     "output_type": "execute_result"
    }
   ],
   "source": [
    "nltk.download([\n",
    "    \"names\",\n",
    "    \"stopwords\",\n",
    "    \"state_union\",\n",
    "    \"twitter_samples\",\n",
    "    \"movie_reviews\",\n",
    "    \"averaged_perceptron_tagger\",\n",
    "    \"vader_lexicon\",\n",
    "    \"punkt\",\n",
    "    ])"
   ]
  },
  {
   "cell_type": "code",
   "execution_count": 50,
   "metadata": {},
   "outputs": [
    {
     "name": "stdout",
     "output_type": "stream",
     "text": [
      "(5117, 9)\n"
     ]
    },
    {
     "data": {
      "text/html": [
       "<div>\n",
       "<style scoped>\n",
       "    .dataframe tbody tr th:only-of-type {\n",
       "        vertical-align: middle;\n",
       "    }\n",
       "\n",
       "    .dataframe tbody tr th {\n",
       "        vertical-align: top;\n",
       "    }\n",
       "\n",
       "    .dataframe thead th {\n",
       "        text-align: right;\n",
       "    }\n",
       "</style>\n",
       "<table border=\"1\" class=\"dataframe\">\n",
       "  <thead>\n",
       "    <tr style=\"text-align: right;\">\n",
       "      <th></th>\n",
       "      <th>headline</th>\n",
       "      <th>publish_date</th>\n",
       "      <th>content</th>\n",
       "      <th>authors</th>\n",
       "      <th>keywords</th>\n",
       "      <th>summary</th>\n",
       "      <th>source</th>\n",
       "      <th>url</th>\n",
       "      <th>date_pulled</th>\n",
       "    </tr>\n",
       "  </thead>\n",
       "  <tbody>\n",
       "    <tr>\n",
       "      <th>4471</th>\n",
       "      <td>New Mexico community to resume police services...</td>\n",
       "      <td>NaT</td>\n",
       "      <td>Residents of a small northern New Mexico commu...</td>\n",
       "      <td>[]</td>\n",
       "      <td>[resume, residents, mexico, taos, officers, sh...</td>\n",
       "      <td>Residents of a small northern New Mexico commu...</td>\n",
       "      <td>foxnews</td>\n",
       "      <td>https://www.foxnews.com/</td>\n",
       "      <td>03-27-23</td>\n",
       "    </tr>\n",
       "    <tr>\n",
       "      <th>4250</th>\n",
       "      <td>Myke Towers rinde homenaje a Don Omar y Tego C...</td>\n",
       "      <td>2023-03-27 00:00:00</td>\n",
       "      <td>Myke Towers lanzará su cuarto álbum de estudio...</td>\n",
       "      <td>[]</td>\n",
       "      <td>[nuevo, video, vendrá, tego, rinde, towers, qu...</td>\n",
       "      <td>Myke Towers lanzará su cuarto álbum de estudio...</td>\n",
       "      <td>cnn</td>\n",
       "      <td>https://www.cnn.com/</td>\n",
       "      <td>03-27-23</td>\n",
       "    </tr>\n",
       "    <tr>\n",
       "      <th>4156</th>\n",
       "      <td>What’s in Our Queue? ‘Industry’ and More</td>\n",
       "      <td>2023-03-09 00:00:00</td>\n",
       "      <td>What’s in Our Queue? ‘Industry’ and More\\n\\nI’...</td>\n",
       "      <td>[John Eligon]</td>\n",
       "      <td>[whats, understand, media, queue, industry, mo...</td>\n",
       "      <td>What’s in Our Queue?\\n‘Industry’ and MoreI’m t...</td>\n",
       "      <td>nytimes</td>\n",
       "      <td>https://www.nytimes.com/</td>\n",
       "      <td>03-26-23</td>\n",
       "    </tr>\n",
       "    <tr>\n",
       "      <th>4125</th>\n",
       "      <td>Twitter Says Parts of Its Source Code Were Lea...</td>\n",
       "      <td>2023-03-26 00:00:00</td>\n",
       "      <td>Parts of Twitter’s source code, the underlying...</td>\n",
       "      <td>[Ryan Mac, Kate Conger]</td>\n",
       "      <td>[twitter, online, underlying, filing, source, ...</td>\n",
       "      <td>Parts of Twitter’s source code, the underlying...</td>\n",
       "      <td>nytimes</td>\n",
       "      <td>https://www.nytimes.com/</td>\n",
       "      <td>03-26-23</td>\n",
       "    </tr>\n",
       "    <tr>\n",
       "      <th>73</th>\n",
       "      <td>في عيد الأم.. محمد صلاح في ظهور جديد مع والديه</td>\n",
       "      <td>2023-03-21 00:00:00</td>\n",
       "      <td>دبي، الإمارات العربية المتحدة (CNN) -- نشر الن...</td>\n",
       "      <td>[]</td>\n",
       "      <td>[عيد, في, من, العربية, جديد, صلاح, الفراعنة, و...</td>\n",
       "      <td>دبي، الإمارات العربية المتحدة (CNN) -- نشر الن...</td>\n",
       "      <td>cnn</td>\n",
       "      <td>https://www.cnn.com/</td>\n",
       "      <td>03-21-23</td>\n",
       "    </tr>\n",
       "  </tbody>\n",
       "</table>\n",
       "</div>"
      ],
      "text/plain": [
       "                                               headline         publish_date  \\\n",
       "4471  New Mexico community to resume police services...                  NaT   \n",
       "4250  Myke Towers rinde homenaje a Don Omar y Tego C...  2023-03-27 00:00:00   \n",
       "4156           What’s in Our Queue? ‘Industry’ and More  2023-03-09 00:00:00   \n",
       "4125  Twitter Says Parts of Its Source Code Were Lea...  2023-03-26 00:00:00   \n",
       "73       في عيد الأم.. محمد صلاح في ظهور جديد مع والديه  2023-03-21 00:00:00   \n",
       "\n",
       "                                                content  \\\n",
       "4471  Residents of a small northern New Mexico commu...   \n",
       "4250  Myke Towers lanzará su cuarto álbum de estudio...   \n",
       "4156  What’s in Our Queue? ‘Industry’ and More\\n\\nI’...   \n",
       "4125  Parts of Twitter’s source code, the underlying...   \n",
       "73    دبي، الإمارات العربية المتحدة (CNN) -- نشر الن...   \n",
       "\n",
       "                      authors  \\\n",
       "4471                       []   \n",
       "4250                       []   \n",
       "4156            [John Eligon]   \n",
       "4125  [Ryan Mac, Kate Conger]   \n",
       "73                         []   \n",
       "\n",
       "                                               keywords  \\\n",
       "4471  [resume, residents, mexico, taos, officers, sh...   \n",
       "4250  [nuevo, video, vendrá, tego, rinde, towers, qu...   \n",
       "4156  [whats, understand, media, queue, industry, mo...   \n",
       "4125  [twitter, online, underlying, filing, source, ...   \n",
       "73    [عيد, في, من, العربية, جديد, صلاح, الفراعنة, و...   \n",
       "\n",
       "                                                summary   source  \\\n",
       "4471  Residents of a small northern New Mexico commu...  foxnews   \n",
       "4250  Myke Towers lanzará su cuarto álbum de estudio...      cnn   \n",
       "4156  What’s in Our Queue?\\n‘Industry’ and MoreI’m t...  nytimes   \n",
       "4125  Parts of Twitter’s source code, the underlying...  nytimes   \n",
       "73    دبي، الإمارات العربية المتحدة (CNN) -- نشر الن...      cnn   \n",
       "\n",
       "                           url date_pulled  \n",
       "4471  https://www.foxnews.com/    03-27-23  \n",
       "4250      https://www.cnn.com/    03-27-23  \n",
       "4156  https://www.nytimes.com/    03-26-23  \n",
       "4125  https://www.nytimes.com/    03-26-23  \n",
       "73        https://www.cnn.com/    03-21-23  "
      ]
     },
     "execution_count": 50,
     "metadata": {},
     "output_type": "execute_result"
    }
   ],
   "source": [
    "df = pd.read_pickle(NEWS_SAVE_FILE)\n",
    "print(df.shape)\n",
    "df.sample(5)"
   ]
  },
  {
   "cell_type": "code",
   "execution_count": 51,
   "metadata": {},
   "outputs": [
    {
     "data": {
      "text/html": [
       "<div>\n",
       "<style scoped>\n",
       "    .dataframe tbody tr th:only-of-type {\n",
       "        vertical-align: middle;\n",
       "    }\n",
       "\n",
       "    .dataframe tbody tr th {\n",
       "        vertical-align: top;\n",
       "    }\n",
       "\n",
       "    .dataframe thead th {\n",
       "        text-align: right;\n",
       "    }\n",
       "</style>\n",
       "<table border=\"1\" class=\"dataframe\">\n",
       "  <thead>\n",
       "    <tr style=\"text-align: right;\">\n",
       "      <th></th>\n",
       "      <th>headline</th>\n",
       "      <th>publish_date</th>\n",
       "      <th>content</th>\n",
       "      <th>authors</th>\n",
       "      <th>keywords</th>\n",
       "      <th>summary</th>\n",
       "      <th>source</th>\n",
       "      <th>url</th>\n",
       "      <th>date_pulled</th>\n",
       "      <th>language</th>\n",
       "    </tr>\n",
       "  </thead>\n",
       "  <tbody>\n",
       "    <tr>\n",
       "      <th>0</th>\n",
       "      <td>Amritpal Singh: India cuts internet to 27 mill...</td>\n",
       "      <td>2023-03-20 00:00:00</td>\n",
       "      <td>CNN —\\n\\nIndian authorities have blocked inter...</td>\n",
       "      <td>[Rhea Mogul]</td>\n",
       "      <td>[separatist, singh, million, state, indian, si...</td>\n",
       "      <td>Police and paramilitary troops were deployed a...</td>\n",
       "      <td>cnn</td>\n",
       "      <td>https://www.cnn.com/</td>\n",
       "      <td>03-21-23</td>\n",
       "      <td>en</td>\n",
       "    </tr>\n",
       "    <tr>\n",
       "      <th>1</th>\n",
       "      <td>India on alert for new variants as Covid wave ...</td>\n",
       "      <td>2022-12-22 00:00:00</td>\n",
       "      <td>New Delhi CNN —\\n\\nIndia’s health minister has...</td>\n",
       "      <td>[Swati Gupta Rhea Mogul, Swati Gupta, Rhea Mogul]</td>\n",
       "      <td>[variants, mandaviya, situation, wave, masks, ...</td>\n",
       "      <td>New Delhi CNN —India’s health minister has adv...</td>\n",
       "      <td>cnn</td>\n",
       "      <td>https://www.cnn.com/</td>\n",
       "      <td>03-21-23</td>\n",
       "      <td>en</td>\n",
       "    </tr>\n",
       "    <tr>\n",
       "      <th>2</th>\n",
       "      <td>Evan Corcoran: Trump legal team asks appeals c...</td>\n",
       "      <td>2023-03-21 00:00:00</td>\n",
       "      <td>1. How relevant is this ad to you?\\n\\nVideo pl...</td>\n",
       "      <td>[Kaitlan Collins Katelyn Polantz, Kaitlan Coll...</td>\n",
       "      <td>[testimony, player, team, slow, content, legal...</td>\n",
       "      <td>How relevant is this ad to you?\\nVideo player ...</td>\n",
       "      <td>cnn</td>\n",
       "      <td>https://www.cnn.com/</td>\n",
       "      <td>03-21-23</td>\n",
       "      <td>en</td>\n",
       "    </tr>\n",
       "    <tr>\n",
       "      <th>3</th>\n",
       "      <td>Bruce Springsteen, Gladys Knight among group h...</td>\n",
       "      <td>2023-03-20 00:00:00</td>\n",
       "      <td>CNN —\\n\\nSongstress Gladys Knight, actress Min...</td>\n",
       "      <td>[Maegan Vazquez Nikki Carvajal, Maegan Vazquez...</td>\n",
       "      <td>[gladys, received, ceremony, groups, honored, ...</td>\n",
       "      <td>“We’re a nation, a great nation, in large part...</td>\n",
       "      <td>cnn</td>\n",
       "      <td>https://www.cnn.com/</td>\n",
       "      <td>03-21-23</td>\n",
       "      <td>en</td>\n",
       "    </tr>\n",
       "    <tr>\n",
       "      <th>4</th>\n",
       "      <td>US to send Patriot missile systems to Ukraine ...</td>\n",
       "      <td>2023-03-21 00:00:00</td>\n",
       "      <td>Fort Sill, Oklahoma CNN —\\n\\nUS Patriot missil...</td>\n",
       "      <td>[Natasha Bertrand Haley Britzky, Natasha Bertr...</td>\n",
       "      <td>[faster, training, tanks, systems, patriot, uk...</td>\n",
       "      <td>Fort Sill, Oklahoma CNN —US Patriot missile de...</td>\n",
       "      <td>cnn</td>\n",
       "      <td>https://www.cnn.com/</td>\n",
       "      <td>03-21-23</td>\n",
       "      <td>en</td>\n",
       "    </tr>\n",
       "    <tr>\n",
       "      <th>...</th>\n",
       "      <td>...</td>\n",
       "      <td>...</td>\n",
       "      <td>...</td>\n",
       "      <td>...</td>\n",
       "      <td>...</td>\n",
       "      <td>...</td>\n",
       "      <td>...</td>\n",
       "      <td>...</td>\n",
       "      <td>...</td>\n",
       "      <td>...</td>\n",
       "    </tr>\n",
       "    <tr>\n",
       "      <th>4540</th>\n",
       "      <td>Garlic Chicken With Guasacaca Sauce Recipe</td>\n",
       "      <td>NaT</td>\n",
       "      <td>Step 1 Heat oven to 425 degrees. In a medium b...</td>\n",
       "      <td>[Sam Sifton, Alexa Weibel, Von Diaz, Maricel P...</td>\n",
       "      <td>[¼, bowl, recipe, sheet, garlic, oil, remainin...</td>\n",
       "      <td>In a medium bowl, combine ¼ cup oil and grate ...</td>\n",
       "      <td>nytimes</td>\n",
       "      <td>https://www.nytimes.com/</td>\n",
       "      <td>03-27-23</td>\n",
       "      <td>en</td>\n",
       "    </tr>\n",
       "    <tr>\n",
       "      <th>4541</th>\n",
       "      <td>Cauliflower Shawarma With Spicy Tahini Recipe</td>\n",
       "      <td>NaT</td>\n",
       "      <td>Step 1 Arrange racks in the upper and lower th...</td>\n",
       "      <td>[Eric Kim, Kay Chun, Nargisse Benkabbou, J. Ke...</td>\n",
       "      <td>[water, spicy, recipe, taste, oven, tahini, wh...</td>\n",
       "      <td>Step 2 Prepare the cauliflower: In a large bow...</td>\n",
       "      <td>nytimes</td>\n",
       "      <td>https://www.nytimes.com/</td>\n",
       "      <td>03-27-23</td>\n",
       "      <td>en</td>\n",
       "    </tr>\n",
       "    <tr>\n",
       "      <th>4542</th>\n",
       "      <td>Restoring a Giant Plane: Ukrainian Resilience ...</td>\n",
       "      <td>2023-03-27 00:00:00</td>\n",
       "      <td>Russian troops crossed the border in the pre-d...</td>\n",
       "      <td>[Andrew E. Kramer]</td>\n",
       "      <td>[world, giant, water, airport, resilience, res...</td>\n",
       "      <td>Russian troops crossed the border in the pre-d...</td>\n",
       "      <td>nytimes</td>\n",
       "      <td>https://www.nytimes.com/</td>\n",
       "      <td>03-27-23</td>\n",
       "      <td>en</td>\n",
       "    </tr>\n",
       "    <tr>\n",
       "      <th>4543</th>\n",
       "      <td>The Latest: War in Ukraine Ukraine Receives Ne...</td>\n",
       "      <td>2023-03-27 00:00:00</td>\n",
       "      <td>President Volodymyr Zelensky of Ukraine, left,...</td>\n",
       "      <td>[Carly Olson]</td>\n",
       "      <td>[germany, battle, grossi, mr, forces, tanks, z...</td>\n",
       "      <td>President Volodymyr Zelensky of Ukraine, left,...</td>\n",
       "      <td>nytimes</td>\n",
       "      <td>https://www.nytimes.com/</td>\n",
       "      <td>03-27-23</td>\n",
       "      <td>en</td>\n",
       "    </tr>\n",
       "    <tr>\n",
       "      <th>4544</th>\n",
       "      <td>Chicago’s Mayoral Race Pits the Teachers Union...</td>\n",
       "      <td>2023-03-27 00:00:00</td>\n",
       "      <td>CHICAGO — When Bobby L. Rush, the Black Panthe...</td>\n",
       "      <td>[Jonathan Weisman]</td>\n",
       "      <td>[teachers, race, fraternal, vallas, mr, mayora...</td>\n",
       "      <td>CHICAGO — When Bobby L. Rush, the Black Panthe...</td>\n",
       "      <td>nytimes</td>\n",
       "      <td>https://www.nytimes.com/</td>\n",
       "      <td>03-27-23</td>\n",
       "      <td>en</td>\n",
       "    </tr>\n",
       "  </tbody>\n",
       "</table>\n",
       "<p>4545 rows × 10 columns</p>\n",
       "</div>"
      ],
      "text/plain": [
       "                                               headline         publish_date  \\\n",
       "0     Amritpal Singh: India cuts internet to 27 mill...  2023-03-20 00:00:00   \n",
       "1     India on alert for new variants as Covid wave ...  2022-12-22 00:00:00   \n",
       "2     Evan Corcoran: Trump legal team asks appeals c...  2023-03-21 00:00:00   \n",
       "3     Bruce Springsteen, Gladys Knight among group h...  2023-03-20 00:00:00   \n",
       "4     US to send Patriot missile systems to Ukraine ...  2023-03-21 00:00:00   \n",
       "...                                                 ...                  ...   \n",
       "4540         Garlic Chicken With Guasacaca Sauce Recipe                  NaT   \n",
       "4541      Cauliflower Shawarma With Spicy Tahini Recipe                  NaT   \n",
       "4542  Restoring a Giant Plane: Ukrainian Resilience ...  2023-03-27 00:00:00   \n",
       "4543  The Latest: War in Ukraine Ukraine Receives Ne...  2023-03-27 00:00:00   \n",
       "4544  Chicago’s Mayoral Race Pits the Teachers Union...  2023-03-27 00:00:00   \n",
       "\n",
       "                                                content  \\\n",
       "0     CNN —\\n\\nIndian authorities have blocked inter...   \n",
       "1     New Delhi CNN —\\n\\nIndia’s health minister has...   \n",
       "2     1. How relevant is this ad to you?\\n\\nVideo pl...   \n",
       "3     CNN —\\n\\nSongstress Gladys Knight, actress Min...   \n",
       "4     Fort Sill, Oklahoma CNN —\\n\\nUS Patriot missil...   \n",
       "...                                                 ...   \n",
       "4540  Step 1 Heat oven to 425 degrees. In a medium b...   \n",
       "4541  Step 1 Arrange racks in the upper and lower th...   \n",
       "4542  Russian troops crossed the border in the pre-d...   \n",
       "4543  President Volodymyr Zelensky of Ukraine, left,...   \n",
       "4544  CHICAGO — When Bobby L. Rush, the Black Panthe...   \n",
       "\n",
       "                                                authors  \\\n",
       "0                                          [Rhea Mogul]   \n",
       "1     [Swati Gupta Rhea Mogul, Swati Gupta, Rhea Mogul]   \n",
       "2     [Kaitlan Collins Katelyn Polantz, Kaitlan Coll...   \n",
       "3     [Maegan Vazquez Nikki Carvajal, Maegan Vazquez...   \n",
       "4     [Natasha Bertrand Haley Britzky, Natasha Bertr...   \n",
       "...                                                 ...   \n",
       "4540  [Sam Sifton, Alexa Weibel, Von Diaz, Maricel P...   \n",
       "4541  [Eric Kim, Kay Chun, Nargisse Benkabbou, J. Ke...   \n",
       "4542                                 [Andrew E. Kramer]   \n",
       "4543                                      [Carly Olson]   \n",
       "4544                                 [Jonathan Weisman]   \n",
       "\n",
       "                                               keywords  \\\n",
       "0     [separatist, singh, million, state, indian, si...   \n",
       "1     [variants, mandaviya, situation, wave, masks, ...   \n",
       "2     [testimony, player, team, slow, content, legal...   \n",
       "3     [gladys, received, ceremony, groups, honored, ...   \n",
       "4     [faster, training, tanks, systems, patriot, uk...   \n",
       "...                                                 ...   \n",
       "4540  [¼, bowl, recipe, sheet, garlic, oil, remainin...   \n",
       "4541  [water, spicy, recipe, taste, oven, tahini, wh...   \n",
       "4542  [world, giant, water, airport, resilience, res...   \n",
       "4543  [germany, battle, grossi, mr, forces, tanks, z...   \n",
       "4544  [teachers, race, fraternal, vallas, mr, mayora...   \n",
       "\n",
       "                                                summary   source  \\\n",
       "0     Police and paramilitary troops were deployed a...      cnn   \n",
       "1     New Delhi CNN —India’s health minister has adv...      cnn   \n",
       "2     How relevant is this ad to you?\\nVideo player ...      cnn   \n",
       "3     “We’re a nation, a great nation, in large part...      cnn   \n",
       "4     Fort Sill, Oklahoma CNN —US Patriot missile de...      cnn   \n",
       "...                                                 ...      ...   \n",
       "4540  In a medium bowl, combine ¼ cup oil and grate ...  nytimes   \n",
       "4541  Step 2 Prepare the cauliflower: In a large bow...  nytimes   \n",
       "4542  Russian troops crossed the border in the pre-d...  nytimes   \n",
       "4543  President Volodymyr Zelensky of Ukraine, left,...  nytimes   \n",
       "4544  CHICAGO — When Bobby L. Rush, the Black Panthe...  nytimes   \n",
       "\n",
       "                           url date_pulled language  \n",
       "0         https://www.cnn.com/    03-21-23       en  \n",
       "1         https://www.cnn.com/    03-21-23       en  \n",
       "2         https://www.cnn.com/    03-21-23       en  \n",
       "3         https://www.cnn.com/    03-21-23       en  \n",
       "4         https://www.cnn.com/    03-21-23       en  \n",
       "...                        ...         ...      ...  \n",
       "4540  https://www.nytimes.com/    03-27-23       en  \n",
       "4541  https://www.nytimes.com/    03-27-23       en  \n",
       "4542  https://www.nytimes.com/    03-27-23       en  \n",
       "4543  https://www.nytimes.com/    03-27-23       en  \n",
       "4544  https://www.nytimes.com/    03-27-23       en  \n",
       "\n",
       "[4545 rows x 10 columns]"
      ]
     },
     "execution_count": 51,
     "metadata": {},
     "output_type": "execute_result"
    }
   ],
   "source": [
    "df['language'] = df['headline'].apply(detect)\n",
    "df = df[df['language']=='en']\n",
    "df.reset_index(inplace=True, drop=True)\n",
    "df"
   ]
  },
  {
   "cell_type": "code",
   "execution_count": 59,
   "metadata": {},
   "outputs": [
    {
     "data": {
      "text/plain": [
       "792"
      ]
     },
     "execution_count": 59,
     "metadata": {},
     "output_type": "execute_result"
    }
   ],
   "source": [
    "additional_stopwords = []\n",
    "with open('data/stopwords.txt', 'r') as f:\n",
    "    for line in f:\n",
    "        additional_stopwords.append(line.strip())\n",
    "default_stopwords = nltk.corpus.stopwords.words(\"english\")\n",
    "\n",
    "stopwords = list(set(default_stopwords + additional_stopwords))\n",
    "len(stopwords)"
   ]
  },
  {
   "cell_type": "code",
   "execution_count": 60,
   "metadata": {},
   "outputs": [],
   "source": [
    "def text_pre_process_pipeline(text, stopwords):\n",
    "    tokens = word_tokenize(text)\n",
    "    tokens = [token.lower() for token in tokens if (token.isalpha() and token not in stopwords)] #gets rid of punctuation and also transforms to lower case\n",
    "    return tokens"
   ]
  },
  {
   "attachments": {},
   "cell_type": "markdown",
   "metadata": {},
   "source": [
    "Data pre-processing needed for headlines:\n",
    "- tokenize the text\n",
    "- \".isalpha()\" to get ride of punctuation and such\n",
    "- \".lower()\" to unify case\n",
    "- get rid of stop words\n",
    "- "
   ]
  },
  {
   "cell_type": "code",
   "execution_count": 61,
   "metadata": {},
   "outputs": [],
   "source": [
    "df['tokenized_headline'] = df['headline'].apply(lambda text: text_pre_process_pipeline(text, stopwords))"
   ]
  },
  {
   "cell_type": "code",
   "execution_count": 62,
   "metadata": {},
   "outputs": [],
   "source": [
    "all_tokens = df['tokenized_headline'].explode().tolist()"
   ]
  },
  {
   "cell_type": "code",
   "execution_count": 63,
   "metadata": {},
   "outputs": [
    {
     "name": "stdout",
     "output_type": "stream",
     "text": [
      "[('video', 357), ('the', 277), ('trump', 246), ('new', 234), ('says', 194), ('what', 189), ('how', 152), ('us', 145), ('school', 127), ('tiktok', 125)]\n"
     ]
    }
   ],
   "source": [
    "fdist = FreqDist(all_tokens)\n",
    "print(fdist.most_common(10))"
   ]
  },
  {
   "cell_type": "code",
   "execution_count": 2,
   "metadata": {},
   "outputs": [],
   "source": [
    "sentiment_model = SentimentIntensityAnalyzer()"
   ]
  },
  {
   "cell_type": "code",
   "execution_count": 3,
   "metadata": {},
   "outputs": [
    {
     "data": {
      "text/plain": [
       "{'neg': 0.0, 'neu': 0.295, 'pos': 0.705, 'compound': 0.8012}"
      ]
     },
     "execution_count": 3,
     "metadata": {},
     "output_type": "execute_result"
    }
   ],
   "source": [
    "sentiment_model.polarity_scores(\"Wow, NLTK is really powerful!\")"
   ]
  },
  {
   "cell_type": "code",
   "execution_count": 4,
   "metadata": {},
   "outputs": [],
   "source": [
    "def is_positive(text: str, model) -> bool:\n",
    "    \"\"\"True if text has positive compound sentiment, False otherwise.\n",
    "    \n",
    "    Parameters:\n",
    "    -----------\n",
    "    text : string of text to determine if it is positive or not.\n",
    "    model : an instance of NLTK SentimentIntensityAnalyzer()\n",
    "    \n",
    "    \n",
    "    \"\"\"\n",
    "    return sentiment_model.polarity_scores(text)[\"compound\"] > 0"
   ]
  },
  {
   "cell_type": "code",
   "execution_count": 6,
   "metadata": {},
   "outputs": [],
   "source": [
    "doc_ids = nltk.corpus.reuters.fileids()"
   ]
  },
  {
   "cell_type": "code",
   "execution_count": 15,
   "metadata": {},
   "outputs": [],
   "source": []
  },
  {
   "cell_type": "code",
   "execution_count": 16,
   "metadata": {},
   "outputs": [],
   "source": [
    "documents = [word_tokenize(nltk.corpus.reuters.raw(doc_id)) for doc_id in doc_ids]"
   ]
  },
  {
   "cell_type": "code",
   "execution_count": 22,
   "metadata": {},
   "outputs": [
    {
     "data": {
      "text/plain": [
       "1548375"
      ]
     },
     "execution_count": 22,
     "metadata": {},
     "output_type": "execute_result"
    }
   ],
   "source": [
    "words = []\n",
    "for doc in documents:\n",
    "    words.extend(doc)\n",
    "len(words)"
   ]
  },
  {
   "cell_type": "code",
   "execution_count": 26,
   "metadata": {},
   "outputs": [
    {
     "data": {
      "text/plain": [
       "179"
      ]
     },
     "execution_count": 26,
     "metadata": {},
     "output_type": "execute_result"
    }
   ],
   "source": []
  },
  {
   "cell_type": "code",
   "execution_count": 35,
   "metadata": {},
   "outputs": [],
   "source": []
  },
  {
   "cell_type": "code",
   "execution_count": null,
   "metadata": {},
   "outputs": [],
   "source": []
  },
  {
   "cell_type": "code",
   "execution_count": null,
   "metadata": {},
   "outputs": [],
   "source": []
  },
  {
   "cell_type": "code",
   "execution_count": null,
   "metadata": {},
   "outputs": [],
   "source": []
  },
  {
   "cell_type": "code",
   "execution_count": null,
   "metadata": {},
   "outputs": [],
   "source": []
  }
 ],
 "metadata": {
  "kernelspec": {
   "display_name": "capenv",
   "language": "python",
   "name": "python3"
  },
  "language_info": {
   "codemirror_mode": {
    "name": "ipython",
    "version": 3
   },
   "file_extension": ".py",
   "mimetype": "text/x-python",
   "name": "python",
   "nbconvert_exporter": "python",
   "pygments_lexer": "ipython3",
   "version": "3.8.8"
  },
  "orig_nbformat": 4
 },
 "nbformat": 4,
 "nbformat_minor": 2
}
