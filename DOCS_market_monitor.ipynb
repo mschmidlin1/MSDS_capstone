{
 "cells": [
  {
   "cell_type": "code",
   "execution_count": 1,
   "metadata": {},
   "outputs": [],
   "source": [
    "%load_ext autoreload\n",
    "%autoreload 2"
   ]
  },
  {
   "cell_type": "code",
   "execution_count": 8,
   "metadata": {},
   "outputs": [],
   "source": [
    "import time\n",
    "from configs import TIMEZONE, LOG_FILE_NAME, set_logger\n",
    "from datetime import datetime, date\n",
    "import pytz\n",
    "import pandas as pd\n",
    "import numpy as np\n",
    "from alpaca.trading.client import TradingClient\n",
    "from alpaca.trading.requests import MarketOrderRequest\n",
    "from alpaca.trading.enums import OrderSide, TimeInForce\n",
    "from alpaca.trading.requests import GetAssetsRequest\n",
    "from alpaca.data.historical import StockHistoricalDataClient, CryptoHistoricalDataClient\n",
    "from alpaca.data.requests import StockLatestQuoteRequest, StockBarsRequest, CryptoLatestQuoteRequest\n",
    "from alpaca.data.requests import CryptoBarsRequest\n",
    "from alpaca.trading.models import Order\n",
    "from alpaca.data.timeframe import TimeFrame\n",
    "from my_secrets import ALPACA_API_BASE_URL, PAPER_API_ID, PAPER_SECRET_KEY\n",
    "import logging\n",
    "set_logger()"
   ]
  },
  {
   "cell_type": "code",
   "execution_count": 3,
   "metadata": {},
   "outputs": [],
   "source": [
    "from Trade_Class import Stock_Trader, Crypto_Trader\n",
    "from Market_Monitor import Market_Monitor"
   ]
  },
  {
   "attachments": {},
   "cell_type": "markdown",
   "metadata": {},
   "source": [
    "### Instantiate `Market_Monitor`. \n",
    "\n",
    "The `Market_Monitor` requires the `TradingClient` so that also must be instantiated. In this case we will use the `Stock_Trader` to instatiate the `TradingClient` within and then pass it to `Market_Monitor` so they are running on the same instance."
   ]
  },
  {
   "cell_type": "code",
   "execution_count": 4,
   "metadata": {},
   "outputs": [
    {
     "name": "stderr",
     "output_type": "stream",
     "text": [
      "Instance of Trader() class created.\n",
      "Instance of Trader() class created.\n",
      "Instance of Trader() class created.\n",
      "Instace of Stock_Trader() class created.\n",
      "Instace of Stock_Trader() class created.\n",
      "Instace of Stock_Trader() class created.\n",
      "Starting new HTTPS connection (1): paper-api.alpaca.markets:443\n",
      "Starting new HTTPS connection (1): paper-api.alpaca.markets:443\n",
      "Starting new HTTPS connection (1): paper-api.alpaca.markets:443\n",
      "https://paper-api.alpaca.markets:443 \"GET /v2/assets?asset_class=us_equity HTTP/1.1\" 200 None\n",
      "https://paper-api.alpaca.markets:443 \"GET /v2/assets?asset_class=us_equity HTTP/1.1\" 200 None\n",
      "https://paper-api.alpaca.markets:443 \"GET /v2/assets?asset_class=us_equity HTTP/1.1\" 200 None\n",
      "https://paper-api.alpaca.markets:443 \"GET /v2/clock HTTP/1.1\" 200 148\n",
      "https://paper-api.alpaca.markets:443 \"GET /v2/clock HTTP/1.1\" 200 148\n",
      "https://paper-api.alpaca.markets:443 \"GET /v2/clock HTTP/1.1\" 200 148\n",
      "https://paper-api.alpaca.markets:443 \"GET /v2/calendar HTTP/1.1\" 200 None\n",
      "https://paper-api.alpaca.markets:443 \"GET /v2/calendar HTTP/1.1\" 200 None\n",
      "https://paper-api.alpaca.markets:443 \"GET /v2/calendar HTTP/1.1\" 200 None\n"
     ]
    }
   ],
   "source": [
    "stock_trader = Stock_Trader(PAPER_API_ID, PAPER_SECRET_KEY, paper=True)\n",
    "monitor = Market_Monitor(stock_trader.trading_client, TIMEZONE)"
   ]
  },
  {
   "attachments": {},
   "cell_type": "markdown",
   "metadata": {},
   "source": [
    "### Using `.is_market_open()`."
   ]
  },
  {
   "cell_type": "code",
   "execution_count": 5,
   "metadata": {},
   "outputs": [
    {
     "name": "stderr",
     "output_type": "stream",
     "text": [
      "https://paper-api.alpaca.markets:443 \"GET /v2/clock HTTP/1.1\" 200 148\n",
      "https://paper-api.alpaca.markets:443 \"GET /v2/clock HTTP/1.1\" 200 148\n",
      "https://paper-api.alpaca.markets:443 \"GET /v2/clock HTTP/1.1\" 200 148\n",
      "https://paper-api.alpaca.markets:443 \"GET /v2/calendar HTTP/1.1\" 200 None\n",
      "https://paper-api.alpaca.markets:443 \"GET /v2/calendar HTTP/1.1\" 200 None\n",
      "https://paper-api.alpaca.markets:443 \"GET /v2/calendar HTTP/1.1\" 200 None\n"
     ]
    },
    {
     "data": {
      "text/plain": [
       "False"
      ]
     },
     "execution_count": 5,
     "metadata": {},
     "output_type": "execute_result"
    }
   ],
   "source": [
    "monitor.is_market_open()"
   ]
  },
  {
   "attachments": {},
   "cell_type": "markdown",
   "metadata": {},
   "source": [
    "### Use `.next_open` and `.next_close` properties to check on the market"
   ]
  },
  {
   "cell_type": "code",
   "execution_count": 6,
   "metadata": {},
   "outputs": [
    {
     "data": {
      "text/plain": [
       "datetime.datetime(2023, 2, 13, 9, 30, tzinfo=datetime.timezone(datetime.timedelta(days=-1, seconds=68400)))"
      ]
     },
     "execution_count": 6,
     "metadata": {},
     "output_type": "execute_result"
    }
   ],
   "source": [
    "monitor.next_open"
   ]
  },
  {
   "cell_type": "code",
   "execution_count": 7,
   "metadata": {},
   "outputs": [
    {
     "data": {
      "text/plain": [
       "datetime.datetime(2023, 2, 13, 16, 0, tzinfo=datetime.timezone(datetime.timedelta(days=-1, seconds=68400)))"
      ]
     },
     "execution_count": 7,
     "metadata": {},
     "output_type": "execute_result"
    }
   ],
   "source": [
    "monitor.next_close"
   ]
  },
  {
   "attachments": {},
   "cell_type": "markdown",
   "metadata": {},
   "source": [
    "### Using `.market_closed_loop()`."
   ]
  },
  {
   "cell_type": "code",
   "execution_count": 6,
   "metadata": {},
   "outputs": [],
   "source": [
    "monitor.market_closed_loop()"
   ]
  },
  {
   "attachments": {},
   "cell_type": "markdown",
   "metadata": {},
   "source": [
    "### `.trading_date()`"
   ]
  },
  {
   "cell_type": "code",
   "execution_count": 10,
   "metadata": {},
   "outputs": [
    {
     "data": {
      "text/plain": [
       "True"
      ]
     },
     "execution_count": 10,
     "metadata": {},
     "output_type": "execute_result"
    }
   ],
   "source": [
    "monitor.trading_date(date=date(year=2001, month=3, day=23))"
   ]
  }
 ],
 "metadata": {
  "kernelspec": {
   "display_name": "capenv",
   "language": "python",
   "name": "python3"
  },
  "language_info": {
   "codemirror_mode": {
    "name": "ipython",
    "version": 3
   },
   "file_extension": ".py",
   "mimetype": "text/x-python",
   "name": "python",
   "nbconvert_exporter": "python",
   "pygments_lexer": "ipython3",
   "version": "3.8.8"
  },
  "orig_nbformat": 4,
  "vscode": {
   "interpreter": {
    "hash": "462b05c1d6884d74e4190996522791c5c80e16a9d739d4e011be9ff74c38056f"
   }
  }
 },
 "nbformat": 4,
 "nbformat_minor": 2
}
