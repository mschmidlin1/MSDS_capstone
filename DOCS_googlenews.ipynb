{
 "cells": [
  {
   "cell_type": "code",
   "execution_count": 115,
   "metadata": {},
   "outputs": [],
   "source": [
    "from newspaper import Article\n",
    "import newspaper\n",
    "import pandas as pd\n",
    "import numpy as np\n",
    "import datetime\n",
    "import os"
   ]
  },
  {
   "cell_type": "code",
   "execution_count": 86,
   "metadata": {},
   "outputs": [],
   "source": [
    "def scrape_news_website(website_url):\n",
    "    paper = newspaper.build(website_url)\n",
    "    num_articles_found = len(paper.articles)\n",
    "    #print(\"number found: \",num_articles_found)\n",
    "    article_dict = {\n",
    "        'headline': [],\n",
    "        'publish_date': [],\n",
    "        'content': [],\n",
    "        'authors': [],\n",
    "        'keywords': [],\n",
    "        'summary': []\n",
    "    }\n",
    "    for i, paper_article in enumerate(paper.articles):\n",
    "        print(f\"{i+1}/{num_articles_found}\", end=\"\\r\")\n",
    "        try:\n",
    "            article = Article(paper_article.url)\n",
    "        except AttributeError as e:\n",
    "            continue\n",
    "        article.download()\n",
    "        try:\n",
    "            article.parse()\n",
    "        except Exception as e:\n",
    "            continue \n",
    "        article_dict['headline'].append(article.title)\n",
    "        article_dict['date'].append(article.publish_date)\n",
    "        article_dict['content'].append(article.text)\n",
    "        article_dict['authors'].append(article.authors)\n",
    "        try:\n",
    "            article.nlp()\n",
    "            article_dict['keywords'].append(article.keywords)\n",
    "            article_dict['summary'].append(article.summary)\n",
    "        except Exception as e:\n",
    "            article_dict['keywords'].append(np.nan)\n",
    "            article_dict['summary'].append(np.nan)\n",
    "        \n",
    "\n",
    "    df = pd.DataFrame(article_dict)\n",
    "    return df\n"
   ]
  },
  {
   "cell_type": "code",
   "execution_count": 94,
   "metadata": {},
   "outputs": [],
   "source": [
    "news_urls = [\n",
    "    \"https://news.google.com/home?hl=en-US&gl=US&ceid=US:en\",\n",
    "    \"https://www.cnn.com/\",\n",
    "    \"https://www.nbcnews.com/\",\n",
    "    \"https://www.foxnews.com/\",\n",
    "    \"https://apnews.com/\",\n",
    "    \"https://www.vox.com/\",\n",
    "    \"https://time.com/\",\n",
    "    \"https://www.washingtonpost.com/\",\n",
    "    \"https://www.usatoday.com/\",\n",
    "    \"https://abcnews.go.com/\",\n",
    "    \"https://www.wsj.com/news/world?gclid=Cj0KCQiA6rCgBhDVARIsAK1kGPJMbSU0Bd_RBeUkLv3YVhPk6G0yc9cZiVGv7FFrXKyH2-jFcIjZbq4aAumbEALw_wcB&mod=djmc_DGWorld&gclsrc=aw.ds&ef_id=YNEdOwAAABkp53MD:20230312011148:s\",\n",
    "    \"https://www.npr.org/sections/news/\",\n",
    "    \"https://www.usnews.com/\",\n",
    "    \"https://www.nytimes.com/\"]"
   ]
  },
  {
   "cell_type": "code",
   "execution_count": 112,
   "metadata": {},
   "outputs": [],
   "source": [
    "def extract_names(news_urls):\n",
    "    news_names = []\n",
    "    for url in news_urls:\n",
    "        if \"www.\" in url:\n",
    "            website_name = url.split(\".\")[1]\n",
    "        else:\n",
    "            website_name = url.split(\".com\")[0].split(\"//\")[-1]\n",
    "        news_names.append(website_name)\n",
    "    return news_names"
   ]
  },
  {
   "cell_type": "code",
   "execution_count": 113,
   "metadata": {},
   "outputs": [],
   "source": [
    "news_names = extract_names(news_urls)"
   ]
  },
  {
   "cell_type": "code",
   "execution_count": 123,
   "metadata": {},
   "outputs": [],
   "source": [
    "lookup = {name: url for name, url in zip(news_names, news_urls)}"
   ]
  },
  {
   "cell_type": "code",
   "execution_count": 214,
   "metadata": {},
   "outputs": [],
   "source": [
    "def scrape_websites(news_names, news_urls, save_file=\"data/news_data/news_data.pkl\"):\n",
    "\n",
    "    frames = []\n",
    "\n",
    "    for i, (name, url) in enumerate(zip(news_names, news_urls)):\n",
    "        print()\n",
    "        print(f\"Scraping data for {name} ({i+1}/{len(news_names)})\")\n",
    "        news_df = scrape_news_website(url)\n",
    "        news_df['source'] = name\n",
    "        news_df['url'] = url\n",
    "        news_df['date_pulled'] = datetime.date.today().strftime(\"%m-%d-%y\")\n",
    "        print(f\"Found {news_df.shape[0]} usable articles.\")\n",
    "        frames.append(news_df)\n",
    "\n",
    "    if os.path.exists(save_file):\n",
    "        frames.insert(0, pd.read_pickle(save_file))\n",
    "\n",
    "    df = pd.concat(frames)\n",
    "    df.reset_index(inplace=True, drop=True)\n",
    "\n",
    "    df = df[~df.duplicated(subset=['headline', 'publish_date', 'content'], keep='first')] #remove duplicates (leave first instance of duplicate)\n",
    "\n",
    "    df.to_pickle(save_file)"
   ]
  },
  {
   "cell_type": "code",
   "execution_count": 216,
   "metadata": {},
   "outputs": [
    {
     "name": "stdout",
     "output_type": "stream",
     "text": [
      "\n",
      "Scraping data for news.google (1/14)\n",
      "Found 0 usable articles.\n",
      "\n",
      "Scraping data for cnn (2/14)\n",
      "Found 0 usable articles.\n",
      "\n",
      "Scraping data for nbcnews (3/14)\n",
      "Found 0 usable articles.\n",
      "\n",
      "Scraping data for foxnews (4/14)\n",
      "Found 0 usable articles.\n",
      "\n",
      "Scraping data for apnews (5/14)\n",
      "Found 0 usable articles.\n",
      "\n",
      "Scraping data for vox (6/14)\n",
      "Found 0 usable articles.\n",
      "\n",
      "Scraping data for time (7/14)\n",
      "Found 0 usable articles.\n",
      "\n",
      "Scraping data for washingtonpost (8/14)\n",
      "Found 0 usable articles.\n",
      "\n",
      "Scraping data for usatoday (9/14)\n",
      "Found 0 usable articles.\n",
      "\n",
      "Scraping data for abcnews.go (10/14)\n",
      "Found 12 usable articles.\n",
      "\n",
      "Scraping data for wsj (11/14)\n",
      "Found 0 usable articles.\n",
      "\n",
      "Scraping data for npr (12/14)\n",
      "Found 0 usable articles.\n",
      "\n",
      "Scraping data for usnews (13/14)\n",
      "Found 0 usable articles.\n",
      "\n",
      "Scraping data for nytimes (14/14)\n",
      "Found 0 usable articles.\n"
     ]
    }
   ],
   "source": [
    "scrape_websites(news_names, news_urls, save_file=\"data/news_data/news_data.pkl\")"
   ]
  },
  {
   "cell_type": "code",
   "execution_count": null,
   "metadata": {},
   "outputs": [],
   "source": []
  },
  {
   "cell_type": "code",
   "execution_count": 217,
   "metadata": {},
   "outputs": [],
   "source": [
    "df = pd.read_pickle(\"data/news_data/news_data.pkl\")"
   ]
  },
  {
   "cell_type": "code",
   "execution_count": 218,
   "metadata": {},
   "outputs": [
    {
     "data": {
      "text/plain": [
       "(1678, 10)"
      ]
     },
     "execution_count": 218,
     "metadata": {},
     "output_type": "execute_result"
    }
   ],
   "source": [
    "df.shape"
   ]
  },
  {
   "cell_type": "code",
   "execution_count": 219,
   "metadata": {},
   "outputs": [
    {
     "data": {
      "text/html": [
       "<div>\n",
       "<style scoped>\n",
       "    .dataframe tbody tr th:only-of-type {\n",
       "        vertical-align: middle;\n",
       "    }\n",
       "\n",
       "    .dataframe tbody tr th {\n",
       "        vertical-align: top;\n",
       "    }\n",
       "\n",
       "    .dataframe thead th {\n",
       "        text-align: right;\n",
       "    }\n",
       "</style>\n",
       "<table border=\"1\" class=\"dataframe\">\n",
       "  <thead>\n",
       "    <tr style=\"text-align: right;\">\n",
       "      <th></th>\n",
       "      <th>headline</th>\n",
       "      <th>publish_date</th>\n",
       "      <th>content</th>\n",
       "      <th>authors</th>\n",
       "      <th>keywords</th>\n",
       "      <th>summary</th>\n",
       "      <th>source</th>\n",
       "      <th>url</th>\n",
       "      <th>date_pulled</th>\n",
       "      <th>date</th>\n",
       "    </tr>\n",
       "  </thead>\n",
       "  <tbody>\n",
       "    <tr>\n",
       "      <th>0</th>\n",
       "      <td>Watch ABC News Network Online</td>\n",
       "      <td>NaT</td>\n",
       "      <td>18+ only. Any free trials valid for new and el...</td>\n",
       "      <td>[]</td>\n",
       "      <td>NaN</td>\n",
       "      <td>NaN</td>\n",
       "      <td>abcnews.go</td>\n",
       "      <td>https://abcnews.go.com/</td>\n",
       "      <td>03-11-23</td>\n",
       "      <td>NaN</td>\n",
       "    </tr>\n",
       "    <tr>\n",
       "      <th>1</th>\n",
       "      <td>3 women missing for 2 weeks after traveling fr...</td>\n",
       "      <td>NaT</td>\n",
       "      <td>The women left on Feb. 24 to go to a flea mark...</td>\n",
       "      <td>[Abc News]</td>\n",
       "      <td>NaN</td>\n",
       "      <td>NaN</td>\n",
       "      <td>abcnews.go</td>\n",
       "      <td>https://abcnews.go.com/</td>\n",
       "      <td>03-11-23</td>\n",
       "      <td>NaN</td>\n",
       "    </tr>\n",
       "    <tr>\n",
       "      <th>2</th>\n",
       "      <td>California's Pajaro River breaches overnight, ...</td>\n",
       "      <td>NaT</td>\n",
       "      <td>Dozens of water rescues have been conducted af...</td>\n",
       "      <td>[Abc News]</td>\n",
       "      <td>NaN</td>\n",
       "      <td>NaN</td>\n",
       "      <td>abcnews.go</td>\n",
       "      <td>https://abcnews.go.com/</td>\n",
       "      <td>03-11-23</td>\n",
       "      <td>NaN</td>\n",
       "    </tr>\n",
       "    <tr>\n",
       "      <th>3</th>\n",
       "      <td>Paul Flores sentenced to 25 years to life for ...</td>\n",
       "      <td>NaT</td>\n",
       "      <td>Paul Flores was sentenced Friday to 25 years t...</td>\n",
       "      <td>[Abc News]</td>\n",
       "      <td>NaN</td>\n",
       "      <td>NaN</td>\n",
       "      <td>abcnews.go</td>\n",
       "      <td>https://abcnews.go.com/</td>\n",
       "      <td>03-11-23</td>\n",
       "      <td>NaN</td>\n",
       "    </tr>\n",
       "    <tr>\n",
       "      <th>4</th>\n",
       "      <td>One of Silicon Valley's top banks fails; asset...</td>\n",
       "      <td>NaT</td>\n",
       "      <td>Regulators have seized the assets of one of Si...</td>\n",
       "      <td>[Abc News]</td>\n",
       "      <td>NaN</td>\n",
       "      <td>NaN</td>\n",
       "      <td>abcnews.go</td>\n",
       "      <td>https://abcnews.go.com/</td>\n",
       "      <td>03-11-23</td>\n",
       "      <td>NaN</td>\n",
       "    </tr>\n",
       "  </tbody>\n",
       "</table>\n",
       "</div>"
      ],
      "text/plain": [
       "                                            headline publish_date  \\\n",
       "0                      Watch ABC News Network Online          NaT   \n",
       "1  3 women missing for 2 weeks after traveling fr...          NaT   \n",
       "2  California's Pajaro River breaches overnight, ...          NaT   \n",
       "3  Paul Flores sentenced to 25 years to life for ...          NaT   \n",
       "4  One of Silicon Valley's top banks fails; asset...          NaT   \n",
       "\n",
       "                                             content     authors keywords  \\\n",
       "0  18+ only. Any free trials valid for new and el...          []      NaN   \n",
       "1  The women left on Feb. 24 to go to a flea mark...  [Abc News]      NaN   \n",
       "2  Dozens of water rescues have been conducted af...  [Abc News]      NaN   \n",
       "3  Paul Flores was sentenced Friday to 25 years t...  [Abc News]      NaN   \n",
       "4  Regulators have seized the assets of one of Si...  [Abc News]      NaN   \n",
       "\n",
       "  summary      source                      url date_pulled date  \n",
       "0     NaN  abcnews.go  https://abcnews.go.com/    03-11-23  NaN  \n",
       "1     NaN  abcnews.go  https://abcnews.go.com/    03-11-23  NaN  \n",
       "2     NaN  abcnews.go  https://abcnews.go.com/    03-11-23  NaN  \n",
       "3     NaN  abcnews.go  https://abcnews.go.com/    03-11-23  NaN  \n",
       "4     NaN  abcnews.go  https://abcnews.go.com/    03-11-23  NaN  "
      ]
     },
     "execution_count": 219,
     "metadata": {},
     "output_type": "execute_result"
    }
   ],
   "source": [
    "df.head()"
   ]
  },
  {
   "cell_type": "code",
   "execution_count": null,
   "metadata": {},
   "outputs": [],
   "source": []
  },
  {
   "cell_type": "code",
   "execution_count": null,
   "metadata": {},
   "outputs": [],
   "source": []
  },
  {
   "cell_type": "code",
   "execution_count": null,
   "metadata": {},
   "outputs": [],
   "source": []
  },
  {
   "cell_type": "code",
   "execution_count": null,
   "metadata": {},
   "outputs": [],
   "source": []
  },
  {
   "cell_type": "code",
   "execution_count": null,
   "metadata": {},
   "outputs": [],
   "source": []
  },
  {
   "cell_type": "code",
   "execution_count": null,
   "metadata": {},
   "outputs": [],
   "source": []
  },
  {
   "cell_type": "code",
   "execution_count": 212,
   "metadata": {},
   "outputs": [
    {
     "data": {
      "text/plain": [
       "(1671, 10)"
      ]
     },
     "execution_count": 212,
     "metadata": {},
     "output_type": "execute_result"
    }
   ],
   "source": [
    "df.shape"
   ]
  },
  {
   "cell_type": "code",
   "execution_count": 186,
   "metadata": {},
   "outputs": [
    {
     "data": {
      "text/plain": [
       "91"
      ]
     },
     "execution_count": 186,
     "metadata": {},
     "output_type": "execute_result"
    }
   ],
   "source": [
    "df.duplicated(subset=['headline']).sum()"
   ]
  },
  {
   "cell_type": "code",
   "execution_count": 191,
   "metadata": {},
   "outputs": [
    {
     "data": {
      "text/plain": [
       "14"
      ]
     },
     "execution_count": 191,
     "metadata": {},
     "output_type": "execute_result"
    }
   ],
   "source": [
    "len(frames)"
   ]
  },
  {
   "cell_type": "code",
   "execution_count": 193,
   "metadata": {},
   "outputs": [],
   "source": [
    "test_df = pd.concat(frames)"
   ]
  },
  {
   "cell_type": "code",
   "execution_count": 194,
   "metadata": {},
   "outputs": [
    {
     "data": {
      "text/html": [
       "<div>\n",
       "<style scoped>\n",
       "    .dataframe tbody tr th:only-of-type {\n",
       "        vertical-align: middle;\n",
       "    }\n",
       "\n",
       "    .dataframe tbody tr th {\n",
       "        vertical-align: top;\n",
       "    }\n",
       "\n",
       "    .dataframe thead th {\n",
       "        text-align: right;\n",
       "    }\n",
       "</style>\n",
       "<table border=\"1\" class=\"dataframe\">\n",
       "  <thead>\n",
       "    <tr style=\"text-align: right;\">\n",
       "      <th></th>\n",
       "      <th>headline</th>\n",
       "      <th>date</th>\n",
       "      <th>content</th>\n",
       "      <th>authors</th>\n",
       "      <th>keywords</th>\n",
       "      <th>summary</th>\n",
       "      <th>source</th>\n",
       "      <th>url</th>\n",
       "      <th>date_pulled</th>\n",
       "    </tr>\n",
       "  </thead>\n",
       "  <tbody>\n",
       "    <tr>\n",
       "      <th>0</th>\n",
       "      <td>Billionaire Bill Ackman on SVB collapse: Gover...</td>\n",
       "      <td>None</td>\n",
       "      <td>Billionaire investor Bill Ackman wrote a lengt...</td>\n",
       "      <td>[Andrea Vacchiano]</td>\n",
       "      <td>NaN</td>\n",
       "      <td>NaN</td>\n",
       "      <td>foxnews</td>\n",
       "      <td>https://www.foxnews.com/</td>\n",
       "      <td>03-11-23</td>\n",
       "    </tr>\n",
       "    <tr>\n",
       "      <th>1</th>\n",
       "      <td>Billionaire Bill Ackman on SVB collapse: Gover...</td>\n",
       "      <td>None</td>\n",
       "      <td>Billionaire investor Bill Ackman wrote a lengt...</td>\n",
       "      <td>[Andrea Vacchiano]</td>\n",
       "      <td>NaN</td>\n",
       "      <td>NaN</td>\n",
       "      <td>foxnews</td>\n",
       "      <td>https://www.foxnews.com/</td>\n",
       "      <td>03-11-23</td>\n",
       "    </tr>\n",
       "  </tbody>\n",
       "</table>\n",
       "</div>"
      ],
      "text/plain": [
       "                                            headline  date  \\\n",
       "0  Billionaire Bill Ackman on SVB collapse: Gover...  None   \n",
       "1  Billionaire Bill Ackman on SVB collapse: Gover...  None   \n",
       "\n",
       "                                             content             authors  \\\n",
       "0  Billionaire investor Bill Ackman wrote a lengt...  [Andrea Vacchiano]   \n",
       "1  Billionaire investor Bill Ackman wrote a lengt...  [Andrea Vacchiano]   \n",
       "\n",
       "   keywords  summary   source                       url date_pulled  \n",
       "0       NaN      NaN  foxnews  https://www.foxnews.com/    03-11-23  \n",
       "1       NaN      NaN  foxnews  https://www.foxnews.com/    03-11-23  "
      ]
     },
     "execution_count": 194,
     "metadata": {},
     "output_type": "execute_result"
    }
   ],
   "source": [
    "test_df.head()"
   ]
  },
  {
   "cell_type": "code",
   "execution_count": 202,
   "metadata": {},
   "outputs": [
    {
     "data": {
      "text/plain": [
       "True"
      ]
     },
     "execution_count": 202,
     "metadata": {},
     "output_type": "execute_result"
    }
   ],
   "source": [
    "test_df.iloc[0]['headline'] in test_df['headline'].values"
   ]
  },
  {
   "cell_type": "code",
   "execution_count": 199,
   "metadata": {},
   "outputs": [
    {
     "data": {
      "text/plain": [
       "0    Billionaire Bill Ackman on SVB collapse: Gover...\n",
       "1    Billionaire Bill Ackman on SVB collapse: Gover...\n",
       "Name: headline, dtype: object"
      ]
     },
     "execution_count": 199,
     "metadata": {},
     "output_type": "execute_result"
    }
   ],
   "source": [
    "test_df['headline']"
   ]
  },
  {
   "cell_type": "code",
   "execution_count": null,
   "metadata": {},
   "outputs": [],
   "source": []
  },
  {
   "cell_type": "code",
   "execution_count": 158,
   "metadata": {},
   "outputs": [],
   "source": [
    "old_df = pd.read_pickle(\"data/news_data/news_data.pkl\")"
   ]
  },
  {
   "cell_type": "code",
   "execution_count": 159,
   "metadata": {},
   "outputs": [
    {
     "data": {
      "text/plain": [
       "(1729, 9)"
      ]
     },
     "execution_count": 159,
     "metadata": {},
     "output_type": "execute_result"
    }
   ],
   "source": [
    "old_df.shape"
   ]
  },
  {
   "cell_type": "code",
   "execution_count": 163,
   "metadata": {},
   "outputs": [
    {
     "data": {
      "text/html": [
       "<div>\n",
       "<style scoped>\n",
       "    .dataframe tbody tr th:only-of-type {\n",
       "        vertical-align: middle;\n",
       "    }\n",
       "\n",
       "    .dataframe tbody tr th {\n",
       "        vertical-align: top;\n",
       "    }\n",
       "\n",
       "    .dataframe thead th {\n",
       "        text-align: right;\n",
       "    }\n",
       "</style>\n",
       "<table border=\"1\" class=\"dataframe\">\n",
       "  <thead>\n",
       "    <tr style=\"text-align: right;\">\n",
       "      <th></th>\n",
       "      <th>headline</th>\n",
       "      <th>publish_date</th>\n",
       "      <th>content</th>\n",
       "      <th>authors</th>\n",
       "      <th>keywords</th>\n",
       "      <th>summary</th>\n",
       "      <th>source</th>\n",
       "      <th>url</th>\n",
       "      <th>date_pulled</th>\n",
       "    </tr>\n",
       "  </thead>\n",
       "  <tbody>\n",
       "    <tr>\n",
       "      <th>0</th>\n",
       "      <td>Watch ABC News Network Online</td>\n",
       "      <td>NaT</td>\n",
       "      <td>18+ only. Any free trials valid for new and el...</td>\n",
       "      <td>[]</td>\n",
       "      <td>NaN</td>\n",
       "      <td>NaN</td>\n",
       "      <td>abcnews.go</td>\n",
       "      <td>https://abcnews.go.com/</td>\n",
       "      <td>03-11-23</td>\n",
       "    </tr>\n",
       "    <tr>\n",
       "      <th>1</th>\n",
       "      <td>3 women missing for 2 weeks after traveling fr...</td>\n",
       "      <td>NaT</td>\n",
       "      <td>The women left on Feb. 24 to go to a flea mark...</td>\n",
       "      <td>[Abc News]</td>\n",
       "      <td>NaN</td>\n",
       "      <td>NaN</td>\n",
       "      <td>abcnews.go</td>\n",
       "      <td>https://abcnews.go.com/</td>\n",
       "      <td>03-11-23</td>\n",
       "    </tr>\n",
       "    <tr>\n",
       "      <th>2</th>\n",
       "      <td>California's Pajaro River breaches overnight, ...</td>\n",
       "      <td>NaT</td>\n",
       "      <td>Dozens of water rescues have been conducted af...</td>\n",
       "      <td>[Abc News]</td>\n",
       "      <td>NaN</td>\n",
       "      <td>NaN</td>\n",
       "      <td>abcnews.go</td>\n",
       "      <td>https://abcnews.go.com/</td>\n",
       "      <td>03-11-23</td>\n",
       "    </tr>\n",
       "    <tr>\n",
       "      <th>3</th>\n",
       "      <td>Paul Flores sentenced to 25 years to life for ...</td>\n",
       "      <td>NaT</td>\n",
       "      <td>Paul Flores was sentenced Friday to 25 years t...</td>\n",
       "      <td>[Abc News]</td>\n",
       "      <td>NaN</td>\n",
       "      <td>NaN</td>\n",
       "      <td>abcnews.go</td>\n",
       "      <td>https://abcnews.go.com/</td>\n",
       "      <td>03-11-23</td>\n",
       "    </tr>\n",
       "    <tr>\n",
       "      <th>4</th>\n",
       "      <td>One of Silicon Valley's top banks fails; asset...</td>\n",
       "      <td>NaT</td>\n",
       "      <td>Regulators have seized the assets of one of Si...</td>\n",
       "      <td>[Abc News]</td>\n",
       "      <td>NaN</td>\n",
       "      <td>NaN</td>\n",
       "      <td>abcnews.go</td>\n",
       "      <td>https://abcnews.go.com/</td>\n",
       "      <td>03-11-23</td>\n",
       "    </tr>\n",
       "  </tbody>\n",
       "</table>\n",
       "</div>"
      ],
      "text/plain": [
       "                                            headline publish_date  \\\n",
       "0                      Watch ABC News Network Online          NaT   \n",
       "1  3 women missing for 2 weeks after traveling fr...          NaT   \n",
       "2  California's Pajaro River breaches overnight, ...          NaT   \n",
       "3  Paul Flores sentenced to 25 years to life for ...          NaT   \n",
       "4  One of Silicon Valley's top banks fails; asset...          NaT   \n",
       "\n",
       "                                             content     authors keywords  \\\n",
       "0  18+ only. Any free trials valid for new and el...          []      NaN   \n",
       "1  The women left on Feb. 24 to go to a flea mark...  [Abc News]      NaN   \n",
       "2  Dozens of water rescues have been conducted af...  [Abc News]      NaN   \n",
       "3  Paul Flores was sentenced Friday to 25 years t...  [Abc News]      NaN   \n",
       "4  Regulators have seized the assets of one of Si...  [Abc News]      NaN   \n",
       "\n",
       "  summary      source                      url date_pulled  \n",
       "0     NaN  abcnews.go  https://abcnews.go.com/    03-11-23  \n",
       "1     NaN  abcnews.go  https://abcnews.go.com/    03-11-23  \n",
       "2     NaN  abcnews.go  https://abcnews.go.com/    03-11-23  \n",
       "3     NaN  abcnews.go  https://abcnews.go.com/    03-11-23  \n",
       "4     NaN  abcnews.go  https://abcnews.go.com/    03-11-23  "
      ]
     },
     "execution_count": 163,
     "metadata": {},
     "output_type": "execute_result"
    }
   ],
   "source": [
    "old_df.head()"
   ]
  },
  {
   "cell_type": "code",
   "execution_count": 177,
   "metadata": {},
   "outputs": [
    {
     "data": {
      "text/plain": [
       "pandas._libs.tslibs.timestamps.Timestamp"
      ]
     },
     "execution_count": 177,
     "metadata": {},
     "output_type": "execute_result"
    }
   ],
   "source": [
    "type(old_df[~old_df['publish_date'].isnull()]['publish_date'][412])"
   ]
  },
  {
   "cell_type": "code",
   "execution_count": null,
   "metadata": {},
   "outputs": [],
   "source": [
    "old_df"
   ]
  },
  {
   "cell_type": "code",
   "execution_count": null,
   "metadata": {},
   "outputs": [],
   "source": []
  },
  {
   "cell_type": "code",
   "execution_count": 178,
   "metadata": {},
   "outputs": [
    {
     "data": {
      "text/plain": [
       "Index(['headline', 'publish_date', 'content', 'authors', 'keywords', 'summary',\n",
       "       'source', 'url', 'date_pulled'],\n",
       "      dtype='object')"
      ]
     },
     "execution_count": 178,
     "metadata": {},
     "output_type": "execute_result"
    }
   ],
   "source": [
    "old_df.columns"
   ]
  },
  {
   "cell_type": "code",
   "execution_count": 209,
   "metadata": {},
   "outputs": [],
   "source": [
    "old_df = old_df[~old_df.duplicated(subset=['headline', 'publish_date', 'content'], keep='first')]"
   ]
  },
  {
   "cell_type": "code",
   "execution_count": 210,
   "metadata": {},
   "outputs": [
    {
     "data": {
      "text/plain": [
       "(1667, 9)"
      ]
     },
     "execution_count": 210,
     "metadata": {},
     "output_type": "execute_result"
    }
   ],
   "source": [
    "old_df.shape"
   ]
  },
  {
   "cell_type": "code",
   "execution_count": null,
   "metadata": {},
   "outputs": [],
   "source": []
  },
  {
   "cell_type": "code",
   "execution_count": 103,
   "metadata": {},
   "outputs": [
    {
     "name": "stdout",
     "output_type": "stream",
     "text": [
      "71/132\r"
     ]
    },
    {
     "name": "stderr",
     "output_type": "stream",
     "text": [
      "Building prefix dict from c:\\Users\\Mike's PC\\Desktop\\Masters_DU\\MSDS_capstone\\capenv\\lib\\site-packages\\jieba\\dict.txt ...\n",
      "Dumping model to file cache C:\\Users\\MIKE'S~1\\AppData\\Local\\Temp\\jieba.cache\n",
      "Loading model cost 1.3987021446228027 seconds.\n",
      "Prefix dict has been built succesfully.\n"
     ]
    },
    {
     "name": "stdout",
     "output_type": "stream",
     "text": [
      "(132, 6)\n"
     ]
    },
    {
     "data": {
      "text/html": [
       "<div>\n",
       "<style scoped>\n",
       "    .dataframe tbody tr th:only-of-type {\n",
       "        vertical-align: middle;\n",
       "    }\n",
       "\n",
       "    .dataframe tbody tr th {\n",
       "        vertical-align: top;\n",
       "    }\n",
       "\n",
       "    .dataframe thead th {\n",
       "        text-align: right;\n",
       "    }\n",
       "</style>\n",
       "<table border=\"1\" class=\"dataframe\">\n",
       "  <thead>\n",
       "    <tr style=\"text-align: right;\">\n",
       "      <th></th>\n",
       "      <th>headline</th>\n",
       "      <th>date</th>\n",
       "      <th>content</th>\n",
       "      <th>authors</th>\n",
       "      <th>keywords</th>\n",
       "      <th>summary</th>\n",
       "    </tr>\n",
       "  </thead>\n",
       "  <tbody>\n",
       "    <tr>\n",
       "      <th>0</th>\n",
       "      <td>Silicon Valley Bank Collapse Sets Off Blame Ga...</td>\n",
       "      <td>2023-03-11 00:00:00</td>\n",
       "      <td>SAN FRANCISCO — For once, the crisis didn’t se...</td>\n",
       "      <td>[David Yaffe-Bellany, Erin Griffith, Mike Isaac]</td>\n",
       "      <td>NaN</td>\n",
       "      <td>NaN</td>\n",
       "    </tr>\n",
       "    <tr>\n",
       "      <th>1</th>\n",
       "      <td>3 Lessons From Silicon Valley Bank’s Failure</td>\n",
       "      <td>2023-03-11 00:00:00</td>\n",
       "      <td>What can the collapse of Silicon Valley Bank t...</td>\n",
       "      <td>[Kevin Roose]</td>\n",
       "      <td>NaN</td>\n",
       "      <td>NaN</td>\n",
       "    </tr>\n",
       "    <tr>\n",
       "      <th>2</th>\n",
       "      <td>The Second-Biggest Bank Failure</td>\n",
       "      <td>2023-03-10 00:00:00</td>\n",
       "      <td>A bar chart of U.S. bank failures since 2001, ...</td>\n",
       "      <td>[Karl Russell, Christine Zhang]</td>\n",
       "      <td>NaN</td>\n",
       "      <td>NaN</td>\n",
       "    </tr>\n",
       "    <tr>\n",
       "      <th>3</th>\n",
       "      <td>Chinese-Brokered Deal Upends Mideast Diplomacy...</td>\n",
       "      <td>2023-03-11 00:00:00</td>\n",
       "      <td>WASHINGTON — Finally, there is a peace deal of...</td>\n",
       "      <td>[Peter Baker]</td>\n",
       "      <td>NaN</td>\n",
       "      <td>NaN</td>\n",
       "    </tr>\n",
       "    <tr>\n",
       "      <th>4</th>\n",
       "      <td>Inside Ron DeSantis’s Politicized Removal of a...</td>\n",
       "      <td>2023-03-11 00:00:00</td>\n",
       "      <td>Months before suspending Mr. Warren, Mr. DeSan...</td>\n",
       "      <td>[Alexandra Berzon, Ken Bensinger]</td>\n",
       "      <td>NaN</td>\n",
       "      <td>NaN</td>\n",
       "    </tr>\n",
       "  </tbody>\n",
       "</table>\n",
       "</div>"
      ],
      "text/plain": [
       "                                            headline                 date  \\\n",
       "0  Silicon Valley Bank Collapse Sets Off Blame Ga...  2023-03-11 00:00:00   \n",
       "1       3 Lessons From Silicon Valley Bank’s Failure  2023-03-11 00:00:00   \n",
       "2                    The Second-Biggest Bank Failure  2023-03-10 00:00:00   \n",
       "3  Chinese-Brokered Deal Upends Mideast Diplomacy...  2023-03-11 00:00:00   \n",
       "4  Inside Ron DeSantis’s Politicized Removal of a...  2023-03-11 00:00:00   \n",
       "\n",
       "                                             content  \\\n",
       "0  SAN FRANCISCO — For once, the crisis didn’t se...   \n",
       "1  What can the collapse of Silicon Valley Bank t...   \n",
       "2  A bar chart of U.S. bank failures since 2001, ...   \n",
       "3  WASHINGTON — Finally, there is a peace deal of...   \n",
       "4  Months before suspending Mr. Warren, Mr. DeSan...   \n",
       "\n",
       "                                            authors keywords summary  \n",
       "0  [David Yaffe-Bellany, Erin Griffith, Mike Isaac]      NaN     NaN  \n",
       "1                                     [Kevin Roose]      NaN     NaN  \n",
       "2                   [Karl Russell, Christine Zhang]      NaN     NaN  \n",
       "3                                     [Peter Baker]      NaN     NaN  \n",
       "4                 [Alexandra Berzon, Ken Bensinger]      NaN     NaN  "
      ]
     },
     "execution_count": 103,
     "metadata": {},
     "output_type": "execute_result"
    }
   ],
   "source": [
    "\n",
    "print(df.shape)\n",
    "df.head()"
   ]
  },
  {
   "cell_type": "code",
   "execution_count": 104,
   "metadata": {},
   "outputs": [],
   "source": [
    "df.to_pickle(\"data/news_data/nytimes_3-11-23.pkl\")"
   ]
  },
  {
   "cell_type": "code",
   "execution_count": null,
   "metadata": {},
   "outputs": [],
   "source": []
  },
  {
   "cell_type": "code",
   "execution_count": 152,
   "metadata": {},
   "outputs": [],
   "source": [
    "df = pd.read_pickle(\"data/news_data/news_data.pkl\")"
   ]
  },
  {
   "cell_type": "code",
   "execution_count": 154,
   "metadata": {},
   "outputs": [
    {
     "data": {
      "text/html": [
       "<div>\n",
       "<style scoped>\n",
       "    .dataframe tbody tr th:only-of-type {\n",
       "        vertical-align: middle;\n",
       "    }\n",
       "\n",
       "    .dataframe tbody tr th {\n",
       "        vertical-align: top;\n",
       "    }\n",
       "\n",
       "    .dataframe thead th {\n",
       "        text-align: right;\n",
       "    }\n",
       "</style>\n",
       "<table border=\"1\" class=\"dataframe\">\n",
       "  <thead>\n",
       "    <tr style=\"text-align: right;\">\n",
       "      <th></th>\n",
       "      <th>headline</th>\n",
       "      <th>publish_date</th>\n",
       "      <th>content</th>\n",
       "      <th>authors</th>\n",
       "      <th>keywords</th>\n",
       "      <th>summary</th>\n",
       "      <th>source</th>\n",
       "      <th>url</th>\n",
       "      <th>date_pulled</th>\n",
       "    </tr>\n",
       "  </thead>\n",
       "  <tbody>\n",
       "    <tr>\n",
       "      <th>0</th>\n",
       "      <td>Watch ABC News Network Online</td>\n",
       "      <td>NaT</td>\n",
       "      <td>18+ only. Any free trials valid for new and el...</td>\n",
       "      <td>[]</td>\n",
       "      <td>NaN</td>\n",
       "      <td>NaN</td>\n",
       "      <td>abcnews.go</td>\n",
       "      <td>https://abcnews.go.com/</td>\n",
       "      <td>03-11-23</td>\n",
       "    </tr>\n",
       "    <tr>\n",
       "      <th>1</th>\n",
       "      <td>3 women missing for 2 weeks after traveling fr...</td>\n",
       "      <td>NaT</td>\n",
       "      <td>The women left on Feb. 24 to go to a flea mark...</td>\n",
       "      <td>[Abc News]</td>\n",
       "      <td>NaN</td>\n",
       "      <td>NaN</td>\n",
       "      <td>abcnews.go</td>\n",
       "      <td>https://abcnews.go.com/</td>\n",
       "      <td>03-11-23</td>\n",
       "    </tr>\n",
       "    <tr>\n",
       "      <th>2</th>\n",
       "      <td>California's Pajaro River breaches overnight, ...</td>\n",
       "      <td>NaT</td>\n",
       "      <td>Dozens of water rescues have been conducted af...</td>\n",
       "      <td>[Abc News]</td>\n",
       "      <td>NaN</td>\n",
       "      <td>NaN</td>\n",
       "      <td>abcnews.go</td>\n",
       "      <td>https://abcnews.go.com/</td>\n",
       "      <td>03-11-23</td>\n",
       "    </tr>\n",
       "    <tr>\n",
       "      <th>3</th>\n",
       "      <td>Paul Flores sentenced to 25 years to life for ...</td>\n",
       "      <td>NaT</td>\n",
       "      <td>Paul Flores was sentenced Friday to 25 years t...</td>\n",
       "      <td>[Abc News]</td>\n",
       "      <td>NaN</td>\n",
       "      <td>NaN</td>\n",
       "      <td>abcnews.go</td>\n",
       "      <td>https://abcnews.go.com/</td>\n",
       "      <td>03-11-23</td>\n",
       "    </tr>\n",
       "    <tr>\n",
       "      <th>4</th>\n",
       "      <td>One of Silicon Valley's top banks fails; asset...</td>\n",
       "      <td>NaT</td>\n",
       "      <td>Regulators have seized the assets of one of Si...</td>\n",
       "      <td>[Abc News]</td>\n",
       "      <td>NaN</td>\n",
       "      <td>NaN</td>\n",
       "      <td>abcnews.go</td>\n",
       "      <td>https://abcnews.go.com/</td>\n",
       "      <td>03-11-23</td>\n",
       "    </tr>\n",
       "  </tbody>\n",
       "</table>\n",
       "</div>"
      ],
      "text/plain": [
       "                                            headline publish_date  \\\n",
       "0                      Watch ABC News Network Online          NaT   \n",
       "1  3 women missing for 2 weeks after traveling fr...          NaT   \n",
       "2  California's Pajaro River breaches overnight, ...          NaT   \n",
       "3  Paul Flores sentenced to 25 years to life for ...          NaT   \n",
       "4  One of Silicon Valley's top banks fails; asset...          NaT   \n",
       "\n",
       "                                             content     authors keywords  \\\n",
       "0  18+ only. Any free trials valid for new and el...          []      NaN   \n",
       "1  The women left on Feb. 24 to go to a flea mark...  [Abc News]      NaN   \n",
       "2  Dozens of water rescues have been conducted af...  [Abc News]      NaN   \n",
       "3  Paul Flores was sentenced Friday to 25 years t...  [Abc News]      NaN   \n",
       "4  Regulators have seized the assets of one of Si...  [Abc News]      NaN   \n",
       "\n",
       "  summary      source                      url date_pulled  \n",
       "0     NaN  abcnews.go  https://abcnews.go.com/    03-11-23  \n",
       "1     NaN  abcnews.go  https://abcnews.go.com/    03-11-23  \n",
       "2     NaN  abcnews.go  https://abcnews.go.com/    03-11-23  \n",
       "3     NaN  abcnews.go  https://abcnews.go.com/    03-11-23  \n",
       "4     NaN  abcnews.go  https://abcnews.go.com/    03-11-23  "
      ]
     },
     "execution_count": 154,
     "metadata": {},
     "output_type": "execute_result"
    }
   ],
   "source": [
    "df.head()"
   ]
  },
  {
   "cell_type": "code",
   "execution_count": 155,
   "metadata": {},
   "outputs": [
    {
     "data": {
      "text/plain": [
       "(1729, 9)"
      ]
     },
     "execution_count": 155,
     "metadata": {},
     "output_type": "execute_result"
    }
   ],
   "source": [
    "df.shape"
   ]
  },
  {
   "cell_type": "code",
   "execution_count": null,
   "metadata": {},
   "outputs": [],
   "source": []
  },
  {
   "cell_type": "code",
   "execution_count": null,
   "metadata": {},
   "outputs": [],
   "source": []
  },
  {
   "cell_type": "code",
   "execution_count": null,
   "metadata": {},
   "outputs": [],
   "source": []
  },
  {
   "cell_type": "code",
   "execution_count": null,
   "metadata": {},
   "outputs": [],
   "source": []
  },
  {
   "cell_type": "code",
   "execution_count": null,
   "metadata": {},
   "outputs": [],
   "source": []
  },
  {
   "cell_type": "code",
   "execution_count": 151,
   "metadata": {},
   "outputs": [
    {
     "name": "stdout",
     "output_type": "stream",
     "text": [
      "708\n",
      "13\n",
      "12\n",
      "35\n",
      "202\n"
     ]
    }
   ],
   "source": [
    "frames = []\n",
    "for fname in os.listdir(\"data/news_data/\"):\n",
    "    if fname==\"news_data.pkl\":\n",
    "        continue\n",
    "    df = pd.read_pickle(\"data/news_data/\" + fname)\n",
    "    news_name = fname.split(\"_\")[0]\n",
    "    df['source'] = news_name\n",
    "    df['url'] = lookup[news_name]\n",
    "    print(df['date'].isnull().sum())\n",
    "    frames.append(df)"
   ]
  },
  {
   "cell_type": "code",
   "execution_count": 127,
   "metadata": {},
   "outputs": [
    {
     "data": {
      "text/plain": [
       "5"
      ]
     },
     "execution_count": 127,
     "metadata": {},
     "output_type": "execute_result"
    }
   ],
   "source": [
    "len(frames)"
   ]
  },
  {
   "cell_type": "code",
   "execution_count": 129,
   "metadata": {},
   "outputs": [],
   "source": [
    "df = pd.concat(frames)"
   ]
  },
  {
   "cell_type": "code",
   "execution_count": 144,
   "metadata": {},
   "outputs": [],
   "source": [
    "df.to_pickle(\"data/news_data/news_data.pkl\")"
   ]
  },
  {
   "cell_type": "code",
   "execution_count": 133,
   "metadata": {},
   "outputs": [],
   "source": [
    "df = df.rename(columns={'date': 'publish_date'})"
   ]
  },
  {
   "cell_type": "code",
   "execution_count": 134,
   "metadata": {},
   "outputs": [],
   "source": [
    "df['date_pulled'] = datetime.date.today().strftime(\"%m-%d-%y\")"
   ]
  },
  {
   "cell_type": "code",
   "execution_count": 140,
   "metadata": {},
   "outputs": [
    {
     "data": {
      "text/html": [
       "<div>\n",
       "<style scoped>\n",
       "    .dataframe tbody tr th:only-of-type {\n",
       "        vertical-align: middle;\n",
       "    }\n",
       "\n",
       "    .dataframe tbody tr th {\n",
       "        vertical-align: top;\n",
       "    }\n",
       "\n",
       "    .dataframe thead th {\n",
       "        text-align: right;\n",
       "    }\n",
       "</style>\n",
       "<table border=\"1\" class=\"dataframe\">\n",
       "  <thead>\n",
       "    <tr style=\"text-align: right;\">\n",
       "      <th></th>\n",
       "      <th>headline</th>\n",
       "      <th>publish_date</th>\n",
       "      <th>content</th>\n",
       "      <th>authors</th>\n",
       "      <th>keywords</th>\n",
       "      <th>summary</th>\n",
       "      <th>source</th>\n",
       "      <th>url</th>\n",
       "      <th>date_pulled</th>\n",
       "    </tr>\n",
       "  </thead>\n",
       "  <tbody>\n",
       "    <tr>\n",
       "      <th>0</th>\n",
       "      <td>Watch ABC News Network Online</td>\n",
       "      <td>NaT</td>\n",
       "      <td>18+ only. Any free trials valid for new and el...</td>\n",
       "      <td>[]</td>\n",
       "      <td>NaN</td>\n",
       "      <td>NaN</td>\n",
       "      <td>abcnews.go</td>\n",
       "      <td>https://abcnews.go.com/</td>\n",
       "      <td>03-11-23</td>\n",
       "    </tr>\n",
       "    <tr>\n",
       "      <th>1</th>\n",
       "      <td>3 women missing for 2 weeks after traveling fr...</td>\n",
       "      <td>NaT</td>\n",
       "      <td>The women left on Feb. 24 to go to a flea mark...</td>\n",
       "      <td>[Abc News]</td>\n",
       "      <td>NaN</td>\n",
       "      <td>NaN</td>\n",
       "      <td>abcnews.go</td>\n",
       "      <td>https://abcnews.go.com/</td>\n",
       "      <td>03-11-23</td>\n",
       "    </tr>\n",
       "    <tr>\n",
       "      <th>2</th>\n",
       "      <td>California's Pajaro River breaches overnight, ...</td>\n",
       "      <td>NaT</td>\n",
       "      <td>Dozens of water rescues have been conducted af...</td>\n",
       "      <td>[Abc News]</td>\n",
       "      <td>NaN</td>\n",
       "      <td>NaN</td>\n",
       "      <td>abcnews.go</td>\n",
       "      <td>https://abcnews.go.com/</td>\n",
       "      <td>03-11-23</td>\n",
       "    </tr>\n",
       "    <tr>\n",
       "      <th>3</th>\n",
       "      <td>Paul Flores sentenced to 25 years to life for ...</td>\n",
       "      <td>NaT</td>\n",
       "      <td>Paul Flores was sentenced Friday to 25 years t...</td>\n",
       "      <td>[Abc News]</td>\n",
       "      <td>NaN</td>\n",
       "      <td>NaN</td>\n",
       "      <td>abcnews.go</td>\n",
       "      <td>https://abcnews.go.com/</td>\n",
       "      <td>03-11-23</td>\n",
       "    </tr>\n",
       "    <tr>\n",
       "      <th>4</th>\n",
       "      <td>One of Silicon Valley's top banks fails; asset...</td>\n",
       "      <td>NaT</td>\n",
       "      <td>Regulators have seized the assets of one of Si...</td>\n",
       "      <td>[Abc News]</td>\n",
       "      <td>NaN</td>\n",
       "      <td>NaN</td>\n",
       "      <td>abcnews.go</td>\n",
       "      <td>https://abcnews.go.com/</td>\n",
       "      <td>03-11-23</td>\n",
       "    </tr>\n",
       "    <tr>\n",
       "      <th>5</th>\n",
       "      <td>Oscars 2023: How to watch and what to know ahe...</td>\n",
       "      <td>NaT</td>\n",
       "      <td>The 2023 Oscars will air live on Sunday, March...</td>\n",
       "      <td>[Abc News]</td>\n",
       "      <td>NaN</td>\n",
       "      <td>NaN</td>\n",
       "      <td>abcnews.go</td>\n",
       "      <td>https://abcnews.go.com/</td>\n",
       "      <td>03-11-23</td>\n",
       "    </tr>\n",
       "    <tr>\n",
       "      <th>6</th>\n",
       "      <td>FDA approves Pfizer's new nasal spray treatmen...</td>\n",
       "      <td>NaT</td>\n",
       "      <td>The U.S. Food and Drug Administration has appr...</td>\n",
       "      <td>[Abc News]</td>\n",
       "      <td>NaN</td>\n",
       "      <td>NaN</td>\n",
       "      <td>abcnews.go</td>\n",
       "      <td>https://abcnews.go.com/</td>\n",
       "      <td>03-11-23</td>\n",
       "    </tr>\n",
       "    <tr>\n",
       "      <th>7</th>\n",
       "      <td>Democrats propose countermeasure to GOP's Pare...</td>\n",
       "      <td>NaT</td>\n",
       "      <td>Democrats say their bill would advance \"inclus...</td>\n",
       "      <td>[Abc News]</td>\n",
       "      <td>NaN</td>\n",
       "      <td>NaN</td>\n",
       "      <td>abcnews.go</td>\n",
       "      <td>https://abcnews.go.com/</td>\n",
       "      <td>03-11-23</td>\n",
       "    </tr>\n",
       "    <tr>\n",
       "      <th>8</th>\n",
       "      <td>Santos denies new allegation he organized 2017...</td>\n",
       "      <td>NaT</td>\n",
       "      <td>Rep. George Santos on Friday denied a new alle...</td>\n",
       "      <td>[Abc News]</td>\n",
       "      <td>NaN</td>\n",
       "      <td>NaN</td>\n",
       "      <td>abcnews.go</td>\n",
       "      <td>https://abcnews.go.com/</td>\n",
       "      <td>03-11-23</td>\n",
       "    </tr>\n",
       "    <tr>\n",
       "      <th>9</th>\n",
       "      <td>Michigan man allegedly threatened Gov. Gretche...</td>\n",
       "      <td>NaT</td>\n",
       "      <td>The FBI is investigating threats allegedly mad...</td>\n",
       "      <td>[Abc News]</td>\n",
       "      <td>NaN</td>\n",
       "      <td>NaN</td>\n",
       "      <td>abcnews.go</td>\n",
       "      <td>https://abcnews.go.com/</td>\n",
       "      <td>03-11-23</td>\n",
       "    </tr>\n",
       "    <tr>\n",
       "      <th>10</th>\n",
       "      <td>Sexual assault reports at military academies r...</td>\n",
       "      <td>NaT</td>\n",
       "      <td>The U.S. Naval Academy had the largest increas...</td>\n",
       "      <td>[Abc News]</td>\n",
       "      <td>NaN</td>\n",
       "      <td>NaN</td>\n",
       "      <td>abcnews.go</td>\n",
       "      <td>https://abcnews.go.com/</td>\n",
       "      <td>03-11-23</td>\n",
       "    </tr>\n",
       "    <tr>\n",
       "      <th>11</th>\n",
       "      <td>Video Biden touts February jobs report, plus m...</td>\n",
       "      <td>NaT</td>\n",
       "      <td>Biden touts February jobs report, plus more DC...</td>\n",
       "      <td>[Abc News]</td>\n",
       "      <td>NaN</td>\n",
       "      <td>NaN</td>\n",
       "      <td>abcnews.go</td>\n",
       "      <td>https://abcnews.go.com/</td>\n",
       "      <td>03-11-23</td>\n",
       "    </tr>\n",
       "    <tr>\n",
       "      <th>12</th>\n",
       "      <td>Video Congressman George Santos denies reports...</td>\n",
       "      <td>NaT</td>\n",
       "      <td>Congressman George Santos denies reports that ...</td>\n",
       "      <td>[Abc News]</td>\n",
       "      <td>NaN</td>\n",
       "      <td>NaN</td>\n",
       "      <td>abcnews.go</td>\n",
       "      <td>https://abcnews.go.com/</td>\n",
       "      <td>03-11-23</td>\n",
       "    </tr>\n",
       "    <tr>\n",
       "      <th>13</th>\n",
       "      <td>Biden's 2024 budget doesn't include plan to sh...</td>\n",
       "      <td>NaT</td>\n",
       "      <td>When President Joe Biden unveiled his $6.8 tri...</td>\n",
       "      <td>[Abc News]</td>\n",
       "      <td>NaN</td>\n",
       "      <td>NaN</td>\n",
       "      <td>abcnews.go</td>\n",
       "      <td>https://abcnews.go.com/</td>\n",
       "      <td>03-11-23</td>\n",
       "    </tr>\n",
       "    <tr>\n",
       "      <th>14</th>\n",
       "      <td>Meet the former dancer-turned-politician runni...</td>\n",
       "      <td>NaT</td>\n",
       "      <td>Virginia state Senate candidate Monica Gary is...</td>\n",
       "      <td>[Abc News]</td>\n",
       "      <td>NaN</td>\n",
       "      <td>NaN</td>\n",
       "      <td>abcnews.go</td>\n",
       "      <td>https://abcnews.go.com/</td>\n",
       "      <td>03-11-23</td>\n",
       "    </tr>\n",
       "    <tr>\n",
       "      <th>15</th>\n",
       "      <td>DeSantis tests presidential waters in Iowa</td>\n",
       "      <td>NaT</td>\n",
       "      <td>Florida's governor has privately said he won't...</td>\n",
       "      <td>[Abc News]</td>\n",
       "      <td>NaN</td>\n",
       "      <td>NaN</td>\n",
       "      <td>abcnews.go</td>\n",
       "      <td>https://abcnews.go.com/</td>\n",
       "      <td>03-11-23</td>\n",
       "    </tr>\n",
       "    <tr>\n",
       "      <th>16</th>\n",
       "      <td>Video DeSantis tests presidential waters in Iowa</td>\n",
       "      <td>NaT</td>\n",
       "      <td>DeSantis tests presidential waters in Iowa Flo...</td>\n",
       "      <td>[Abc News]</td>\n",
       "      <td>NaN</td>\n",
       "      <td>NaN</td>\n",
       "      <td>abcnews.go</td>\n",
       "      <td>https://abcnews.go.com/</td>\n",
       "      <td>03-11-23</td>\n",
       "    </tr>\n",
       "    <tr>\n",
       "      <th>17</th>\n",
       "      <td>Biden, GOP showing no signs of cooperation on ...</td>\n",
       "      <td>NaT</td>\n",
       "      <td>Biden offered his first reaction to cuts propo...</td>\n",
       "      <td>[Abc News]</td>\n",
       "      <td>NaN</td>\n",
       "      <td>NaN</td>\n",
       "      <td>abcnews.go</td>\n",
       "      <td>https://abcnews.go.com/</td>\n",
       "      <td>03-11-23</td>\n",
       "    </tr>\n",
       "    <tr>\n",
       "      <th>18</th>\n",
       "      <td>Video Gov. Ron DeSantis speaks in Iowa amid sp...</td>\n",
       "      <td>NaT</td>\n",
       "      <td>Gov. Ron DeSantis speaks in Iowa amid speculat...</td>\n",
       "      <td>[Abc News]</td>\n",
       "      <td>NaN</td>\n",
       "      <td>NaN</td>\n",
       "      <td>abcnews.go</td>\n",
       "      <td>https://abcnews.go.com/</td>\n",
       "      <td>03-11-23</td>\n",
       "    </tr>\n",
       "    <tr>\n",
       "      <th>19</th>\n",
       "      <td>What Norfolk Southern's CEO did and didn't com...</td>\n",
       "      <td>NaT</td>\n",
       "      <td>Norfolk Southern CEO Alan Shaw was evasive at ...</td>\n",
       "      <td>[Abc News]</td>\n",
       "      <td>NaN</td>\n",
       "      <td>NaN</td>\n",
       "      <td>abcnews.go</td>\n",
       "      <td>https://abcnews.go.com/</td>\n",
       "      <td>03-11-23</td>\n",
       "    </tr>\n",
       "    <tr>\n",
       "      <th>20</th>\n",
       "      <td>US, allies scramble to meet Ukraine's need for...</td>\n",
       "      <td>NaT</td>\n",
       "      <td>A key question is whether enough can be produc...</td>\n",
       "      <td>[Abc News]</td>\n",
       "      <td>NaN</td>\n",
       "      <td>NaN</td>\n",
       "      <td>abcnews.go</td>\n",
       "      <td>https://abcnews.go.com/</td>\n",
       "      <td>03-11-23</td>\n",
       "    </tr>\n",
       "    <tr>\n",
       "      <th>21</th>\n",
       "      <td>Sen. Mark Warner, Rep. Mike Turner, and Jennif...</td>\n",
       "      <td>NaT</td>\n",
       "      <td>This is a listing for \"This Week\" airing Sunda...</td>\n",
       "      <td>[Abc News]</td>\n",
       "      <td>NaN</td>\n",
       "      <td>NaN</td>\n",
       "      <td>abcnews.go</td>\n",
       "      <td>https://abcnews.go.com/</td>\n",
       "      <td>03-11-23</td>\n",
       "    </tr>\n",
       "  </tbody>\n",
       "</table>\n",
       "</div>"
      ],
      "text/plain": [
       "                                             headline publish_date  \\\n",
       "0                       Watch ABC News Network Online          NaT   \n",
       "1   3 women missing for 2 weeks after traveling fr...          NaT   \n",
       "2   California's Pajaro River breaches overnight, ...          NaT   \n",
       "3   Paul Flores sentenced to 25 years to life for ...          NaT   \n",
       "4   One of Silicon Valley's top banks fails; asset...          NaT   \n",
       "5   Oscars 2023: How to watch and what to know ahe...          NaT   \n",
       "6   FDA approves Pfizer's new nasal spray treatmen...          NaT   \n",
       "7   Democrats propose countermeasure to GOP's Pare...          NaT   \n",
       "8   Santos denies new allegation he organized 2017...          NaT   \n",
       "9   Michigan man allegedly threatened Gov. Gretche...          NaT   \n",
       "10  Sexual assault reports at military academies r...          NaT   \n",
       "11  Video Biden touts February jobs report, plus m...          NaT   \n",
       "12  Video Congressman George Santos denies reports...          NaT   \n",
       "13  Biden's 2024 budget doesn't include plan to sh...          NaT   \n",
       "14  Meet the former dancer-turned-politician runni...          NaT   \n",
       "15         DeSantis tests presidential waters in Iowa          NaT   \n",
       "16   Video DeSantis tests presidential waters in Iowa          NaT   \n",
       "17  Biden, GOP showing no signs of cooperation on ...          NaT   \n",
       "18  Video Gov. Ron DeSantis speaks in Iowa amid sp...          NaT   \n",
       "19  What Norfolk Southern's CEO did and didn't com...          NaT   \n",
       "20  US, allies scramble to meet Ukraine's need for...          NaT   \n",
       "21  Sen. Mark Warner, Rep. Mike Turner, and Jennif...          NaT   \n",
       "\n",
       "                                              content     authors keywords  \\\n",
       "0   18+ only. Any free trials valid for new and el...          []      NaN   \n",
       "1   The women left on Feb. 24 to go to a flea mark...  [Abc News]      NaN   \n",
       "2   Dozens of water rescues have been conducted af...  [Abc News]      NaN   \n",
       "3   Paul Flores was sentenced Friday to 25 years t...  [Abc News]      NaN   \n",
       "4   Regulators have seized the assets of one of Si...  [Abc News]      NaN   \n",
       "5   The 2023 Oscars will air live on Sunday, March...  [Abc News]      NaN   \n",
       "6   The U.S. Food and Drug Administration has appr...  [Abc News]      NaN   \n",
       "7   Democrats say their bill would advance \"inclus...  [Abc News]      NaN   \n",
       "8   Rep. George Santos on Friday denied a new alle...  [Abc News]      NaN   \n",
       "9   The FBI is investigating threats allegedly mad...  [Abc News]      NaN   \n",
       "10  The U.S. Naval Academy had the largest increas...  [Abc News]      NaN   \n",
       "11  Biden touts February jobs report, plus more DC...  [Abc News]      NaN   \n",
       "12  Congressman George Santos denies reports that ...  [Abc News]      NaN   \n",
       "13  When President Joe Biden unveiled his $6.8 tri...  [Abc News]      NaN   \n",
       "14  Virginia state Senate candidate Monica Gary is...  [Abc News]      NaN   \n",
       "15  Florida's governor has privately said he won't...  [Abc News]      NaN   \n",
       "16  DeSantis tests presidential waters in Iowa Flo...  [Abc News]      NaN   \n",
       "17  Biden offered his first reaction to cuts propo...  [Abc News]      NaN   \n",
       "18  Gov. Ron DeSantis speaks in Iowa amid speculat...  [Abc News]      NaN   \n",
       "19  Norfolk Southern CEO Alan Shaw was evasive at ...  [Abc News]      NaN   \n",
       "20  A key question is whether enough can be produc...  [Abc News]      NaN   \n",
       "21  This is a listing for \"This Week\" airing Sunda...  [Abc News]      NaN   \n",
       "\n",
       "   summary      source                      url date_pulled  \n",
       "0      NaN  abcnews.go  https://abcnews.go.com/    03-11-23  \n",
       "1      NaN  abcnews.go  https://abcnews.go.com/    03-11-23  \n",
       "2      NaN  abcnews.go  https://abcnews.go.com/    03-11-23  \n",
       "3      NaN  abcnews.go  https://abcnews.go.com/    03-11-23  \n",
       "4      NaN  abcnews.go  https://abcnews.go.com/    03-11-23  \n",
       "5      NaN  abcnews.go  https://abcnews.go.com/    03-11-23  \n",
       "6      NaN  abcnews.go  https://abcnews.go.com/    03-11-23  \n",
       "7      NaN  abcnews.go  https://abcnews.go.com/    03-11-23  \n",
       "8      NaN  abcnews.go  https://abcnews.go.com/    03-11-23  \n",
       "9      NaN  abcnews.go  https://abcnews.go.com/    03-11-23  \n",
       "10     NaN  abcnews.go  https://abcnews.go.com/    03-11-23  \n",
       "11     NaN  abcnews.go  https://abcnews.go.com/    03-11-23  \n",
       "12     NaN  abcnews.go  https://abcnews.go.com/    03-11-23  \n",
       "13     NaN  abcnews.go  https://abcnews.go.com/    03-11-23  \n",
       "14     NaN  abcnews.go  https://abcnews.go.com/    03-11-23  \n",
       "15     NaN  abcnews.go  https://abcnews.go.com/    03-11-23  \n",
       "16     NaN  abcnews.go  https://abcnews.go.com/    03-11-23  \n",
       "17     NaN  abcnews.go  https://abcnews.go.com/    03-11-23  \n",
       "18     NaN  abcnews.go  https://abcnews.go.com/    03-11-23  \n",
       "19     NaN  abcnews.go  https://abcnews.go.com/    03-11-23  \n",
       "20     NaN  abcnews.go  https://abcnews.go.com/    03-11-23  \n",
       "21     NaN  abcnews.go  https://abcnews.go.com/    03-11-23  "
      ]
     },
     "execution_count": 140,
     "metadata": {},
     "output_type": "execute_result"
    }
   ],
   "source": [
    "df.head(22)"
   ]
  },
  {
   "cell_type": "code",
   "execution_count": 143,
   "metadata": {},
   "outputs": [],
   "source": [
    "df.reset_index(inplace=True, drop=True)"
   ]
  },
  {
   "cell_type": "code",
   "execution_count": 149,
   "metadata": {},
   "outputs": [
    {
     "data": {
      "text/plain": [
       "970"
      ]
     },
     "execution_count": 149,
     "metadata": {},
     "output_type": "execute_result"
    }
   ],
   "source": [
    "df['publish_date'].isnull().sum()"
   ]
  },
  {
   "cell_type": "code",
   "execution_count": null,
   "metadata": {},
   "outputs": [],
   "source": [
    "pd._libs.tslibs.nattype.NaTType"
   ]
  },
  {
   "cell_type": "code",
   "execution_count": null,
   "metadata": {},
   "outputs": [],
   "source": []
  },
  {
   "cell_type": "code",
   "execution_count": null,
   "metadata": {},
   "outputs": [],
   "source": []
  },
  {
   "cell_type": "code",
   "execution_count": 107,
   "metadata": {},
   "outputs": [
    {
     "data": {
      "text/plain": [
       "'03-11-23'"
      ]
     },
     "execution_count": 107,
     "metadata": {},
     "output_type": "execute_result"
    }
   ],
   "source": [
    "datetime.date.today().strftime(\"%m-%d-%y\")"
   ]
  },
  {
   "cell_type": "code",
   "execution_count": null,
   "metadata": {},
   "outputs": [],
   "source": []
  },
  {
   "cell_type": "code",
   "execution_count": null,
   "metadata": {},
   "outputs": [],
   "source": []
  },
  {
   "cell_type": "code",
   "execution_count": null,
   "metadata": {},
   "outputs": [],
   "source": []
  },
  {
   "cell_type": "code",
   "execution_count": null,
   "metadata": {},
   "outputs": [],
   "source": []
  },
  {
   "cell_type": "code",
   "execution_count": null,
   "metadata": {},
   "outputs": [],
   "source": []
  },
  {
   "cell_type": "code",
   "execution_count": null,
   "metadata": {},
   "outputs": [],
   "source": [
    "from GoogleNews import GoogleNews\n",
    "googlenews = GoogleNews()"
   ]
  },
  {
   "cell_type": "code",
   "execution_count": null,
   "metadata": {},
   "outputs": [],
   "source": []
  },
  {
   "cell_type": "code",
   "execution_count": null,
   "metadata": {},
   "outputs": [],
   "source": []
  },
  {
   "cell_type": "code",
   "execution_count": null,
   "metadata": {},
   "outputs": [],
   "source": []
  },
  {
   "cell_type": "code",
   "execution_count": null,
   "metadata": {},
   "outputs": [],
   "source": [
    "print(googlenews.getVersion())"
   ]
  },
  {
   "cell_type": "code",
   "execution_count": null,
   "metadata": {},
   "outputs": [],
   "source": [
    "googlenews.enableException(True)\n",
    "googlenews.set_lang('en')\n",
    "googlenews.set_time_range('02/01/2020','02/28/2020')\n",
    "googlenews.set_encode('utf-8')"
   ]
  },
  {
   "cell_type": "code",
   "execution_count": null,
   "metadata": {},
   "outputs": [],
   "source": [
    "googlenews.get_news('APPLE')"
   ]
  },
  {
   "cell_type": "code",
   "execution_count": null,
   "metadata": {},
   "outputs": [],
   "source": [
    "googlenews.search('APPLE')"
   ]
  },
  {
   "cell_type": "code",
   "execution_count": null,
   "metadata": {},
   "outputs": [],
   "source": [
    "googlenews.get_page(2)"
   ]
  },
  {
   "cell_type": "code",
   "execution_count": null,
   "metadata": {},
   "outputs": [],
   "source": [
    "googlenews.total_count()"
   ]
  },
  {
   "cell_type": "code",
   "execution_count": null,
   "metadata": {},
   "outputs": [],
   "source": [
    "googlenews.results()"
   ]
  },
  {
   "cell_type": "code",
   "execution_count": null,
   "metadata": {},
   "outputs": [],
   "source": [
    "googlenews.get_texts()"
   ]
  },
  {
   "cell_type": "code",
   "execution_count": null,
   "metadata": {},
   "outputs": [],
   "source": [
    "googlenews.clear()"
   ]
  },
  {
   "cell_type": "code",
   "execution_count": null,
   "metadata": {},
   "outputs": [],
   "source": [
    "googlenews.get_texts()"
   ]
  },
  {
   "cell_type": "code",
   "execution_count": null,
   "metadata": {},
   "outputs": [],
   "source": []
  },
  {
   "cell_type": "code",
   "execution_count": null,
   "metadata": {},
   "outputs": [],
   "source": []
  },
  {
   "cell_type": "code",
   "execution_count": null,
   "metadata": {},
   "outputs": [],
   "source": [
    "from pygooglenews import GoogleNews\n",
    "\n",
    "gn = GoogleNews()\n"
   ]
  },
  {
   "cell_type": "code",
   "execution_count": null,
   "metadata": {},
   "outputs": [],
   "source": [
    "# search for the best matching articles that mention MSFT and \n",
    "# do not mention AAPL (over the past 6 month\n",
    "search = gn.search('APPL', when = '1m')"
   ]
  },
  {
   "cell_type": "code",
   "execution_count": null,
   "metadata": {},
   "outputs": [],
   "source": [
    "type(search)"
   ]
  },
  {
   "cell_type": "code",
   "execution_count": null,
   "metadata": {},
   "outputs": [],
   "source": [
    "search.keys()"
   ]
  },
  {
   "cell_type": "code",
   "execution_count": null,
   "metadata": {},
   "outputs": [],
   "source": [
    "type(search['entries'])"
   ]
  },
  {
   "cell_type": "code",
   "execution_count": null,
   "metadata": {},
   "outputs": [],
   "source": [
    "len(search['entries']) #number of entries"
   ]
  },
  {
   "cell_type": "code",
   "execution_count": null,
   "metadata": {},
   "outputs": [],
   "source": [
    "search['entries'][0]"
   ]
  }
 ],
 "metadata": {
  "kernelspec": {
   "display_name": "capenv",
   "language": "python",
   "name": "python3"
  },
  "language_info": {
   "codemirror_mode": {
    "name": "ipython",
    "version": 3
   },
   "file_extension": ".py",
   "mimetype": "text/x-python",
   "name": "python",
   "nbconvert_exporter": "python",
   "pygments_lexer": "ipython3",
   "version": "3.8.8"
  },
  "orig_nbformat": 4
 },
 "nbformat": 4,
 "nbformat_minor": 2
}
