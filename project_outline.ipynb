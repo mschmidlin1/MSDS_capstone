{
 "cells": [
  {
   "attachments": {},
   "cell_type": "markdown",
   "metadata": {},
   "source": [
    "# Project Goal\n",
    "Create a trade bot that trades stocks based on different trading algorithms.\n",
    "\n",
    "\n",
    "# Project Scope\n",
    "- The application will be programmed in python\n",
    "- The application should run on the cloud (AWS or similar) for stability\n",
    "- The application will use multiple different algorithms to trade<br> \n",
    "                        * One will be a basic high frequency trading algorithm<br>\n",
    "                        * One will be a basic long term strategy algorithm<br>\n",
    "                        * One will be a deep NN (most likely RNN)<br>\n",
    "- The bot should have stop losses so that it can't loose too much money\n",
    "- Prolificity target: The bot will turn \\$10 into \\$1,000 in one month"
   ]
  },
  {
   "cell_type": "markdown",
   "metadata": {},
   "source": [
    "## Major Milestones:\n",
    "\n",
    "| Index | Milestone | Target Completion |\n",
    "| ---: | :--- | --- | \n",
    "| 1 | See if there is anything illegal about doing this... | | \n",
    "| 2 | Choose an API that allows for free trading (alpaca)  | |\n",
    "| 3 | Learn how to trade using 'paper' money in API  | |\n",
    "| 4 | Learn how to use Keras library to construct NN's  | |\n",
    "| 5 | Gain firm understanding of neural networks * Make (3) Neural Networks as practice (can't be copying code from a video!)  | |\n",
    "| 7 | Build a bot application that trades fake money based on a simple set of rules  | |\n",
    "| 8 | Build a bot application that trades real money based on a simple set of rules  | |\n",
    "| 9 | Learn how to put application in the cloud  | |\n",
    "| 10 | Learn how RNN's work  | |\n",
    "| 11 | Update prediction in program to utilize AI | |\n",
    "| 12 | Measure performance over 1 month  | |\n",
    "\n",
    "\n"
   ]
  },
  {
   "attachments": {},
   "cell_type": "markdown",
   "metadata": {},
   "source": [
    "# Resources:\n",
    "\n",
    "- See if there is anything illegal about doing this... \n",
    "    * https://www.quora.com/Can-artificial-intelligence-really-be-used-to-trade-legally-the-markets-stocks-or-whatever-with-most-accuracy-Anyone-has-done-this\n",
    "    * https://venturebeat.com/2017/05/06/ai-powered-trading-raises-new-questions/#:~:text=On%20the%20path%20to%20an,information%20available%20about%20a%20company.\n",
    "- Choose an API that allows for free trading (alpaca)  \n",
    "    * https://www.reddit.com/r/algotrading/comments/g5u88q/what_is_the_best_free_stock_trading_api/\n",
    "    * https://rapidapi.com/blog/best-stock-api/\n",
    "- Learn how to trade using 'paper' money in API  \n",
    "    * https://www.youtube.com/watch?v=9R7pCh4yCm8&t=350s\n",
    "- Learn how to use Keras library to construct NN's  \n",
    "    * https://www.youtube.com/watch?v=qFJeN9V1ZsI\n",
    "- Gain firm understanding of neural networks * Make (3) Neural Networks as practice (can't be copying code from a video!)  \n",
    "    * https://www.youtube.com/watch?v=CqOfi41LfDw&list=PLblh5JKOoLUIxGDQs4LFFD--41Vzf-ME1\n",
    "    * https://www.youtube.com/watch?v=VyWAvY2CF9c\n",
    "- Build a bot application that trades fake money based on a simple set of rules \n",
    "    * https://www.youtube.com/watch?v=xfzGZB4HhEE&t=56s\n",
    "- Build a bot application that trades real money based on a simple set of rules \n",
    "    * placeholder \n",
    "- Learn how to put application in the cloud  \n",
    "    * https://www.youtube.com/watch?v=8mjDoR6_ImQ\n",
    "    * https://www.youtube.com/watch?v=0sRLm95Xms4\n",
    "    * https://www.youtube.com/watch?v=9z5YOXhxD9Q\n",
    "- Learn how RNN's work  \n",
    "    * placeholder\n",
    "- Update prediction in program to utilize AI \n",
    "    * placeholder\n",
    "- Measure performance over 1 month  \n",
    "    * placeholder"
   ]
  },
  {
   "cell_type": "markdown",
   "metadata": {},
   "source": [
    "other thoughts\n",
    "\n",
    "- make sure to include all transactions, and amounts of money gained and lost in log files. That way it can be extracted and plotted later.\n",
    "- "
   ]
  }
 ],
 "metadata": {
  "kernelspec": {
   "display_name": "capenv",
   "language": "python",
   "name": "python3"
  },
  "language_info": {
   "codemirror_mode": {
    "name": "ipython",
    "version": 3
   },
   "file_extension": ".py",
   "mimetype": "text/x-python",
   "name": "python",
   "nbconvert_exporter": "python",
   "pygments_lexer": "ipython3",
   "version": "3.8.8"
  },
  "vscode": {
   "interpreter": {
    "hash": "462b05c1d6884d74e4190996522791c5c80e16a9d739d4e011be9ff74c38056f"
   }
  }
 },
 "nbformat": 4,
 "nbformat_minor": 4
}
