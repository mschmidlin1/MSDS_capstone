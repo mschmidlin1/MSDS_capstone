{
 "cells": [
  {
   "attachments": {},
   "cell_type": "markdown",
   "metadata": {},
   "source": [
    "# Data Sources for things related to stock data:\n",
    "\n",
    "### Market Data:\n",
    "- DOW, NASDAC (basically any market indicators)<br>\n",
    "\n",
    "### Other Financial Data\n",
    "- GDP: https://fred.stlouisfed.org/series/GDP<br>\n",
    "- US trade censes   https://usatrade.census.gov/index.php this may be redundant with GDP<br>\n",
    "- OIL data?<br>\n",
    "\n",
    "\n",
    "\n",
    "### Event and Disaster Data\n",
    "- Health Pandemics: Covid, SwineFlu, Asian Flu, Ebola?, Influenze Pandemic?<br>\n",
    "- Natural Distasters: Hurricane Katrina, Hurricane Harvey, Hurricane Maria <br>\n",
    "- War: Vietnam War, War in Iraq, War on Ukraine, Afghanistan War, <br>\n",
    "\n",
    "\n",
    "### Text Data\n",
    "Tweets: Elon Musk & tweets related to Tesla<br>\n",
    "https://pypi.org/project/twitter-scraper/<br>\n",
    "https://docs.tweepy.org/en/stable/install.html<br>\n",
    "Newspaper headlines: https://github.com/kotartemiy/pygooglenews"
   ]
  },
  {
   "cell_type": "code",
   "execution_count": null,
   "metadata": {},
   "outputs": [],
   "source": []
  },
  {
   "cell_type": "code",
   "execution_count": null,
   "metadata": {},
   "outputs": [],
   "source": []
  },
  {
   "cell_type": "code",
   "execution_count": null,
   "metadata": {},
   "outputs": [],
   "source": []
  },
  {
   "cell_type": "code",
   "execution_count": null,
   "metadata": {},
   "outputs": [],
   "source": []
  }
 ],
 "metadata": {
  "language_info": {
   "name": "python"
  },
  "orig_nbformat": 4
 },
 "nbformat": 4,
 "nbformat_minor": 2
}
