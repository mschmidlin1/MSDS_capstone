{
 "cells": [
  {
   "cell_type": "code",
   "execution_count": 34,
   "metadata": {},
   "outputs": [
    {
     "name": "stdout",
     "output_type": "stream",
     "text": [
      "The autoreload extension is already loaded. To reload it, use:\n",
      "  %reload_ext autoreload\n"
     ]
    }
   ],
   "source": [
    "%load_ext autoreload\n",
    "%autoreload 2"
   ]
  },
  {
   "cell_type": "code",
   "execution_count": 35,
   "metadata": {},
   "outputs": [],
   "source": [
    "import time\n",
    "from configs import TIMEZONE, LOG_FILE_NAME, set_logger\n",
    "from datetime import datetime, timedelta\n",
    "import pytz\n",
    "import matplotlib.pyplot as plt\n",
    "import pandas as pd\n",
    "import numpy as np\n",
    "import seaborn as sns\n",
    "from sklearn.preprocessing import MinMaxScaler, StandardScaler\n",
    "from alpaca.trading.client import TradingClient\n",
    "from alpaca.trading.requests import MarketOrderRequest\n",
    "from alpaca.trading.enums import OrderSide, TimeInForce\n",
    "from alpaca.trading.requests import GetAssetsRequest\n",
    "from alpaca.data.historical import StockHistoricalDataClient, CryptoHistoricalDataClient\n",
    "from alpaca.data.requests import StockLatestQuoteRequest, StockBarsRequest, CryptoLatestQuoteRequest\n",
    "from alpaca.data.requests import CryptoBarsRequest\n",
    "from alpaca.trading.models import Order\n",
    "from alpaca.data.timeframe import TimeFrame\n",
    "from my_secrets import ALPACA_API_BASE_URL, PAPER_API_ID, PAPER_SECRET_KEY\n",
    "import logging\n",
    "import plotly.express as px\n",
    "import plotly.graph_objects as go\n",
    "set_logger()"
   ]
  },
  {
   "cell_type": "code",
   "execution_count": 36,
   "metadata": {},
   "outputs": [],
   "source": [
    "import torch\n",
    "import torch.nn as nn"
   ]
  },
  {
   "cell_type": "code",
   "execution_count": 37,
   "metadata": {},
   "outputs": [],
   "source": [
    "from Trade_Class import Stock_Trader, Crypto_Trader\n",
    "from Market_Monitor import Market_Monitor\n",
    "from ALGO_crossover import bars_df_filter_dates, add_sma_columns, add_sma_crossovers"
   ]
  },
  {
   "cell_type": "code",
   "execution_count": 38,
   "metadata": {},
   "outputs": [],
   "source": [
    "stock_trader = Stock_Trader(PAPER_API_ID, PAPER_SECRET_KEY, paper=True)\n",
    "monitor = Market_Monitor(stock_trader.trading_client, TIMEZONE)"
   ]
  },
  {
   "cell_type": "code",
   "execution_count": 39,
   "metadata": {},
   "outputs": [
    {
     "name": "stdout",
     "output_type": "stream",
     "text": [
      "(1804, 9)\n"
     ]
    },
    {
     "data": {
      "text/html": [
       "<div>\n",
       "<style scoped>\n",
       "    .dataframe tbody tr th:only-of-type {\n",
       "        vertical-align: middle;\n",
       "    }\n",
       "\n",
       "    .dataframe tbody tr th {\n",
       "        vertical-align: top;\n",
       "    }\n",
       "\n",
       "    .dataframe thead th {\n",
       "        text-align: right;\n",
       "    }\n",
       "</style>\n",
       "<table border=\"1\" class=\"dataframe\">\n",
       "  <thead>\n",
       "    <tr style=\"text-align: right;\">\n",
       "      <th></th>\n",
       "      <th>symbol</th>\n",
       "      <th>timestamp</th>\n",
       "      <th>open</th>\n",
       "      <th>high</th>\n",
       "      <th>low</th>\n",
       "      <th>close</th>\n",
       "      <th>volume</th>\n",
       "      <th>trade_count</th>\n",
       "      <th>vwap</th>\n",
       "    </tr>\n",
       "  </thead>\n",
       "  <tbody>\n",
       "    <tr>\n",
       "      <th>0</th>\n",
       "      <td>AAPL</td>\n",
       "      <td>2015-12-01 05:00:00+00:00</td>\n",
       "      <td>118.75</td>\n",
       "      <td>118.81</td>\n",
       "      <td>116.86</td>\n",
       "      <td>117.34</td>\n",
       "      <td>34852374.0</td>\n",
       "      <td>187129.0</td>\n",
       "      <td>117.756760</td>\n",
       "    </tr>\n",
       "    <tr>\n",
       "      <th>1</th>\n",
       "      <td>AAPL</td>\n",
       "      <td>2015-12-02 05:00:00+00:00</td>\n",
       "      <td>117.05</td>\n",
       "      <td>118.11</td>\n",
       "      <td>116.08</td>\n",
       "      <td>116.28</td>\n",
       "      <td>33385643.0</td>\n",
       "      <td>180616.0</td>\n",
       "      <td>117.151198</td>\n",
       "    </tr>\n",
       "    <tr>\n",
       "      <th>2</th>\n",
       "      <td>AAPL</td>\n",
       "      <td>2015-12-03 05:00:00+00:00</td>\n",
       "      <td>116.55</td>\n",
       "      <td>116.79</td>\n",
       "      <td>114.22</td>\n",
       "      <td>115.20</td>\n",
       "      <td>41560785.0</td>\n",
       "      <td>245330.0</td>\n",
       "      <td>115.434888</td>\n",
       "    </tr>\n",
       "    <tr>\n",
       "      <th>3</th>\n",
       "      <td>AAPL</td>\n",
       "      <td>2015-12-04 05:00:00+00:00</td>\n",
       "      <td>115.29</td>\n",
       "      <td>119.25</td>\n",
       "      <td>115.11</td>\n",
       "      <td>119.03</td>\n",
       "      <td>57776977.0</td>\n",
       "      <td>307788.0</td>\n",
       "      <td>118.187290</td>\n",
       "    </tr>\n",
       "    <tr>\n",
       "      <th>4</th>\n",
       "      <td>AAPL</td>\n",
       "      <td>2015-12-07 05:00:00+00:00</td>\n",
       "      <td>118.98</td>\n",
       "      <td>119.86</td>\n",
       "      <td>117.81</td>\n",
       "      <td>118.28</td>\n",
       "      <td>32080754.0</td>\n",
       "      <td>190809.0</td>\n",
       "      <td>118.509111</td>\n",
       "    </tr>\n",
       "  </tbody>\n",
       "</table>\n",
       "</div>"
      ],
      "text/plain": [
       "  symbol                 timestamp    open    high     low   close  \\\n",
       "0   AAPL 2015-12-01 05:00:00+00:00  118.75  118.81  116.86  117.34   \n",
       "1   AAPL 2015-12-02 05:00:00+00:00  117.05  118.11  116.08  116.28   \n",
       "2   AAPL 2015-12-03 05:00:00+00:00  116.55  116.79  114.22  115.20   \n",
       "3   AAPL 2015-12-04 05:00:00+00:00  115.29  119.25  115.11  119.03   \n",
       "4   AAPL 2015-12-07 05:00:00+00:00  118.98  119.86  117.81  118.28   \n",
       "\n",
       "       volume  trade_count        vwap  \n",
       "0  34852374.0     187129.0  117.756760  \n",
       "1  33385643.0     180616.0  117.151198  \n",
       "2  41560785.0     245330.0  115.434888  \n",
       "3  57776977.0     307788.0  118.187290  \n",
       "4  32080754.0     190809.0  118.509111  "
      ]
     },
     "metadata": {},
     "output_type": "display_data"
    }
   ],
   "source": [
    "start = datetime(year=2015, month=1, day=1, hour=0, minute=0, second=0)\n",
    "end = datetime(year=2023, month=2, day=1, hour=0, minute=0, second=0)\n",
    "bars_df = stock_trader.get_bars('AAPL', start=start, end=end, time_resolution='day')\n",
    "bars_df.reset_index(inplace=True)\n",
    "bars_df.sort_values(by=['timestamp'], ascending=True, inplace=True)\n",
    "print(bars_df.shape)\n",
    "display(bars_df.head())"
   ]
  },
  {
   "cell_type": "code",
   "execution_count": 40,
   "metadata": {},
   "outputs": [],
   "source": [
    "def prep_RNN_data(bars_df, col='close', test_pct=0.25, scaler=None):\n",
    "    array = bars_df[col].values\n",
    "    if scaler!=None:\n",
    "        array = scaler.fit_transform(array.reshape(-1, 1))\n",
    "    train_size = len(array) - int(len(array)*test_pct)\n",
    "    train_array = array[:train_size]\n",
    "    test_array = array[train_size:]\n",
    "    return train_array, test_array"
   ]
  },
  {
   "cell_type": "code",
   "execution_count": 41,
   "metadata": {},
   "outputs": [],
   "source": [
    "SEQUENCE_LENGTH = 50\n",
    "NUM_EXAMPLES = 949\n",
    "NUM_LAYERS = 2\n",
    "HIDDEN_SIZE = 256\n",
    "DEVICE = 'cuda' if torch.cuda.is_available() else 'cpu'\n",
    "TEST_PCT = 0.25\n",
    "BATCH_SIZE = 32\n",
    "EPOCHS = 100"
   ]
  },
  {
   "cell_type": "code",
   "execution_count": 42,
   "metadata": {},
   "outputs": [
    {
     "data": {
      "text/plain": [
       "(1353, 451)"
      ]
     },
     "execution_count": 42,
     "metadata": {},
     "output_type": "execute_result"
    }
   ],
   "source": [
    "train_array, test_array = prep_RNN_data(bars_df, col='close', test_pct=TEST_PCT, scaler=MinMaxScaler())\n",
    "len(train_array), len(test_array)"
   ]
  },
  {
   "cell_type": "code",
   "execution_count": 43,
   "metadata": {},
   "outputs": [],
   "source": [
    "class RNNDataset(torch.utils.data.Dataset):\n",
    "    def __init__(self, data, seq_len):\n",
    "        \"\"\"\n",
    "        Takes in `data` which is a numpy array and `seq_len` which is an int.\n",
    "        \"\"\"\n",
    "        self.data = data\n",
    "        self.seq_len = seq_len\n",
    "        self.data = torch.from_numpy(data).float()\n",
    "\n",
    "    def __len__(self):\n",
    "        return (len(self.data) - self.seq_len) - 1\n",
    "    def __getitem__(self, index):\n",
    "        return self.data[index : index+self.seq_len], self.data[index+self.seq_len]"
   ]
  },
  {
   "cell_type": "code",
   "execution_count": 44,
   "metadata": {},
   "outputs": [
    {
     "data": {
      "text/plain": [
       "(1302, 400)"
      ]
     },
     "execution_count": 44,
     "metadata": {},
     "output_type": "execute_result"
    }
   ],
   "source": [
    "train_dataset = RNNDataset(train_array, SEQUENCE_LENGTH)\n",
    "test_dataset = RNNDataset(test_array, SEQUENCE_LENGTH)\n",
    "\n",
    "len(train_dataset), len(test_dataset)"
   ]
  },
  {
   "cell_type": "markdown",
   "metadata": {},
   "source": [
    "https://www.kaggle.com/code/taronzakaryan/predicting-stock-price-using-lstm-model-pytorch"
   ]
  },
  {
   "cell_type": "code",
   "execution_count": 65,
   "metadata": {},
   "outputs": [
    {
     "data": {
      "text/plain": [
       "(torch.Size([50, 1]), torch.Size([1]))"
      ]
     },
     "execution_count": 65,
     "metadata": {},
     "output_type": "execute_result"
    }
   ],
   "source": [
    "x, y = train_dataset[0]\n",
    "x.shape, y.shape"
   ]
  },
  {
   "cell_type": "code",
   "execution_count": 46,
   "metadata": {},
   "outputs": [],
   "source": [
    "def to_device(data, device):\n",
    "    \"\"\"Move tensor(s) to chosen device\"\"\"\n",
    "    if isinstance(data, (list,tuple)):\n",
    "        return [to_device(x, device) for x in data]\n",
    "    return data.to(device, non_blocking=True)\n",
    "\n",
    "class DeviceDataLoader():\n",
    "    \"\"\"Wrap a dataloader to move data to a device\"\"\"\n",
    "    def __init__(self, dl, device):\n",
    "        self.dl = dl\n",
    "        self.device = device\n",
    "        \n",
    "    def __iter__(self):\n",
    "        \"\"\"Yield a batch of data after moving it to device\"\"\"\n",
    "        for b in self.dl: \n",
    "            yield to_device(b, self.device)\n",
    "\n",
    "    def __len__(self):\n",
    "        \"\"\"Number of batches\"\"\"\n",
    "        return len(self.dl)"
   ]
  },
  {
   "cell_type": "code",
   "execution_count": 47,
   "metadata": {},
   "outputs": [],
   "source": [
    "train_loader = torch.utils.data.DataLoader(train_dataset, BATCH_SIZE, drop_last=True, shuffle=True)\n",
    "train_loader = DeviceDataLoader(train_loader, DEVICE)\n",
    "test_loader = torch.utils.data.DataLoader(test_dataset, BATCH_SIZE, drop_last=True)\n",
    "test_loader = DeviceDataLoader(test_loader, DEVICE)"
   ]
  },
  {
   "cell_type": "code",
   "execution_count": 48,
   "metadata": {},
   "outputs": [],
   "source": [
    "class RNN(nn.Module):\n",
    "    def __init__(self, input_dim, hidden_dim, num_layers, output_dim):\n",
    "        super(RNN, self).__init__()\n",
    "        # Hidden dimensions\n",
    "        self.hidden_dim = hidden_dim\n",
    "\n",
    "        # Number of hidden layers\n",
    "        self.num_layers = num_layers\n",
    "\n",
    "        # batch_first=True causes input/output tensors to be of shape\n",
    "        # (batch_dim, seq_dim, feature_dim)\n",
    "        self.rnn = nn.RNN(input_dim, hidden_dim, num_layers, batch_first=True)\n",
    "\n",
    "        # Readout layer\n",
    "        self.fc = nn.Linear(hidden_dim, output_dim)\n",
    "\n",
    "    def forward(self, x):\n",
    "\n",
    "        out, hn = self.rnn(x) #by not providing hidden state it is automatically set to 0's\n",
    "\n",
    "        # out.size() --> batch_size, sequence_length, hidden_size --> torch.Size([32, 50, 100])\n",
    "        # out[:, -1, :] --> batch_size, hidden_size -->torch.Size([32, 100]) --> just want last time step! \n",
    "        out = self.fc(out[:, -1, :]) \n",
    "        # out.size() --> batch_size, output_dim --> 100, 1\n",
    "        return out"
   ]
  },
  {
   "cell_type": "code",
   "execution_count": 49,
   "metadata": {},
   "outputs": [],
   "source": [
    "class LSTM(nn.Module):\n",
    "    def __init__(self, input_dim, hidden_dim, num_layers, output_dim):\n",
    "        super(LSTM, self).__init__()\n",
    "        # Hidden dimensions\n",
    "        self.hidden_dim = hidden_dim\n",
    "\n",
    "        # Number of hidden layers\n",
    "        self.num_layers = num_layers\n",
    "\n",
    "        # batch_first=True causes input/output tensors to be of shape\n",
    "        # (batch_dim, seq_dim, feature_dim)\n",
    "        self.lstm = nn.LSTM(input_dim, hidden_dim, num_layers, batch_first=True)\n",
    "\n",
    "        # Readout layer\n",
    "        self.fc = nn.Linear(hidden_dim, output_dim)\n",
    "\n",
    "    def forward(self, x):\n",
    "\n",
    "        out, (hn, cn) = self.lstm(x) #by not providing hidden state and cell state they are automatically set to 0's\n",
    "\n",
    "        # out.size() --> batch_size, sequence_length, hidden_size --> torch.Size([32, 50, 100])\n",
    "        # out[:, -1, :] --> batch_size, hidden_size -->torch.Size([32, 100]) --> just want last time step! \n",
    "        out = self.fc(out[:, -1, :]) \n",
    "        # out.size() --> batch_size, output_dim --> 100, 1\n",
    "        return out\n",
    "    \n"
   ]
  },
  {
   "cell_type": "code",
   "execution_count": 50,
   "metadata": {},
   "outputs": [],
   "source": [
    "class GRU(nn.Module):\n",
    "    def __init__(self, input_dim, hidden_dim, num_layers, output_dim):\n",
    "        super(GRU, self).__init__()\n",
    "        # Hidden dimensions\n",
    "        self.hidden_dim = hidden_dim\n",
    "\n",
    "        # Number of hidden layers\n",
    "        self.num_layers = num_layers\n",
    "\n",
    "        # batch_first=True causes input/output tensors to be of shape\n",
    "        # (batch_dim, seq_dim, feature_dim)\n",
    "        self.gru = nn.GRU(input_dim, hidden_dim, num_layers, batch_first=True)\n",
    "\n",
    "        # Readout layer\n",
    "        self.fc = nn.Linear(hidden_dim, output_dim)\n",
    "\n",
    "    def forward(self, x):\n",
    "\n",
    "        out, hn = self.gru(x) #by not providing hidden state it is automatically set to 0's\n",
    "\n",
    "        # out.size() --> batch_size, sequence_length, hidden_size --> torch.Size([32, 50, 100])\n",
    "        # out[:, -1, :] --> batch_size, hidden_size -->torch.Size([32, 100]) --> just want last time step! \n",
    "        out = self.fc(out[:, -1, :]) \n",
    "        # out.size() --> batch_size, output_dim --> 100, 1\n",
    "        return out"
   ]
  },
  {
   "cell_type": "code",
   "execution_count": 51,
   "metadata": {},
   "outputs": [],
   "source": [
    "rnn_model = RNN(input_dim=1, hidden_dim=100, output_dim=1, num_layers=2)\n",
    "rnn_model.to(DEVICE)\n",
    "lstm_model = RNN(input_dim=1, hidden_dim=100, output_dim=1, num_layers=2)\n",
    "lstm_model.to(DEVICE)\n",
    "gru_model = GRU(input_dim=1, hidden_dim=100, output_dim=1, num_layers=2)\n",
    "gru_model.to(DEVICE)\n",
    "\n",
    "loss_fn = torch.nn.MSELoss()\n",
    "\n",
    "rnn_optimizer = torch.optim.Adam(rnn_model.parameters(), lr=0.01)\n",
    "lstm_optimizer = torch.optim.Adam(lstm_model.parameters(), lr=0.01)\n",
    "gru_optimizer = torch.optim.Adam(gru_model.parameters(), lr=0.01)"
   ]
  },
  {
   "cell_type": "code",
   "execution_count": 52,
   "metadata": {},
   "outputs": [],
   "source": [
    "def fit_model(num_epochs: int, model: nn.Module, train_loader: torch.utils.data.DataLoader, test_loader: torch.utils.data.DataLoader, loss_fn, optimizer: torch.optim):\n",
    "    training_losses = []\n",
    "    testing_losses = []\n",
    "    \n",
    "    for e in range(num_epochs):\n",
    "        # Forward pass\n",
    "        train_losses = []\n",
    "        model.train()\n",
    "        for batch in train_loader:\n",
    "            X_train, y_train = batch\n",
    "            y_train_pred = model(X_train)\n",
    "            loss = loss_fn(y_train_pred, y_train)\n",
    "            train_losses.append(loss)\n",
    "            optimizer.zero_grad()\n",
    "            loss.backward()\n",
    "            optimizer.step()\n",
    "        \n",
    "        test_losses = []\n",
    "        with torch.inference_mode():\n",
    "            model.eval()\n",
    "            for batch in test_loader:\n",
    "                X_test, y_test = batch\n",
    "                y_test_pred = model(X_test)\n",
    "                loss = loss_fn(y_test_pred, y_test)\n",
    "                test_losses.append(loss)\n",
    "\n",
    "        training_losses.append(torch.mean(torch.FloatTensor(train_losses)))\n",
    "        testing_losses.append(torch.mean(torch.FloatTensor(test_losses)))\n",
    "        if e % 5 == 0:\n",
    "            print(f\"Epoch {e}  \\tTrain MSE: {torch.mean(torch.FloatTensor(train_losses)):.5f}\\tTest MSE: {torch.mean(torch.FloatTensor(test_losses)):.5f}\")\n",
    "    return training_losses, testing_losses"
   ]
  },
  {
   "cell_type": "code",
   "execution_count": 53,
   "metadata": {},
   "outputs": [
    {
     "name": "stdout",
     "output_type": "stream",
     "text": [
      "Epoch 0  \tTrain MSE: 0.29084\tTest MSE: 0.08370\n",
      "Epoch 5  \tTrain MSE: 0.06545\tTest MSE: 0.18441\n",
      "Epoch 10  \tTrain MSE: 0.03429\tTest MSE: 0.00940\n",
      "Epoch 15  \tTrain MSE: 0.03366\tTest MSE: 0.02134\n",
      "Epoch 20  \tTrain MSE: 0.03593\tTest MSE: 0.00713\n",
      "Epoch 25  \tTrain MSE: 0.03751\tTest MSE: 0.00100\n",
      "Epoch 30  \tTrain MSE: 0.03449\tTest MSE: 0.00751\n",
      "Epoch 35  \tTrain MSE: 0.03916\tTest MSE: 0.00170\n",
      "Epoch 40  \tTrain MSE: 0.03342\tTest MSE: 0.02512\n",
      "Epoch 45  \tTrain MSE: 0.03877\tTest MSE: 0.02712\n",
      "Epoch 50  \tTrain MSE: 0.03568\tTest MSE: 0.00436\n",
      "Epoch 55  \tTrain MSE: 0.04659\tTest MSE: 0.00113\n",
      "Epoch 60  \tTrain MSE: 0.03789\tTest MSE: 0.01721\n",
      "Epoch 65  \tTrain MSE: 0.06324\tTest MSE: 0.00091\n",
      "Epoch 70  \tTrain MSE: 0.03930\tTest MSE: 0.03125\n",
      "Epoch 75  \tTrain MSE: 0.03938\tTest MSE: 0.00098\n",
      "Epoch 80  \tTrain MSE: 0.03855\tTest MSE: 0.04892\n",
      "Epoch 85  \tTrain MSE: 0.04231\tTest MSE: 0.00095\n",
      "Epoch 90  \tTrain MSE: 0.03700\tTest MSE: 0.01650\n",
      "Epoch 95  \tTrain MSE: 0.03770\tTest MSE: 0.00100\n"
     ]
    }
   ],
   "source": [
    "rnn_training_losses, rnn_testing_losses = fit_model(100, rnn_model, train_loader, test_loader, loss_fn, rnn_optimizer)"
   ]
  },
  {
   "cell_type": "code",
   "execution_count": 54,
   "metadata": {},
   "outputs": [
    {
     "name": "stdout",
     "output_type": "stream",
     "text": [
      "Epoch 0  \tTrain MSE: 0.52827\tTest MSE: 0.02431\n",
      "Epoch 5  \tTrain MSE: 0.03319\tTest MSE: 0.00342\n",
      "Epoch 10  \tTrain MSE: 0.03593\tTest MSE: 0.00107\n",
      "Epoch 15  \tTrain MSE: 0.03806\tTest MSE: 0.00093\n",
      "Epoch 20  \tTrain MSE: 0.00978\tTest MSE: 0.00049\n",
      "Epoch 25  \tTrain MSE: 0.00206\tTest MSE: 0.00125\n",
      "Epoch 30  \tTrain MSE: 0.00275\tTest MSE: 0.00093\n",
      "Epoch 35  \tTrain MSE: 0.00151\tTest MSE: 0.00011\n",
      "Epoch 40  \tTrain MSE: 0.00282\tTest MSE: 0.00243\n",
      "Epoch 45  \tTrain MSE: 0.00298\tTest MSE: 0.00209\n",
      "Epoch 50  \tTrain MSE: 0.00371\tTest MSE: 0.00126\n",
      "Epoch 55  \tTrain MSE: 0.00312\tTest MSE: 0.00045\n",
      "Epoch 60  \tTrain MSE: 0.00257\tTest MSE: 0.00198\n",
      "Epoch 65  \tTrain MSE: 0.00351\tTest MSE: 0.00577\n",
      "Epoch 70  \tTrain MSE: 0.00393\tTest MSE: 0.00241\n",
      "Epoch 75  \tTrain MSE: 0.00300\tTest MSE: 0.00017\n",
      "Epoch 80  \tTrain MSE: 0.00316\tTest MSE: 0.00056\n",
      "Epoch 85  \tTrain MSE: 0.00207\tTest MSE: 0.00145\n",
      "Epoch 90  \tTrain MSE: 0.00332\tTest MSE: 0.00027\n",
      "Epoch 95  \tTrain MSE: 0.00356\tTest MSE: 0.00106\n"
     ]
    }
   ],
   "source": [
    "lstm_training_losses, lstm_testing_losses = fit_model(100, lstm_model, train_loader, test_loader, loss_fn, lstm_optimizer)"
   ]
  },
  {
   "cell_type": "code",
   "execution_count": 55,
   "metadata": {},
   "outputs": [
    {
     "name": "stdout",
     "output_type": "stream",
     "text": [
      "Epoch 0  \tTrain MSE: 0.02503\tTest MSE: 0.00056\n",
      "Epoch 5  \tTrain MSE: 0.00116\tTest MSE: 0.00008\n",
      "Epoch 10  \tTrain MSE: 0.00080\tTest MSE: 0.00014\n",
      "Epoch 15  \tTrain MSE: 0.00098\tTest MSE: 0.00023\n",
      "Epoch 20  \tTrain MSE: 0.00125\tTest MSE: 0.00007\n",
      "Epoch 25  \tTrain MSE: 0.00108\tTest MSE: 0.00007\n",
      "Epoch 30  \tTrain MSE: 0.00094\tTest MSE: 0.00012\n",
      "Epoch 35  \tTrain MSE: 0.00100\tTest MSE: 0.00011\n",
      "Epoch 40  \tTrain MSE: 0.00098\tTest MSE: 0.00017\n",
      "Epoch 45  \tTrain MSE: 0.00087\tTest MSE: 0.00030\n",
      "Epoch 50  \tTrain MSE: 0.00104\tTest MSE: 0.00043\n",
      "Epoch 55  \tTrain MSE: 0.00083\tTest MSE: 0.00023\n",
      "Epoch 60  \tTrain MSE: 0.00114\tTest MSE: 0.00007\n",
      "Epoch 65  \tTrain MSE: 0.00086\tTest MSE: 0.00047\n",
      "Epoch 70  \tTrain MSE: 0.00100\tTest MSE: 0.00019\n",
      "Epoch 75  \tTrain MSE: 0.00093\tTest MSE: 0.00009\n",
      "Epoch 80  \tTrain MSE: 0.00095\tTest MSE: 0.00010\n",
      "Epoch 85  \tTrain MSE: 0.00086\tTest MSE: 0.00009\n",
      "Epoch 90  \tTrain MSE: 0.00091\tTest MSE: 0.00006\n",
      "Epoch 95  \tTrain MSE: 0.00090\tTest MSE: 0.00010\n"
     ]
    }
   ],
   "source": [
    "gru_training_losses, gru_testing_losses = fit_model(100, gru_model, train_loader, test_loader, loss_fn, gru_optimizer)"
   ]
  },
  {
   "cell_type": "code",
   "execution_count": 56,
   "metadata": {},
   "outputs": [],
   "source": [
    "def plot_losses(num_epochs, training_losses, testing_losses, title_addition=''):\n",
    "    training_losses = torch.FloatTensor(training_losses).cpu().numpy()\n",
    "    testing_losses = torch.FloatTensor(testing_losses).cpu().numpy()\n",
    "\n",
    "    fig, ax = plt.subplots()\n",
    "    ax.plot(np.array(range(num_epochs)), training_losses, c='blue', label='Test Loss')\n",
    "    ax.plot(np.array(range(num_epochs)), testing_losses, c='orange', label='Train Loss')\n",
    "\n",
    "    ax.set_title(f\"Training Vs Testing Losses\\n{title_addition}\")"
   ]
  },
  {
   "cell_type": "code",
   "execution_count": 57,
   "metadata": {},
   "outputs": [
    {
     "data": {
      "image/png": "[encoded data removed]",
      "text/plain": [
       "<Figure size 640x480 with 1 Axes>"
      ]
     },
     "metadata": {},
     "output_type": "display_data"
    }
   ],
   "source": [
    "plot_losses(100, rnn_training_losses, rnn_testing_losses, title_addition='RNN Model')"
   ]
  },
  {
   "cell_type": "code",
   "execution_count": 58,
   "metadata": {},
   "outputs": [
    {
     "data": {
      "image/png": "[encoded data removed]",
      "text/plain": [
       "<Figure size 640x480 with 1 Axes>"
      ]
     },
     "metadata": {},
     "output_type": "display_data"
    }
   ],
   "source": [
    "plot_losses(100, lstm_training_losses, lstm_testing_losses, title_addition='LSTM Model')"
   ]
  },
  {
   "cell_type": "code",
   "execution_count": 59,
   "metadata": {},
   "outputs": [
    {
     "data": {
      "image/png": "[encoded data removed]",
      "text/plain": [
       "<Figure size 640x480 with 1 Axes>"
      ]
     },
     "metadata": {},
     "output_type": "display_data"
    }
   ],
   "source": [
    "plot_losses(100, gru_training_losses, gru_testing_losses, title_addition='GRU Model')"
   ]
  },
  {
   "cell_type": "code",
   "execution_count": null,
   "metadata": {},
   "outputs": [],
   "source": [
    "(100, rnn_model, train_loader, test_loader, loss_fn, rnn_optimizer)"
   ]
  },
  {
   "cell_type": "code",
   "execution_count": 84,
   "metadata": {},
   "outputs": [],
   "source": [
    "def rnn_type_predict(model, array, device):\n",
    "    model.eval()\n",
    "    array = torch.from_numpy(array).float()\n",
    "    array = torch.unsqueeze(array, 0) #unsqueeze once for batch size of 1\n",
    "    array = array.to(device)\n",
    "    with torch.inference_mode():\n",
    "        pred = model(array)\n",
    "\n",
    "    return float(pred.squeeze().cpu())"
   ]
  },
  {
   "cell_type": "code",
   "execution_count": 93,
   "metadata": {},
   "outputs": [],
   "source": [
    "def visualize_predictions(model, train_array, test_array, device):\n",
    "    x = np.arange((len(train_array)+len(test_array)))\n",
    "\n",
    "    y = np.append(np.squeeze(train_array), np.squeeze(test_array))\n",
    "    \n",
    "\n",
    "    preds = []\n",
    "    for i in range(50, len(test_array)-1):\n",
    "        preds.append(rnn_type_predict(model, test_array[i-50:i], device))\n",
    "    \n",
    "    preds = np.array(preds)\n",
    "\n",
    "    x_preds = np.arange(start=len(train_array)+50, stop=len(y)-1)\n",
    "\n",
    "    #print(preds.shape, x_preds.shape)\n",
    "\n",
    "    fig, ax = plt.subplots()\n",
    "\n",
    "    ax.plot(x, y)\n",
    "    ax.plot(x_preds, preds, c='orange', label='predictions')\n",
    "    plt.show()\n",
    "    return ax\n",
    "\n",
    "\n"
   ]
  },
  {
   "cell_type": "code",
   "execution_count": 96,
   "metadata": {},
   "outputs": [
    {
     "data": {
      "image/png": "[encoded data removed]",
      "text/plain": [
       "<Figure size 640x480 with 1 Axes>"
      ]
     },
     "metadata": {},
     "output_type": "display_data"
    },
    {
     "data": {
      "text/plain": [
       "<Axes: >"
      ]
     },
     "execution_count": 96,
     "metadata": {},
     "output_type": "execute_result"
    }
   ],
   "source": [
    "visualize_predictions(rnn_model, train_array, test_array, DEVICE)"
   ]
  },
  {
   "cell_type": "code",
   "execution_count": 88,
   "metadata": {},
   "outputs": [
    {
     "data": {
      "text/plain": [
       "1804"
      ]
     },
     "execution_count": 88,
     "metadata": {},
     "output_type": "execute_result"
    }
   ],
   "source": [
    "\n",
    "\n",
    "len(np.append(train_array, test_array))"
   ]
  },
  {
   "cell_type": "code",
   "execution_count": 85,
   "metadata": {},
   "outputs": [
    {
     "data": {
      "text/plain": [
       "0.24177201092243195"
      ]
     },
     "execution_count": 85,
     "metadata": {},
     "output_type": "execute_result"
    }
   ],
   "source": [
    "rnn_type_predict(rnn_model, train_array[:50], DEVICE)"
   ]
  },
  {
   "cell_type": "code",
   "execution_count": 66,
   "metadata": {},
   "outputs": [
    {
     "data": {
      "text/plain": [
       "(1353, 451)"
      ]
     },
     "execution_count": 66,
     "metadata": {},
     "output_type": "execute_result"
    }
   ],
   "source": [
    "len(train_array), len(test_array)"
   ]
  },
  {
   "cell_type": "code",
   "execution_count": 60,
   "metadata": {},
   "outputs": [
    {
     "data": {
      "text/plain": [
       "400"
      ]
     },
     "execution_count": 60,
     "metadata": {},
     "output_type": "execute_result"
    }
   ],
   "source": [
    "len(test_dataset)"
   ]
  },
  {
   "cell_type": "code",
   "execution_count": 61,
   "metadata": {},
   "outputs": [
    {
     "data": {
      "text/plain": [
       "1302"
      ]
     },
     "execution_count": 61,
     "metadata": {},
     "output_type": "execute_result"
    }
   ],
   "source": [
    "len(train_dataset)"
   ]
  },
  {
   "cell_type": "code",
   "execution_count": 63,
   "metadata": {},
   "outputs": [],
   "source": [
    "X, y = train_dataset[0]"
   ]
  },
  {
   "cell_type": "code",
   "execution_count": 64,
   "metadata": {},
   "outputs": [
    {
     "data": {
      "text/plain": [
       "(torch.Size([50, 1]), torch.Size([1]))"
      ]
     },
     "execution_count": 64,
     "metadata": {},
     "output_type": "execute_result"
    }
   ],
   "source": [
    "X.shape, y.shape"
   ]
  }
 ],
 "metadata": {
  "kernelspec": {
   "display_name": "capenv",
   "language": "python",
   "name": "python3"
  },
  "language_info": {
   "codemirror_mode": {
    "name": "ipython",
    "version": 3
   },
   "file_extension": ".py",
   "mimetype": "text/x-python",
   "name": "python",
   "nbconvert_exporter": "python",
   "pygments_lexer": "ipython3",
   "version": "3.8.8"
  },
  "orig_nbformat": 4,
  "vscode": {
   "interpreter": {
    "hash": "462b05c1d6884d74e4190996522791c5c80e16a9d739d4e011be9ff74c38056f"
   }
  }
 },
 "nbformat": 4,
 "nbformat_minor": 2
}
