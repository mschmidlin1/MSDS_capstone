{
 "cells": [
  {
   "cell_type": "code",
   "execution_count": 4,
   "metadata": {},
   "outputs": [],
   "source": [
    "%load_ext autoreload\n",
    "%autoreload 2"
   ]
  },
  {
   "cell_type": "code",
   "execution_count": 47,
   "metadata": {},
   "outputs": [],
   "source": [
    "import time\n",
    "from configs import TIMEZONE, LOG_FILE_NAME, set_logger\n",
    "import datetime\n",
    "import pytz\n",
    "import pandas as pd\n",
    "import numpy as np\n",
    "from alpaca.trading.client import TradingClient\n",
    "from alpaca.trading.requests import MarketOrderRequest\n",
    "from alpaca.trading.enums import OrderSide, TimeInForce\n",
    "from alpaca.trading.requests import GetAssetsRequest\n",
    "from alpaca.data.historical import StockHistoricalDataClient, CryptoHistoricalDataClient\n",
    "from alpaca.data.requests import StockLatestQuoteRequest, StockBarsRequest, CryptoLatestQuoteRequest\n",
    "from alpaca.data.requests import CryptoBarsRequest\n",
    "from alpaca.trading.models import Order\n",
    "from alpaca.data.timeframe import TimeFrame\n",
    "from my_secrets import ALPACA_API_BASE_URL, PAPER_API_ID, PAPER_SECRET_KEY\n",
    "import logging\n",
    "set_logger()"
   ]
  },
  {
   "cell_type": "code",
   "execution_count": 48,
   "metadata": {},
   "outputs": [],
   "source": [
    "from Trade_Class import Stock_Trader, Crypto_Trader\n",
    "from Market_Monitor import Market_Monitor"
   ]
  },
  {
   "attachments": {},
   "cell_type": "markdown",
   "metadata": {},
   "source": [
    "# Test `Stock_Trader` class"
   ]
  },
  {
   "cell_type": "code",
   "execution_count": 3,
   "metadata": {},
   "outputs": [],
   "source": [
    "stock_trader = Stock_Trader(PAPER_API_ID, PAPER_SECRET_KEY, paper=True)"
   ]
  },
  {
   "cell_type": "code",
   "execution_count": 10,
   "metadata": {},
   "outputs": [
    {
     "data": {
      "text/plain": [
       "115488.78"
      ]
     },
     "execution_count": 10,
     "metadata": {},
     "output_type": "execute_result"
    }
   ],
   "source": [
    "stock_trader.get_buying_power()\n",
    "stock_trader.buying_power"
   ]
  },
  {
   "cell_type": "code",
   "execution_count": 37,
   "metadata": {},
   "outputs": [
    {
     "data": {
      "text/html": [
       "<div>\n",
       "<style scoped>\n",
       "    .dataframe tbody tr th:only-of-type {\n",
       "        vertical-align: middle;\n",
       "    }\n",
       "\n",
       "    .dataframe tbody tr th {\n",
       "        vertical-align: top;\n",
       "    }\n",
       "\n",
       "    .dataframe thead th {\n",
       "        text-align: right;\n",
       "    }\n",
       "</style>\n",
       "<table border=\"1\" class=\"dataframe\">\n",
       "  <thead>\n",
       "    <tr style=\"text-align: right;\">\n",
       "      <th></th>\n",
       "      <th>asset_id</th>\n",
       "      <th>symbol</th>\n",
       "      <th>exchange</th>\n",
       "      <th>asset_class</th>\n",
       "      <th>avg_entry_price</th>\n",
       "      <th>qty</th>\n",
       "      <th>side</th>\n",
       "      <th>market_value</th>\n",
       "      <th>cost_basis</th>\n",
       "      <th>unrealized_pl</th>\n",
       "      <th>unrealized_plpc</th>\n",
       "      <th>unrealized_intraday_pl</th>\n",
       "      <th>unrealized_intraday_plpc</th>\n",
       "      <th>current_price</th>\n",
       "      <th>lastday_price</th>\n",
       "      <th>change_today</th>\n",
       "    </tr>\n",
       "  </thead>\n",
       "  <tbody>\n",
       "    <tr>\n",
       "      <th>0</th>\n",
       "      <td>b0b6dd9d-8b9b-48a9-ba46-b9d54906e415</td>\n",
       "      <td>AAPL</td>\n",
       "      <td>AssetExchange.NASDAQ</td>\n",
       "      <td>AssetClass.US_EQUITY</td>\n",
       "      <td>126.932500</td>\n",
       "      <td>8.000000</td>\n",
       "      <td>PositionSide.LONG</td>\n",
       "      <td>1235.120000</td>\n",
       "      <td>1015.460000</td>\n",
       "      <td>219.660000</td>\n",
       "      <td>0.216316</td>\n",
       "      <td>-0.880000</td>\n",
       "      <td>-0.000712</td>\n",
       "      <td>154.39</td>\n",
       "      <td>154.5</td>\n",
       "      <td>-0.000712</td>\n",
       "    </tr>\n",
       "    <tr>\n",
       "      <th>1</th>\n",
       "      <td>64bbff51-59d6-4b3c-9351-13ad85e3c752</td>\n",
       "      <td>BTCUSD</td>\n",
       "      <td>AssetExchange.FTXU</td>\n",
       "      <td>AssetClass.CRYPTO</td>\n",
       "      <td>23041.556185</td>\n",
       "      <td>1.811753</td>\n",
       "      <td>PositionSide.LONG</td>\n",
       "      <td>41674.350845</td>\n",
       "      <td>41745.618312</td>\n",
       "      <td>-71.267467</td>\n",
       "      <td>-0.001707</td>\n",
       "      <td>-694.046502</td>\n",
       "      <td>-0.016381</td>\n",
       "      <td>23002.22</td>\n",
       "      <td>23385.3</td>\n",
       "      <td>-0.016381</td>\n",
       "    </tr>\n",
       "  </tbody>\n",
       "</table>\n",
       "</div>"
      ],
      "text/plain": [
       "                               asset_id  symbol              exchange  \\\n",
       "0  b0b6dd9d-8b9b-48a9-ba46-b9d54906e415    AAPL  AssetExchange.NASDAQ   \n",
       "1  64bbff51-59d6-4b3c-9351-13ad85e3c752  BTCUSD    AssetExchange.FTXU   \n",
       "\n",
       "            asset_class  avg_entry_price       qty               side  \\\n",
       "0  AssetClass.US_EQUITY       126.932500  8.000000  PositionSide.LONG   \n",
       "1     AssetClass.CRYPTO     23041.556185  1.811753  PositionSide.LONG   \n",
       "\n",
       "   market_value    cost_basis  unrealized_pl  unrealized_plpc  \\\n",
       "0   1235.120000   1015.460000     219.660000         0.216316   \n",
       "1  41674.350845  41745.618312     -71.267467        -0.001707   \n",
       "\n",
       "   unrealized_intraday_pl  unrealized_intraday_plpc  current_price  \\\n",
       "0               -0.880000                 -0.000712         154.39   \n",
       "1             -694.046502                 -0.016381       23002.22   \n",
       "\n",
       "   lastday_price  change_today  \n",
       "0          154.5     -0.000712  \n",
       "1        23385.3     -0.016381  "
      ]
     },
     "execution_count": 37,
     "metadata": {},
     "output_type": "execute_result"
    }
   ],
   "source": [
    "stock_trader.get_all_positions()\n",
    "stock_trader.positions_df.head()"
   ]
  },
  {
   "cell_type": "code",
   "execution_count": 38,
   "metadata": {},
   "outputs": [],
   "source": [
    "stock_trader.sell_all()"
   ]
  },
  {
   "cell_type": "code",
   "execution_count": 39,
   "metadata": {},
   "outputs": [
    {
     "data": {
      "text/html": [
       "<div>\n",
       "<style scoped>\n",
       "    .dataframe tbody tr th:only-of-type {\n",
       "        vertical-align: middle;\n",
       "    }\n",
       "\n",
       "    .dataframe tbody tr th {\n",
       "        vertical-align: top;\n",
       "    }\n",
       "\n",
       "    .dataframe thead th {\n",
       "        text-align: right;\n",
       "    }\n",
       "</style>\n",
       "<table border=\"1\" class=\"dataframe\">\n",
       "  <thead>\n",
       "    <tr style=\"text-align: right;\">\n",
       "      <th></th>\n",
       "      <th>asset_id</th>\n",
       "      <th>symbol</th>\n",
       "      <th>exchange</th>\n",
       "      <th>asset_class</th>\n",
       "      <th>avg_entry_price</th>\n",
       "      <th>qty</th>\n",
       "      <th>side</th>\n",
       "      <th>market_value</th>\n",
       "      <th>cost_basis</th>\n",
       "      <th>unrealized_pl</th>\n",
       "      <th>unrealized_plpc</th>\n",
       "      <th>unrealized_intraday_pl</th>\n",
       "      <th>unrealized_intraday_plpc</th>\n",
       "      <th>current_price</th>\n",
       "      <th>lastday_price</th>\n",
       "      <th>change_today</th>\n",
       "    </tr>\n",
       "  </thead>\n",
       "  <tbody>\n",
       "    <tr>\n",
       "      <th>0</th>\n",
       "      <td>b0b6dd9d-8b9b-48a9-ba46-b9d54906e415</td>\n",
       "      <td>AAPL</td>\n",
       "      <td>AssetExchange.NASDAQ</td>\n",
       "      <td>AssetClass.US_EQUITY</td>\n",
       "      <td>126.9325</td>\n",
       "      <td>8</td>\n",
       "      <td>PositionSide.LONG</td>\n",
       "      <td>1235.12</td>\n",
       "      <td>1015.46</td>\n",
       "      <td>219.66</td>\n",
       "      <td>0.216316</td>\n",
       "      <td>-0.88</td>\n",
       "      <td>-0.000712</td>\n",
       "      <td>154.39</td>\n",
       "      <td>154.5</td>\n",
       "      <td>-0.000712</td>\n",
       "    </tr>\n",
       "  </tbody>\n",
       "</table>\n",
       "</div>"
      ],
      "text/plain": [
       "                               asset_id symbol              exchange  \\\n",
       "0  b0b6dd9d-8b9b-48a9-ba46-b9d54906e415   AAPL  AssetExchange.NASDAQ   \n",
       "\n",
       "            asset_class  avg_entry_price  qty               side  \\\n",
       "0  AssetClass.US_EQUITY         126.9325    8  PositionSide.LONG   \n",
       "\n",
       "   market_value  cost_basis  unrealized_pl  unrealized_plpc  \\\n",
       "0       1235.12     1015.46         219.66         0.216316   \n",
       "\n",
       "   unrealized_intraday_pl  unrealized_intraday_plpc  current_price  \\\n",
       "0                   -0.88                 -0.000712         154.39   \n",
       "\n",
       "   lastday_price  change_today  \n",
       "0          154.5     -0.000712  "
      ]
     },
     "execution_count": 39,
     "metadata": {},
     "output_type": "execute_result"
    }
   ],
   "source": [
    "stock_trader.get_all_positions()\n",
    "stock_trader.positions_df.head()"
   ]
  },
  {
   "cell_type": "code",
   "execution_count": null,
   "metadata": {},
   "outputs": [],
   "source": []
  },
  {
   "cell_type": "code",
   "execution_count": null,
   "metadata": {},
   "outputs": [],
   "source": []
  },
  {
   "cell_type": "code",
   "execution_count": null,
   "metadata": {},
   "outputs": [],
   "source": []
  },
  {
   "cell_type": "code",
   "execution_count": null,
   "metadata": {},
   "outputs": [],
   "source": []
  },
  {
   "cell_type": "code",
   "execution_count": null,
   "metadata": {},
   "outputs": [],
   "source": []
  },
  {
   "attachments": {},
   "cell_type": "markdown",
   "metadata": {},
   "source": [
    "# Test `Crypto_Trader` class"
   ]
  },
  {
   "cell_type": "code",
   "execution_count": 41,
   "metadata": {},
   "outputs": [],
   "source": [
    "crypto_trader = Crypto_Trader(PAPER_API_ID, PAPER_SECRET_KEY, paper=True)"
   ]
  },
  {
   "cell_type": "code",
   "execution_count": 42,
   "metadata": {},
   "outputs": [
    {
     "data": {
      "text/plain": [
       "198453.57880488134"
      ]
     },
     "execution_count": 42,
     "metadata": {},
     "output_type": "execute_result"
    }
   ],
   "source": [
    "crypto_trader.get_buying_power()\n",
    "crypto_trader.buying_power"
   ]
  },
  {
   "cell_type": "code",
   "execution_count": 45,
   "metadata": {},
   "outputs": [
    {
     "data": {
      "text/plain": [
       "['WBTC/USD', 'BTC/USDT', 'DAI/USD', 'BTC/USD', 'YFI/USDT']"
      ]
     },
     "execution_count": 45,
     "metadata": {},
     "output_type": "execute_result"
    }
   ],
   "source": [
    "crypto_trader.get_available_symbols()\n",
    "crypto_trader.asset_symbols[:5]"
   ]
  },
  {
   "cell_type": "code",
   "execution_count": 56,
   "metadata": {},
   "outputs": [
    {
     "data": {
      "text/plain": [
       "22962.99"
      ]
     },
     "execution_count": 56,
     "metadata": {},
     "output_type": "execute_result"
    }
   ],
   "source": [
    "crypto_trader.get_ask_price('BTC/USD')"
   ]
  },
  {
   "cell_type": "code",
   "execution_count": null,
   "metadata": {},
   "outputs": [],
   "source": []
  },
  {
   "cell_type": "code",
   "execution_count": 57,
   "metadata": {},
   "outputs": [
    {
     "name": "stdout",
     "output_type": "stream",
     "text": [
      "0\n"
     ]
    }
   ],
   "source": [
    "ret = crypto_trader.buy('BTC/USD', price=10000)\n",
    "print(ret) #return of 0 means the function executed correctly, return of anything else means it did not"
   ]
  },
  {
   "cell_type": "code",
   "execution_count": null,
   "metadata": {},
   "outputs": [],
   "source": []
  },
  {
   "cell_type": "code",
   "execution_count": null,
   "metadata": {},
   "outputs": [],
   "source": []
  }
 ],
 "metadata": {
  "kernelspec": {
   "display_name": "capenv",
   "language": "python",
   "name": "python3"
  },
  "language_info": {
   "codemirror_mode": {
    "name": "ipython",
    "version": 3
   },
   "file_extension": ".py",
   "mimetype": "text/x-python",
   "name": "python",
   "nbconvert_exporter": "python",
   "pygments_lexer": "ipython3",
   "version": "3.8.8"
  },
  "orig_nbformat": 4,
  "vscode": {
   "interpreter": {
    "hash": "462b05c1d6884d74e4190996522791c5c80e16a9d739d4e011be9ff74c38056f"
   }
  }
 },
 "nbformat": 4,
 "nbformat_minor": 2
}
