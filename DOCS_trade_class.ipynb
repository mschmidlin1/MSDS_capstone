{
 "cells": [
  {
   "cell_type": "code",
   "execution_count": 1,
   "metadata": {},
   "outputs": [],
   "source": [
    "%load_ext autoreload\n",
    "%autoreload 2"
   ]
  },
  {
   "cell_type": "code",
   "execution_count": 2,
   "metadata": {},
   "outputs": [],
   "source": [
    "import time\n",
    "from configs import TIMEZONE, LOG_FILE_NAME, set_logger\n",
    "from datetime import datetime\n",
    "import pytz\n",
    "import pandas as pd\n",
    "import numpy as np\n",
    "from alpaca.trading.client import TradingClient\n",
    "from alpaca.trading.requests import MarketOrderRequest\n",
    "from alpaca.trading.enums import OrderSide, TimeInForce\n",
    "from alpaca.trading.requests import GetAssetsRequest\n",
    "from alpaca.data.historical import StockHistoricalDataClient, CryptoHistoricalDataClient\n",
    "from alpaca.data.requests import StockLatestQuoteRequest, StockBarsRequest, CryptoLatestQuoteRequest\n",
    "from alpaca.data.requests import CryptoBarsRequest\n",
    "from alpaca.trading.models import Order\n",
    "from alpaca.data.timeframe import TimeFrame\n",
    "from my_secrets import ALPACA_API_BASE_URL, PAPER_API_ID, PAPER_SECRET_KEY\n",
    "import logging\n",
    "set_logger()"
   ]
  },
  {
   "cell_type": "code",
   "execution_count": 3,
   "metadata": {},
   "outputs": [],
   "source": [
    "from Trade_Class import Stock_Trader, Crypto_Trader\n",
    "from Market_Monitor import Market_Monitor"
   ]
  },
  {
   "attachments": {},
   "cell_type": "markdown",
   "metadata": {},
   "source": [
    "### Instantiate `Stock_Trader` and `Crypto Trader` classes. Both of these inherit from `Trader`"
   ]
  },
  {
   "cell_type": "code",
   "execution_count": 4,
   "metadata": {},
   "outputs": [
    {
     "name": "stderr",
     "output_type": "stream",
     "text": [
      "Instance of Trader() class created.\n",
      "Instance of Trader() class created.\n",
      "Instance of Trader() class created.\n",
      "Instace of Stock_Trader() class created.\n",
      "Instace of Stock_Trader() class created.\n",
      "Instace of Stock_Trader() class created.\n",
      "Starting new HTTPS connection (1): paper-api.alpaca.markets:443\n",
      "Starting new HTTPS connection (1): paper-api.alpaca.markets:443\n",
      "Starting new HTTPS connection (1): paper-api.alpaca.markets:443\n",
      "https://paper-api.alpaca.markets:443 \"GET /v2/assets?asset_class=us_equity HTTP/1.1\" 200 None\n",
      "https://paper-api.alpaca.markets:443 \"GET /v2/assets?asset_class=us_equity HTTP/1.1\" 200 None\n",
      "https://paper-api.alpaca.markets:443 \"GET /v2/assets?asset_class=us_equity HTTP/1.1\" 200 None\n",
      "Instance of Trader() class created.\n",
      "Instance of Trader() class created.\n",
      "Instance of Trader() class created.\n",
      "Instace of Crypto_Trader() class created.\n",
      "Instace of Crypto_Trader() class created.\n",
      "Instace of Crypto_Trader() class created.\n",
      "Starting new HTTPS connection (1): paper-api.alpaca.markets:443\n",
      "Starting new HTTPS connection (1): paper-api.alpaca.markets:443\n",
      "Starting new HTTPS connection (1): paper-api.alpaca.markets:443\n",
      "https://paper-api.alpaca.markets:443 \"GET /v2/assets?asset_class=crypto HTTP/1.1\" 200 None\n",
      "https://paper-api.alpaca.markets:443 \"GET /v2/assets?asset_class=crypto HTTP/1.1\" 200 None\n",
      "https://paper-api.alpaca.markets:443 \"GET /v2/assets?asset_class=crypto HTTP/1.1\" 200 None\n"
     ]
    }
   ],
   "source": [
    "stock_trader = Stock_Trader(PAPER_API_ID, PAPER_SECRET_KEY, paper=True)\n",
    "crypto_trader = Crypto_Trader(PAPER_API_ID, PAPER_SECRET_KEY, paper=True)"
   ]
  },
  {
   "attachments": {},
   "cell_type": "markdown",
   "metadata": {},
   "source": [
    "### Basic `.buy()` operation using a market order"
   ]
  },
  {
   "cell_type": "code",
   "execution_count": 34,
   "metadata": {},
   "outputs": [
    {
     "name": "stdout",
     "output_type": "stream",
     "text": [
      "0\n",
      "0\n"
     ]
    }
   ],
   "source": [
    "ret = crypto_trader.buy('BTC/USD', price=10000)\n",
    "print(ret) #return of 0 means the function executed correctly, return of anything else means it did not\n",
    "\n",
    "ret2 = stock_trader.buy('AAPL', quantity=1)\n",
    "print(ret2)"
   ]
  },
  {
   "attachments": {},
   "cell_type": "markdown",
   "metadata": {},
   "source": [
    "### Checking assets in your portfolio using `.get_all_positions()`, `.get_buying_power()` and `.get_all_orders()`."
   ]
  },
  {
   "cell_type": "code",
   "execution_count": 41,
   "metadata": {},
   "outputs": [
    {
     "data": {
      "text/plain": [
       "(122979.70068115926, 122979.70068115926)"
      ]
     },
     "execution_count": 41,
     "metadata": {},
     "output_type": "execute_result"
    }
   ],
   "source": [
    "stock_trader.get_buying_power()\n",
    "crypto_trader.get_buying_power()\n",
    "stock_trader.buying_power, crypto_trader.buying_power"
   ]
  },
  {
   "cell_type": "code",
   "execution_count": 42,
   "metadata": {},
   "outputs": [
    {
     "data": {
      "text/html": [
       "<div>\n",
       "<style scoped>\n",
       "    .dataframe tbody tr th:only-of-type {\n",
       "        vertical-align: middle;\n",
       "    }\n",
       "\n",
       "    .dataframe tbody tr th {\n",
       "        vertical-align: top;\n",
       "    }\n",
       "\n",
       "    .dataframe thead th {\n",
       "        text-align: right;\n",
       "    }\n",
       "</style>\n",
       "<table border=\"1\" class=\"dataframe\">\n",
       "  <thead>\n",
       "    <tr style=\"text-align: right;\">\n",
       "      <th></th>\n",
       "      <th>asset_id</th>\n",
       "      <th>symbol</th>\n",
       "      <th>exchange</th>\n",
       "      <th>asset_class</th>\n",
       "      <th>avg_entry_price</th>\n",
       "      <th>qty</th>\n",
       "      <th>side</th>\n",
       "      <th>market_value</th>\n",
       "      <th>cost_basis</th>\n",
       "      <th>unrealized_pl</th>\n",
       "      <th>unrealized_plpc</th>\n",
       "      <th>unrealized_intraday_pl</th>\n",
       "      <th>unrealized_intraday_plpc</th>\n",
       "      <th>current_price</th>\n",
       "      <th>lastday_price</th>\n",
       "      <th>change_today</th>\n",
       "    </tr>\n",
       "  </thead>\n",
       "  <tbody>\n",
       "    <tr>\n",
       "      <th>0</th>\n",
       "      <td>b0b6dd9d-8b9b-48a9-ba46-b9d54906e415</td>\n",
       "      <td>AAPL</td>\n",
       "      <td>AssetExchange.NASDAQ</td>\n",
       "      <td>AssetClass.US_EQUITY</td>\n",
       "      <td>153.656667</td>\n",
       "      <td>3.000000</td>\n",
       "      <td>PositionSide.LONG</td>\n",
       "      <td>457.200000</td>\n",
       "      <td>460.970000</td>\n",
       "      <td>-3.770000</td>\n",
       "      <td>-0.008178</td>\n",
       "      <td>-3.770000</td>\n",
       "      <td>-0.008178</td>\n",
       "      <td>152.40</td>\n",
       "      <td>154.65</td>\n",
       "      <td>-0.014549</td>\n",
       "    </tr>\n",
       "    <tr>\n",
       "      <th>1</th>\n",
       "      <td>64bbff51-59d6-4b3c-9351-13ad85e3c752</td>\n",
       "      <td>BTCUSD</td>\n",
       "      <td>AssetExchange.FTXU</td>\n",
       "      <td>AssetClass.CRYPTO</td>\n",
       "      <td>23278.951120</td>\n",
       "      <td>1.634041</td>\n",
       "      <td>PositionSide.LONG</td>\n",
       "      <td>37414.317379</td>\n",
       "      <td>38038.751488</td>\n",
       "      <td>-624.434109</td>\n",
       "      <td>-0.016416</td>\n",
       "      <td>-587.225174</td>\n",
       "      <td>-0.015453</td>\n",
       "      <td>22896.81</td>\n",
       "      <td>23256.18</td>\n",
       "      <td>-0.015453</td>\n",
       "    </tr>\n",
       "  </tbody>\n",
       "</table>\n",
       "</div>"
      ],
      "text/plain": [
       "                               asset_id  symbol              exchange  \\\n",
       "0  b0b6dd9d-8b9b-48a9-ba46-b9d54906e415    AAPL  AssetExchange.NASDAQ   \n",
       "1  64bbff51-59d6-4b3c-9351-13ad85e3c752  BTCUSD    AssetExchange.FTXU   \n",
       "\n",
       "            asset_class  avg_entry_price       qty               side  \\\n",
       "0  AssetClass.US_EQUITY       153.656667  3.000000  PositionSide.LONG   \n",
       "1     AssetClass.CRYPTO     23278.951120  1.634041  PositionSide.LONG   \n",
       "\n",
       "   market_value    cost_basis  unrealized_pl  unrealized_plpc  \\\n",
       "0    457.200000    460.970000      -3.770000        -0.008178   \n",
       "1  37414.317379  38038.751488    -624.434109        -0.016416   \n",
       "\n",
       "   unrealized_intraday_pl  unrealized_intraday_plpc  current_price  \\\n",
       "0               -3.770000                 -0.008178         152.40   \n",
       "1             -587.225174                 -0.015453       22896.81   \n",
       "\n",
       "   lastday_price  change_today  \n",
       "0         154.65     -0.014549  \n",
       "1       23256.18     -0.015453  "
      ]
     },
     "execution_count": 42,
     "metadata": {},
     "output_type": "execute_result"
    }
   ],
   "source": [
    "stock_trader.get_all_positions()  #stock and crypto trader are exactly the same functionality. It will get all \n",
    "stock_trader.positions_df.head()  #positions regardless of asset class. You can filter by asset class using the asset_class feature in the df"
   ]
  },
  {
   "cell_type": "code",
   "execution_count": 52,
   "metadata": {},
   "outputs": [
    {
     "data": {
      "text/html": [
       "<div>\n",
       "<style scoped>\n",
       "    .dataframe tbody tr th:only-of-type {\n",
       "        vertical-align: middle;\n",
       "    }\n",
       "\n",
       "    .dataframe tbody tr th {\n",
       "        vertical-align: top;\n",
       "    }\n",
       "\n",
       "    .dataframe thead th {\n",
       "        text-align: right;\n",
       "    }\n",
       "</style>\n",
       "<table border=\"1\" class=\"dataframe\">\n",
       "  <thead>\n",
       "    <tr style=\"text-align: right;\">\n",
       "      <th></th>\n",
       "      <th>id</th>\n",
       "      <th>client_order_id</th>\n",
       "      <th>created_at</th>\n",
       "      <th>updated_at</th>\n",
       "      <th>submitted_at</th>\n",
       "      <th>filled_at</th>\n",
       "      <th>expired_at</th>\n",
       "      <th>canceled_at</th>\n",
       "      <th>failed_at</th>\n",
       "      <th>replaced_at</th>\n",
       "      <th>...</th>\n",
       "      <th>side</th>\n",
       "      <th>time_in_force</th>\n",
       "      <th>limit_price</th>\n",
       "      <th>stop_price</th>\n",
       "      <th>status</th>\n",
       "      <th>extended_hours</th>\n",
       "      <th>legs</th>\n",
       "      <th>trail_percent</th>\n",
       "      <th>trail_price</th>\n",
       "      <th>hwm</th>\n",
       "    </tr>\n",
       "  </thead>\n",
       "  <tbody>\n",
       "    <tr>\n",
       "      <th>0</th>\n",
       "      <td>9481ce3d-7000-4844-9d64-b0b1f6e42cae</td>\n",
       "      <td>c016d438-01c0-4a24-a3c1-2ea247a484a8</td>\n",
       "      <td>1675909892230821000</td>\n",
       "      <td>1675909892230821000</td>\n",
       "      <td>1675909892230207000</td>\n",
       "      <td>NaN</td>\n",
       "      <td>NaN</td>\n",
       "      <td>NaN</td>\n",
       "      <td>NaN</td>\n",
       "      <td>NaN</td>\n",
       "      <td>...</td>\n",
       "      <td>OrderSide.SELL</td>\n",
       "      <td>TimeInForce.GTC</td>\n",
       "      <td>NaN</td>\n",
       "      <td>NaN</td>\n",
       "      <td>OrderStatus.ACCEPTED</td>\n",
       "      <td>False</td>\n",
       "      <td>NaN</td>\n",
       "      <td>NaN</td>\n",
       "      <td>NaN</td>\n",
       "      <td>NaN</td>\n",
       "    </tr>\n",
       "  </tbody>\n",
       "</table>\n",
       "<p>1 rows × 32 columns</p>\n",
       "</div>"
      ],
      "text/plain": [
       "                                     id                       client_order_id  \\\n",
       "0  9481ce3d-7000-4844-9d64-b0b1f6e42cae  c016d438-01c0-4a24-a3c1-2ea247a484a8   \n",
       "\n",
       "            created_at           updated_at         submitted_at  filled_at  \\\n",
       "0  1675909892230821000  1675909892230821000  1675909892230207000        NaN   \n",
       "\n",
       "   expired_at  canceled_at  failed_at  replaced_at  ...            side  \\\n",
       "0         NaN          NaN        NaN          NaN  ...  OrderSide.SELL   \n",
       "\n",
       "     time_in_force limit_price stop_price                status  \\\n",
       "0  TimeInForce.GTC         NaN        NaN  OrderStatus.ACCEPTED   \n",
       "\n",
       "   extended_hours  legs  trail_percent  trail_price hwm  \n",
       "0           False   NaN            NaN          NaN NaN  \n",
       "\n",
       "[1 rows x 32 columns]"
      ]
     },
     "metadata": {},
     "output_type": "display_data"
    }
   ],
   "source": [
    "ret = stock_trader.get_all_orders() #So I think if it's in this table that means that the order hasn't gone through yet. This table and the positions_df should be mutually exclusive\n",
    "if ret==0:\n",
    "    display(stock_trader.orders_df.head())"
   ]
  },
  {
   "cell_type": "code",
   "execution_count": 53,
   "metadata": {},
   "outputs": [
    {
     "name": "stdout",
     "output_type": "stream",
     "text": [
      "================================================================================\n",
      "id\n",
      "================================================================================\n",
      "[UUID('9481ce3d-7000-4844-9d64-b0b1f6e42cae')]\n",
      "\n",
      "\n",
      "================================================================================\n",
      "client_order_id\n",
      "================================================================================\n",
      "['c016d438-01c0-4a24-a3c1-2ea247a484a8']\n",
      "\n",
      "\n",
      "================================================================================\n",
      "created_at\n",
      "================================================================================\n",
      "[1675909892230821000]\n",
      "\n",
      "\n",
      "================================================================================\n",
      "updated_at\n",
      "================================================================================\n",
      "[1675909892230821000]\n",
      "\n",
      "\n",
      "================================================================================\n",
      "submitted_at\n",
      "================================================================================\n",
      "[1675909892230207000]\n",
      "\n",
      "\n",
      "================================================================================\n",
      "filled_at\n",
      "================================================================================\n",
      "[nan]\n",
      "\n",
      "\n",
      "================================================================================\n",
      "expired_at\n",
      "================================================================================\n",
      "[nan]\n",
      "\n",
      "\n",
      "================================================================================\n",
      "canceled_at\n",
      "================================================================================\n",
      "[nan]\n",
      "\n",
      "\n",
      "================================================================================\n",
      "failed_at\n",
      "================================================================================\n",
      "[nan]\n",
      "\n",
      "\n",
      "================================================================================\n",
      "replaced_at\n",
      "================================================================================\n",
      "[nan]\n",
      "\n",
      "\n",
      "================================================================================\n",
      "replaced_by\n",
      "================================================================================\n",
      "[nan]\n",
      "\n",
      "\n",
      "================================================================================\n",
      "replaces\n",
      "================================================================================\n",
      "[nan]\n",
      "\n",
      "\n",
      "================================================================================\n",
      "asset_id\n",
      "================================================================================\n",
      "[UUID('b0b6dd9d-8b9b-48a9-ba46-b9d54906e415')]\n",
      "\n",
      "\n",
      "================================================================================\n",
      "symbol\n",
      "================================================================================\n",
      "['AAPL']\n",
      "\n",
      "\n",
      "================================================================================\n",
      "asset_class\n",
      "================================================================================\n",
      "[<AssetClass.US_EQUITY: 'us_equity'>]\n",
      "\n",
      "\n",
      "================================================================================\n",
      "notional\n",
      "================================================================================\n",
      "[nan]\n",
      "\n",
      "\n",
      "================================================================================\n",
      "qty\n",
      "================================================================================\n",
      "[1]\n",
      "\n",
      "\n",
      "================================================================================\n",
      "filled_qty\n",
      "================================================================================\n",
      "[0]\n",
      "\n",
      "\n",
      "================================================================================\n",
      "filled_avg_price\n",
      "================================================================================\n",
      "[nan]\n",
      "\n",
      "\n",
      "================================================================================\n",
      "order_class\n",
      "================================================================================\n",
      "[<OrderClass.SIMPLE: 'simple'>]\n",
      "\n",
      "\n",
      "================================================================================\n",
      "order_type\n",
      "================================================================================\n",
      "[<OrderType.MARKET: 'market'>]\n",
      "\n",
      "\n",
      "================================================================================\n",
      "type\n",
      "================================================================================\n",
      "[<OrderType.MARKET: 'market'>]\n",
      "\n",
      "\n",
      "================================================================================\n",
      "side\n",
      "================================================================================\n",
      "[<OrderSide.SELL: 'sell'>]\n",
      "\n",
      "\n",
      "================================================================================\n",
      "time_in_force\n",
      "================================================================================\n",
      "[<TimeInForce.GTC: 'gtc'>]\n",
      "\n",
      "\n",
      "================================================================================\n",
      "limit_price\n",
      "================================================================================\n",
      "[nan]\n",
      "\n",
      "\n",
      "================================================================================\n",
      "stop_price\n",
      "================================================================================\n",
      "[nan]\n",
      "\n",
      "\n",
      "================================================================================\n",
      "status\n",
      "================================================================================\n",
      "[<OrderStatus.ACCEPTED: 'accepted'>]\n",
      "\n",
      "\n",
      "================================================================================\n",
      "extended_hours\n",
      "================================================================================\n",
      "[False]\n",
      "\n",
      "\n",
      "================================================================================\n",
      "legs\n",
      "================================================================================\n",
      "[nan]\n",
      "\n",
      "\n",
      "================================================================================\n",
      "trail_percent\n",
      "================================================================================\n",
      "[nan]\n",
      "\n",
      "\n",
      "================================================================================\n",
      "trail_price\n",
      "================================================================================\n",
      "[nan]\n",
      "\n",
      "\n",
      "================================================================================\n",
      "hwm\n",
      "================================================================================\n",
      "[nan]\n",
      "\n",
      "\n"
     ]
    }
   ],
   "source": [
    "for col in stock_trader.orders_df.columns:\n",
    "    print(\"=\"*80)\n",
    "    print(col)\n",
    "    print(\"=\"*80)\n",
    "    print(stock_trader.orders_df[col].unique())\n",
    "    print()\n",
    "    print()"
   ]
  },
  {
   "attachments": {},
   "cell_type": "markdown",
   "metadata": {},
   "source": [
    "### Selling positions using `.sell_all()` and `.sell()`"
   ]
  },
  {
   "cell_type": "code",
   "execution_count": 8,
   "metadata": {},
   "outputs": [],
   "source": [
    "stock_trader.sell_all()"
   ]
  },
  {
   "cell_type": "code",
   "execution_count": 47,
   "metadata": {},
   "outputs": [
    {
     "data": {
      "text/plain": [
       "0"
      ]
     },
     "execution_count": 47,
     "metadata": {},
     "output_type": "execute_result"
    }
   ],
   "source": [
    "stock_trader.sell('AAPL', quantity=1)"
   ]
  },
  {
   "attachments": {},
   "cell_type": "markdown",
   "metadata": {},
   "source": [
    "### Cancel all open orders using `.cancel_all_orders()`."
   ]
  },
  {
   "cell_type": "code",
   "execution_count": 56,
   "metadata": {},
   "outputs": [],
   "source": [
    "cancel_statuses = stock_trader.cancel_all_orders()\n",
    "cancel_statuses #This is an API response type of thing. 200 means successfully cancelled"
   ]
  },
  {
   "attachments": {},
   "cell_type": "markdown",
   "metadata": {},
   "source": [
    "### Get market data using `.get_available_symbols()`, `.get_ask_price()`, `.get_bid_price()`, and `.get_bars()`."
   ]
  },
  {
   "cell_type": "code",
   "execution_count": 59,
   "metadata": {},
   "outputs": [
    {
     "data": {
      "text/plain": [
       "['WBTC/USD', 'MKR/USD', 'BCH/BTC', 'YFI/USDT', 'ALGO/USD']"
      ]
     },
     "metadata": {},
     "output_type": "display_data"
    },
    {
     "data": {
      "text/plain": [
       "['FLCX', 'OVLC', 'FKSHF', 'FLDYY', 'FLES']"
      ]
     },
     "metadata": {},
     "output_type": "display_data"
    }
   ],
   "source": [
    "crypto_trader.get_available_symbols()\n",
    "display(crypto_trader.asset_symbols[:5])\n",
    "\n",
    "stock_trader.get_available_symbols()\n",
    "display(stock_trader.asset_symbols[:5]) #Aparently not all of these currently are tradeable\n",
    "# the call is the same for both stock and crypto however they are actually calling two different methods."
   ]
  },
  {
   "cell_type": "code",
   "execution_count": 60,
   "metadata": {},
   "outputs": [
    {
     "data": {
      "text/plain": [
       "(22874.32, 22871.01)"
      ]
     },
     "execution_count": 60,
     "metadata": {},
     "output_type": "execute_result"
    }
   ],
   "source": [
    "crypto_trader.get_ask_price('BTC/USD'), crypto_trader.get_bid_price('BTC/USD')"
   ]
  },
  {
   "cell_type": "code",
   "execution_count": 62,
   "metadata": {},
   "outputs": [
    {
     "data": {
      "text/plain": [
       "(0.0, 0.0)"
      ]
     },
     "execution_count": 62,
     "metadata": {},
     "output_type": "execute_result"
    }
   ],
   "source": [
    "stock_trader.get_ask_price('AAPL'), stock_trader.get_bid_price('AAPL') #if the stock is not tradeable after hours ask and bid will both be 0.0"
   ]
  },
  {
   "cell_type": "code",
   "execution_count": 67,
   "metadata": {},
   "outputs": [
    {
     "data": {
      "text/html": [
       "<div>\n",
       "<style scoped>\n",
       "    .dataframe tbody tr th:only-of-type {\n",
       "        vertical-align: middle;\n",
       "    }\n",
       "\n",
       "    .dataframe tbody tr th {\n",
       "        vertical-align: top;\n",
       "    }\n",
       "\n",
       "    .dataframe thead th {\n",
       "        text-align: right;\n",
       "    }\n",
       "</style>\n",
       "<table border=\"1\" class=\"dataframe\">\n",
       "  <thead>\n",
       "    <tr style=\"text-align: right;\">\n",
       "      <th></th>\n",
       "      <th></th>\n",
       "      <th>open</th>\n",
       "      <th>high</th>\n",
       "      <th>low</th>\n",
       "      <th>close</th>\n",
       "      <th>volume</th>\n",
       "      <th>trade_count</th>\n",
       "      <th>vwap</th>\n",
       "    </tr>\n",
       "    <tr>\n",
       "      <th>symbol</th>\n",
       "      <th>timestamp</th>\n",
       "      <th></th>\n",
       "      <th></th>\n",
       "      <th></th>\n",
       "      <th></th>\n",
       "      <th></th>\n",
       "      <th></th>\n",
       "      <th></th>\n",
       "    </tr>\n",
       "  </thead>\n",
       "  <tbody>\n",
       "    <tr>\n",
       "      <th rowspan=\"5\" valign=\"top\">BTC/USD</th>\n",
       "      <th>2023-01-01 06:00:00+00:00</th>\n",
       "      <td>16525.00</td>\n",
       "      <td>16695.31</td>\n",
       "      <td>16495.06</td>\n",
       "      <td>16642.78</td>\n",
       "      <td>1651.545517</td>\n",
       "      <td>34598.0</td>\n",
       "      <td>16578.560393</td>\n",
       "    </tr>\n",
       "    <tr>\n",
       "      <th>2023-01-02 06:00:00+00:00</th>\n",
       "      <td>16644.37</td>\n",
       "      <td>16779.00</td>\n",
       "      <td>16630.47</td>\n",
       "      <td>16718.82</td>\n",
       "      <td>2285.641776</td>\n",
       "      <td>41442.0</td>\n",
       "      <td>16708.451895</td>\n",
       "    </tr>\n",
       "    <tr>\n",
       "      <th>2023-01-03 06:00:00+00:00</th>\n",
       "      <td>16721.01</td>\n",
       "      <td>16900.00</td>\n",
       "      <td>16600.00</td>\n",
       "      <td>16850.59</td>\n",
       "      <td>3790.481395</td>\n",
       "      <td>64870.0</td>\n",
       "      <td>16722.315217</td>\n",
       "    </tr>\n",
       "    <tr>\n",
       "      <th>2023-01-04 06:00:00+00:00</th>\n",
       "      <td>16852.62</td>\n",
       "      <td>16984.54</td>\n",
       "      <td>16760.57</td>\n",
       "      <td>16840.50</td>\n",
       "      <td>4847.927197</td>\n",
       "      <td>81921.0</td>\n",
       "      <td>16848.857792</td>\n",
       "    </tr>\n",
       "    <tr>\n",
       "      <th>2023-01-05 06:00:00+00:00</th>\n",
       "      <td>16838.47</td>\n",
       "      <td>16873.28</td>\n",
       "      <td>16755.45</td>\n",
       "      <td>16803.47</td>\n",
       "      <td>2580.394993</td>\n",
       "      <td>57458.0</td>\n",
       "      <td>16822.708092</td>\n",
       "    </tr>\n",
       "  </tbody>\n",
       "</table>\n",
       "</div>"
      ],
      "text/plain": [
       "                                       open      high       low     close  \\\n",
       "symbol  timestamp                                                           \n",
       "BTC/USD 2023-01-01 06:00:00+00:00  16525.00  16695.31  16495.06  16642.78   \n",
       "        2023-01-02 06:00:00+00:00  16644.37  16779.00  16630.47  16718.82   \n",
       "        2023-01-03 06:00:00+00:00  16721.01  16900.00  16600.00  16850.59   \n",
       "        2023-01-04 06:00:00+00:00  16852.62  16984.54  16760.57  16840.50   \n",
       "        2023-01-05 06:00:00+00:00  16838.47  16873.28  16755.45  16803.47   \n",
       "\n",
       "                                        volume  trade_count          vwap  \n",
       "symbol  timestamp                                                          \n",
       "BTC/USD 2023-01-01 06:00:00+00:00  1651.545517      34598.0  16578.560393  \n",
       "        2023-01-02 06:00:00+00:00  2285.641776      41442.0  16708.451895  \n",
       "        2023-01-03 06:00:00+00:00  3790.481395      64870.0  16722.315217  \n",
       "        2023-01-04 06:00:00+00:00  4847.927197      81921.0  16848.857792  \n",
       "        2023-01-05 06:00:00+00:00  2580.394993      57458.0  16822.708092  "
      ]
     },
     "metadata": {},
     "output_type": "display_data"
    }
   ],
   "source": [
    "start = datetime(year=2023, month=1, day=1, hour=0, minute=0, second=0)\n",
    "end = datetime(year=2023, month=2, day=1, hour=0, minute=0, second=0)\n",
    "bars_df = crypto_trader.get_bars('BTC/USD', start=start, end=end, time_resolution='day')\n",
    "display(bars_df.head())"
   ]
  },
  {
   "cell_type": "code",
   "execution_count": 72,
   "metadata": {},
   "outputs": [
    {
     "data": {
      "text/plain": [
       "MultiIndex([('BTC/USD', '2023-01-01 06:00:00+00:00'),\n",
       "            ('BTC/USD', '2023-01-02 06:00:00+00:00'),\n",
       "            ('BTC/USD', '2023-01-03 06:00:00+00:00'),\n",
       "            ('BTC/USD', '2023-01-04 06:00:00+00:00'),\n",
       "            ('BTC/USD', '2023-01-05 06:00:00+00:00')],\n",
       "           names=['symbol', 'timestamp'])"
      ]
     },
     "execution_count": 72,
     "metadata": {},
     "output_type": "execute_result"
    }
   ],
   "source": [
    "bars_df.index[:5] #as you can see the resulting dataframe has a multi index with the most exterior index as the symbol"
   ]
  },
  {
   "cell_type": "code",
   "execution_count": 73,
   "metadata": {},
   "outputs": [
    {
     "data": {
      "text/html": [
       "<div>\n",
       "<style scoped>\n",
       "    .dataframe tbody tr th:only-of-type {\n",
       "        vertical-align: middle;\n",
       "    }\n",
       "\n",
       "    .dataframe tbody tr th {\n",
       "        vertical-align: top;\n",
       "    }\n",
       "\n",
       "    .dataframe thead th {\n",
       "        text-align: right;\n",
       "    }\n",
       "</style>\n",
       "<table border=\"1\" class=\"dataframe\">\n",
       "  <thead>\n",
       "    <tr style=\"text-align: right;\">\n",
       "      <th></th>\n",
       "      <th></th>\n",
       "      <th>open</th>\n",
       "      <th>high</th>\n",
       "      <th>low</th>\n",
       "      <th>close</th>\n",
       "      <th>volume</th>\n",
       "      <th>trade_count</th>\n",
       "      <th>vwap</th>\n",
       "    </tr>\n",
       "    <tr>\n",
       "      <th>symbol</th>\n",
       "      <th>timestamp</th>\n",
       "      <th></th>\n",
       "      <th></th>\n",
       "      <th></th>\n",
       "      <th></th>\n",
       "      <th></th>\n",
       "      <th></th>\n",
       "      <th></th>\n",
       "    </tr>\n",
       "  </thead>\n",
       "  <tbody>\n",
       "    <tr>\n",
       "      <th rowspan=\"5\" valign=\"top\">AAPL</th>\n",
       "      <th>2023-01-03 05:00:00+00:00</th>\n",
       "      <td>130.280</td>\n",
       "      <td>130.9000</td>\n",
       "      <td>124.17</td>\n",
       "      <td>125.07</td>\n",
       "      <td>112084324.0</td>\n",
       "      <td>1020782.0</td>\n",
       "      <td>125.725146</td>\n",
       "    </tr>\n",
       "    <tr>\n",
       "      <th>2023-01-04 05:00:00+00:00</th>\n",
       "      <td>126.890</td>\n",
       "      <td>128.6557</td>\n",
       "      <td>125.08</td>\n",
       "      <td>126.36</td>\n",
       "      <td>89072202.0</td>\n",
       "      <td>769281.0</td>\n",
       "      <td>126.646333</td>\n",
       "    </tr>\n",
       "    <tr>\n",
       "      <th>2023-01-05 05:00:00+00:00</th>\n",
       "      <td>127.130</td>\n",
       "      <td>127.7400</td>\n",
       "      <td>124.76</td>\n",
       "      <td>125.02</td>\n",
       "      <td>81246605.0</td>\n",
       "      <td>663745.0</td>\n",
       "      <td>126.088261</td>\n",
       "    </tr>\n",
       "    <tr>\n",
       "      <th>2023-01-06 05:00:00+00:00</th>\n",
       "      <td>126.010</td>\n",
       "      <td>130.2900</td>\n",
       "      <td>124.89</td>\n",
       "      <td>129.62</td>\n",
       "      <td>87758343.0</td>\n",
       "      <td>711520.0</td>\n",
       "      <td>128.198067</td>\n",
       "    </tr>\n",
       "    <tr>\n",
       "      <th>2023-01-09 05:00:00+00:00</th>\n",
       "      <td>130.465</td>\n",
       "      <td>133.4100</td>\n",
       "      <td>129.89</td>\n",
       "      <td>130.15</td>\n",
       "      <td>70832518.0</td>\n",
       "      <td>647372.0</td>\n",
       "      <td>131.628178</td>\n",
       "    </tr>\n",
       "  </tbody>\n",
       "</table>\n",
       "</div>"
      ],
      "text/plain": [
       "                                     open      high     low   close  \\\n",
       "symbol timestamp                                                      \n",
       "AAPL   2023-01-03 05:00:00+00:00  130.280  130.9000  124.17  125.07   \n",
       "       2023-01-04 05:00:00+00:00  126.890  128.6557  125.08  126.36   \n",
       "       2023-01-05 05:00:00+00:00  127.130  127.7400  124.76  125.02   \n",
       "       2023-01-06 05:00:00+00:00  126.010  130.2900  124.89  129.62   \n",
       "       2023-01-09 05:00:00+00:00  130.465  133.4100  129.89  130.15   \n",
       "\n",
       "                                       volume  trade_count        vwap  \n",
       "symbol timestamp                                                        \n",
       "AAPL   2023-01-03 05:00:00+00:00  112084324.0    1020782.0  125.725146  \n",
       "       2023-01-04 05:00:00+00:00   89072202.0     769281.0  126.646333  \n",
       "       2023-01-05 05:00:00+00:00   81246605.0     663745.0  126.088261  \n",
       "       2023-01-06 05:00:00+00:00   87758343.0     711520.0  128.198067  \n",
       "       2023-01-09 05:00:00+00:00   70832518.0     647372.0  131.628178  "
      ]
     },
     "metadata": {},
     "output_type": "display_data"
    }
   ],
   "source": [
    "start = datetime(year=2023, month=1, day=1, hour=0, minute=0, second=0)\n",
    "end = datetime(year=2023, month=2, day=1, hour=0, minute=0, second=0)\n",
    "bars_df = stock_trader.get_bars('AAPL', start=start, end=end, time_resolution='day')\n",
    "display(bars_df.head()) # same operation for crypto and stock"
   ]
  },
  {
   "cell_type": "code",
   "execution_count": null,
   "metadata": {},
   "outputs": [],
   "source": []
  }
 ],
 "metadata": {
  "kernelspec": {
   "display_name": "capenv",
   "language": "python",
   "name": "python3"
  },
  "language_info": {
   "codemirror_mode": {
    "name": "ipython",
    "version": 3
   },
   "file_extension": ".py",
   "mimetype": "text/x-python",
   "name": "python",
   "nbconvert_exporter": "python",
   "pygments_lexer": "ipython3",
   "version": "3.8.8"
  },
  "orig_nbformat": 4,
  "vscode": {
   "interpreter": {
    "hash": "462b05c1d6884d74e4190996522791c5c80e16a9d739d4e011be9ff74c38056f"
   }
  }
 },
 "nbformat": 4,
 "nbformat_minor": 2
}
