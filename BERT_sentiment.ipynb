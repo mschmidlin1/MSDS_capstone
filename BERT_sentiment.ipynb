{
 "cells": [
  {
   "attachments": {},
   "cell_type": "markdown",
   "metadata": {},
   "source": [
    "https://huggingface.co/nlptown/bert-base-multilingual-uncased-sentiment"
   ]
  },
  {
   "cell_type": "code",
   "execution_count": 51,
   "metadata": {},
   "outputs": [],
   "source": [
    "from transformers import AutoTokenizer, AutoModel, AutoModelForSequenceClassification, pipeline\n",
    "import torch\n",
    "from bs4 import BeautifulSoup\n",
    "import re\n",
    "from configs import NEWS_SAVE_FILE\n",
    "import pandas as pd\n",
    "import matplotlib.pyplot as plt"
   ]
  },
  {
   "cell_type": "code",
   "execution_count": 15,
   "metadata": {},
   "outputs": [],
   "source": [
    "tokenizer = AutoTokenizer.from_pretrained('nlptown/bert-base-multilingual-uncased-sentiment')\n",
    "\n",
    "model = AutoModelForSequenceClassification.from_pretrained('nlptown/bert-base-multilingual-uncased-sentiment')"
   ]
  },
  {
   "cell_type": "code",
   "execution_count": 16,
   "metadata": {},
   "outputs": [
    {
     "data": {
      "text/plain": [
       "tensor([[  101,   151, 39487, 10163, 10372,   117, 31897, 12428,   102]])"
      ]
     },
     "execution_count": 16,
     "metadata": {},
     "output_type": "execute_result"
    }
   ],
   "source": [
    "tokens = tokenizer.encode(\"I hated this, pretty bad\", return_tensors='pt')\n",
    "tokens"
   ]
  },
  {
   "cell_type": "code",
   "execution_count": 17,
   "metadata": {},
   "outputs": [
    {
     "data": {
      "text/plain": [
       "'[CLS] i hated this, pretty bad [SEP]'"
      ]
     },
     "execution_count": 17,
     "metadata": {},
     "output_type": "execute_result"
    }
   ],
   "source": [
    "tokenizer.decode(tokens[0])"
   ]
  },
  {
   "cell_type": "code",
   "execution_count": 18,
   "metadata": {},
   "outputs": [
    {
     "data": {
      "text/plain": [
       "SequenceClassifierOutput(loss=None, logits=tensor([[ 2.8734,  2.0596,  0.3354, -1.9716, -2.6467]],\n",
       "       grad_fn=<AddmmBackward0>), hidden_states=None, attentions=None)"
      ]
     },
     "execution_count": 18,
     "metadata": {},
     "output_type": "execute_result"
    }
   ],
   "source": [
    "result = model(tokens)\n",
    "result"
   ]
  },
  {
   "cell_type": "code",
   "execution_count": 19,
   "metadata": {},
   "outputs": [
    {
     "data": {
      "text/plain": [
       "tensor(0)"
      ]
     },
     "execution_count": 19,
     "metadata": {},
     "output_type": "execute_result"
    }
   ],
   "source": [
    "torch.argmax(result.logits)"
   ]
  },
  {
   "cell_type": "code",
   "execution_count": 20,
   "metadata": {},
   "outputs": [
    {
     "name": "stdout",
     "output_type": "stream",
     "text": [
      "(10028, 9)\n"
     ]
    },
    {
     "data": {
      "text/html": [
       "<div>\n",
       "<style scoped>\n",
       "    .dataframe tbody tr th:only-of-type {\n",
       "        vertical-align: middle;\n",
       "    }\n",
       "\n",
       "    .dataframe tbody tr th {\n",
       "        vertical-align: top;\n",
       "    }\n",
       "\n",
       "    .dataframe thead th {\n",
       "        text-align: right;\n",
       "    }\n",
       "</style>\n",
       "<table border=\"1\" class=\"dataframe\">\n",
       "  <thead>\n",
       "    <tr style=\"text-align: right;\">\n",
       "      <th></th>\n",
       "      <th>headline</th>\n",
       "      <th>publish_date</th>\n",
       "      <th>content</th>\n",
       "      <th>authors</th>\n",
       "      <th>keywords</th>\n",
       "      <th>summary</th>\n",
       "      <th>source</th>\n",
       "      <th>url</th>\n",
       "      <th>date_pulled</th>\n",
       "    </tr>\n",
       "  </thead>\n",
       "  <tbody>\n",
       "    <tr>\n",
       "      <th>622</th>\n",
       "      <td>Sick With Something That Isn't COVID-19 or the...</td>\n",
       "      <td>2023-03-20 18:44:52+00:00</td>\n",
       "      <td>Flu season is wrapping up, and weekly COVID-19...</td>\n",
       "      <td>[Jamie Ducharme]</td>\n",
       "      <td>[viruses, heres, flu, sick, respiratory, cdc, ...</td>\n",
       "      <td>Flu season is wrapping up, and weekly COVID-19...</td>\n",
       "      <td>time</td>\n",
       "      <td>https://time.com/</td>\n",
       "      <td>03-21-23</td>\n",
       "    </tr>\n",
       "    <tr>\n",
       "      <th>8420</th>\n",
       "      <td>Why are gas prices rising? 2023 has seen a spi...</td>\n",
       "      <td>2023-04-14 00:00:00</td>\n",
       "      <td>The weather is heating up, and so are gas pric...</td>\n",
       "      <td>[]</td>\n",
       "      <td>[spring, spike, heres, gallon, high, 2023, ris...</td>\n",
       "      <td>The weather is heating up, and so are gas pric...</td>\n",
       "      <td>usatoday</td>\n",
       "      <td>https://www.usatoday.com/</td>\n",
       "      <td>04-16-23</td>\n",
       "    </tr>\n",
       "    <tr>\n",
       "      <th>4060</th>\n",
       "      <td>'Live free and die'? The sad state of U.S. lif...</td>\n",
       "      <td>2023-03-25 00:00:00</td>\n",
       "      <td>'Live free and die'? The sad state of U.S. lif...</td>\n",
       "      <td>[Selena Simmons-Duffin]</td>\n",
       "      <td>[die, americans, nih, shorter, health, life, s...</td>\n",
       "      <td>The sad state of U.S. life expectancyLoading.....</td>\n",
       "      <td>npr</td>\n",
       "      <td>https://www.npr.org/sections/news/</td>\n",
       "      <td>03-26-23</td>\n",
       "    </tr>\n",
       "    <tr>\n",
       "      <th>8696</th>\n",
       "      <td>Video Shanquella Robinson’s family are demandi...</td>\n",
       "      <td>NaT</td>\n",
       "      <td>Shanquella Robinson’s family are demanding ans...</td>\n",
       "      <td>[Abc News]</td>\n",
       "      <td>[doj, justice, demanding, mexico, robinsons, v...</td>\n",
       "      <td>Shanquella Robinson’s family are demanding ans...</td>\n",
       "      <td>abcnews.go</td>\n",
       "      <td>https://abcnews.go.com/</td>\n",
       "      <td>04-16-23</td>\n",
       "    </tr>\n",
       "    <tr>\n",
       "      <th>7579</th>\n",
       "      <td>Celebrate National Margarita Day with these sw...</td>\n",
       "      <td>NaT</td>\n",
       "      <td>National Margarita Day is Feb. 22 — so what be...</td>\n",
       "      <td>[Ashlyn Messier]</td>\n",
       "      <td>[ice, ingredients, salt, national, day, ounces...</td>\n",
       "      <td>National Margarita Day is Feb. 22 — so what be...</td>\n",
       "      <td>foxnews</td>\n",
       "      <td>https://www.foxnews.com/</td>\n",
       "      <td>04-16-23</td>\n",
       "    </tr>\n",
       "  </tbody>\n",
       "</table>\n",
       "</div>"
      ],
      "text/plain": [
       "                                               headline  \\\n",
       "622   Sick With Something That Isn't COVID-19 or the...   \n",
       "8420  Why are gas prices rising? 2023 has seen a spi...   \n",
       "4060  'Live free and die'? The sad state of U.S. lif...   \n",
       "8696  Video Shanquella Robinson’s family are demandi...   \n",
       "7579  Celebrate National Margarita Day with these sw...   \n",
       "\n",
       "                   publish_date  \\\n",
       "622   2023-03-20 18:44:52+00:00   \n",
       "8420        2023-04-14 00:00:00   \n",
       "4060        2023-03-25 00:00:00   \n",
       "8696                        NaT   \n",
       "7579                        NaT   \n",
       "\n",
       "                                                content  \\\n",
       "622   Flu season is wrapping up, and weekly COVID-19...   \n",
       "8420  The weather is heating up, and so are gas pric...   \n",
       "4060  'Live free and die'? The sad state of U.S. lif...   \n",
       "8696  Shanquella Robinson’s family are demanding ans...   \n",
       "7579  National Margarita Day is Feb. 22 — so what be...   \n",
       "\n",
       "                      authors  \\\n",
       "622          [Jamie Ducharme]   \n",
       "8420                       []   \n",
       "4060  [Selena Simmons-Duffin]   \n",
       "8696               [Abc News]   \n",
       "7579         [Ashlyn Messier]   \n",
       "\n",
       "                                               keywords  \\\n",
       "622   [viruses, heres, flu, sick, respiratory, cdc, ...   \n",
       "8420  [spring, spike, heres, gallon, high, 2023, ris...   \n",
       "4060  [die, americans, nih, shorter, health, life, s...   \n",
       "8696  [doj, justice, demanding, mexico, robinsons, v...   \n",
       "7579  [ice, ingredients, salt, national, day, ounces...   \n",
       "\n",
       "                                                summary      source  \\\n",
       "622   Flu season is wrapping up, and weekly COVID-19...        time   \n",
       "8420  The weather is heating up, and so are gas pric...    usatoday   \n",
       "4060  The sad state of U.S. life expectancyLoading.....         npr   \n",
       "8696  Shanquella Robinson’s family are demanding ans...  abcnews.go   \n",
       "7579  National Margarita Day is Feb. 22 — so what be...     foxnews   \n",
       "\n",
       "                                     url date_pulled  \n",
       "622                    https://time.com/    03-21-23  \n",
       "8420           https://www.usatoday.com/    04-16-23  \n",
       "4060  https://www.npr.org/sections/news/    03-26-23  \n",
       "8696             https://abcnews.go.com/    04-16-23  \n",
       "7579            https://www.foxnews.com/    04-16-23  "
      ]
     },
     "execution_count": 20,
     "metadata": {},
     "output_type": "execute_result"
    }
   ],
   "source": [
    "df = pd.read_pickle(NEWS_SAVE_FILE)\n",
    "print(df.shape)\n",
    "df.sample(5)"
   ]
  },
  {
   "cell_type": "code",
   "execution_count": 21,
   "metadata": {},
   "outputs": [],
   "source": [
    "def tokenize_and_predict(text: str):\n",
    "    \"\"\"\n",
    "    Takes some text in string format (words separated by spaces), tokenizes it and predicts sentiment based on BERT model.\n",
    "    The output is a number between 1 and 5. In order to interpret as sentiment think of it as 1 start review to 5 star review. (5 being most positive).\n",
    "    \"\"\"\n",
    "    tokens = tokenizer.encode(text, return_tensors='pt')\n",
    "    result = model(tokens)\n",
    "    return int(torch.argmax(result.logits)) + 1"
   ]
  },
  {
   "cell_type": "code",
   "execution_count": 22,
   "metadata": {},
   "outputs": [],
   "source": [
    "#takes 8 minutes to run on 10k rows. Which means 0.048 seconds per row\n",
    "df['BERT_headline_sentiment_score'] = df['headline'].apply(tokenize_and_predict)"
   ]
  },
  {
   "cell_type": "code",
   "execution_count": 25,
   "metadata": {},
   "outputs": [],
   "source": [
    "#takes xxxx minutes to run on 10k rows. Which means xxx minutes per row\n",
    "# df['BERT_content_sentiment_score'] = df['content'].apply(tokenize_and_predict)\n",
    "#can't do content becuase the maximum sequence length of the model is 512."
   ]
  },
  {
   "cell_type": "code",
   "execution_count": 28,
   "metadata": {},
   "outputs": [
    {
     "data": {
      "text/html": [
       "<div>\n",
       "<style scoped>\n",
       "    .dataframe tbody tr th:only-of-type {\n",
       "        vertical-align: middle;\n",
       "    }\n",
       "\n",
       "    .dataframe tbody tr th {\n",
       "        vertical-align: top;\n",
       "    }\n",
       "\n",
       "    .dataframe thead th {\n",
       "        text-align: right;\n",
       "    }\n",
       "</style>\n",
       "<table border=\"1\" class=\"dataframe\">\n",
       "  <thead>\n",
       "    <tr style=\"text-align: right;\">\n",
       "      <th></th>\n",
       "      <th>headline</th>\n",
       "      <th>BERT_headline_sentiment_score</th>\n",
       "    </tr>\n",
       "  </thead>\n",
       "  <tbody>\n",
       "    <tr>\n",
       "      <th>5263</th>\n",
       "      <td>Birmingham Police hold community walks to stre...</td>\n",
       "      <td>4</td>\n",
       "    </tr>\n",
       "    <tr>\n",
       "      <th>9340</th>\n",
       "      <td>An Arizona driver was charged after plowing in...</td>\n",
       "      <td>1</td>\n",
       "    </tr>\n",
       "    <tr>\n",
       "      <th>9029</th>\n",
       "      <td>Video YouTube unveils ‘NFL Sunday Ticket’ pricing</td>\n",
       "      <td>5</td>\n",
       "    </tr>\n",
       "    <tr>\n",
       "      <th>7921</th>\n",
       "      <td>How China’s relationship to Hollywood has shap...</td>\n",
       "      <td>5</td>\n",
       "    </tr>\n",
       "    <tr>\n",
       "      <th>4290</th>\n",
       "      <td>STL female firefighter crew makes history; fir...</td>\n",
       "      <td>5</td>\n",
       "    </tr>\n",
       "    <tr>\n",
       "      <th>3797</th>\n",
       "      <td>Video Biden marks 13 years of the Affordable C...</td>\n",
       "      <td>5</td>\n",
       "    </tr>\n",
       "    <tr>\n",
       "      <th>1615</th>\n",
       "      <td>Rare giant trapdoor spider species has been re...</td>\n",
       "      <td>3</td>\n",
       "    </tr>\n",
       "    <tr>\n",
       "      <th>3479</th>\n",
       "      <td>In photos: The scene after tornadoes rip throu...</td>\n",
       "      <td>4</td>\n",
       "    </tr>\n",
       "    <tr>\n",
       "      <th>3720</th>\n",
       "      <td>Factory or farm? Oregon may alter land use for...</td>\n",
       "      <td>2</td>\n",
       "    </tr>\n",
       "    <tr>\n",
       "      <th>3919</th>\n",
       "      <td>Man attacks 3 people with hand grenade, knife ...</td>\n",
       "      <td>1</td>\n",
       "    </tr>\n",
       "    <tr>\n",
       "      <th>4943</th>\n",
       "      <td>Gavin Newsom announces California is 'done' wi...</td>\n",
       "      <td>1</td>\n",
       "    </tr>\n",
       "    <tr>\n",
       "      <th>7514</th>\n",
       "      <td>Adult honeybees teach baby bees how to 'dance'...</td>\n",
       "      <td>4</td>\n",
       "    </tr>\n",
       "    <tr>\n",
       "      <th>2182</th>\n",
       "      <td>'The captain became incapacitated': Off-duty p...</td>\n",
       "      <td>1</td>\n",
       "    </tr>\n",
       "    <tr>\n",
       "      <th>9729</th>\n",
       "      <td>Opinion | The Guilt of Putting Down Your Pet</td>\n",
       "      <td>5</td>\n",
       "    </tr>\n",
       "    <tr>\n",
       "      <th>7191</th>\n",
       "      <td>Desert snows in Saudi Arabia</td>\n",
       "      <td>4</td>\n",
       "    </tr>\n",
       "    <tr>\n",
       "      <th>4568</th>\n",
       "      <td>How Israel’s protesters brought a temporary ha...</td>\n",
       "      <td>1</td>\n",
       "    </tr>\n",
       "    <tr>\n",
       "      <th>6256</th>\n",
       "      <td>Video 1 officer dead, 1 injured in Huntsville ...</td>\n",
       "      <td>1</td>\n",
       "    </tr>\n",
       "    <tr>\n",
       "      <th>8776</th>\n",
       "      <td>Video Montana lawmakers pass bill banning TikTok</td>\n",
       "      <td>1</td>\n",
       "    </tr>\n",
       "    <tr>\n",
       "      <th>1006</th>\n",
       "      <td>Springsteen, Kaling, Louis-Dreyfus among 22 ho...</td>\n",
       "      <td>5</td>\n",
       "    </tr>\n",
       "    <tr>\n",
       "      <th>6451</th>\n",
       "      <td>7 Things to Know About Withdrawing Money From ...</td>\n",
       "      <td>1</td>\n",
       "    </tr>\n",
       "  </tbody>\n",
       "</table>\n",
       "</div>"
      ],
      "text/plain": [
       "                                               headline  \\\n",
       "5263  Birmingham Police hold community walks to stre...   \n",
       "9340  An Arizona driver was charged after plowing in...   \n",
       "9029  Video YouTube unveils ‘NFL Sunday Ticket’ pricing   \n",
       "7921  How China’s relationship to Hollywood has shap...   \n",
       "4290  STL female firefighter crew makes history; fir...   \n",
       "3797  Video Biden marks 13 years of the Affordable C...   \n",
       "1615  Rare giant trapdoor spider species has been re...   \n",
       "3479  In photos: The scene after tornadoes rip throu...   \n",
       "3720  Factory or farm? Oregon may alter land use for...   \n",
       "3919  Man attacks 3 people with hand grenade, knife ...   \n",
       "4943  Gavin Newsom announces California is 'done' wi...   \n",
       "7514  Adult honeybees teach baby bees how to 'dance'...   \n",
       "2182  'The captain became incapacitated': Off-duty p...   \n",
       "9729       Opinion | The Guilt of Putting Down Your Pet   \n",
       "7191                       Desert snows in Saudi Arabia   \n",
       "4568  How Israel’s protesters brought a temporary ha...   \n",
       "6256  Video 1 officer dead, 1 injured in Huntsville ...   \n",
       "8776   Video Montana lawmakers pass bill banning TikTok   \n",
       "1006  Springsteen, Kaling, Louis-Dreyfus among 22 ho...   \n",
       "6451  7 Things to Know About Withdrawing Money From ...   \n",
       "\n",
       "      BERT_headline_sentiment_score  \n",
       "5263                              4  \n",
       "9340                              1  \n",
       "9029                              5  \n",
       "7921                              5  \n",
       "4290                              5  \n",
       "3797                              5  \n",
       "1615                              3  \n",
       "3479                              4  \n",
       "3720                              2  \n",
       "3919                              1  \n",
       "4943                              1  \n",
       "7514                              4  \n",
       "2182                              1  \n",
       "9729                              5  \n",
       "7191                              4  \n",
       "4568                              1  \n",
       "6256                              1  \n",
       "8776                              1  \n",
       "1006                              5  \n",
       "6451                              1  "
      ]
     },
     "execution_count": 28,
     "metadata": {},
     "output_type": "execute_result"
    }
   ],
   "source": [
    "df[['headline', 'BERT_headline_sentiment_score']].sample(20)"
   ]
  },
  {
   "cell_type": "code",
   "execution_count": 31,
   "metadata": {},
   "outputs": [
    {
     "name": "stderr",
     "output_type": "stream",
     "text": [
      "No model was supplied, defaulted to distilbert-base-uncased-finetuned-sst-2-english and revision af0f99b (https://huggingface.co/distilbert-base-uncased-finetuned-sst-2-english).\n",
      "Using a pipeline without specifying a model name and revision in production is not recommended.\n",
      "Downloading (…)lve/main/config.json: 100%|██████████| 629/629 [00:00<00:00, 159kB/s]\n",
      "Downloading pytorch_model.bin:  47%|████▋     | 126M/268M [00:02<00:03, 46.5MB/s] \n",
      "Downloading pytorch_model.bin: 100%|██████████| 268M/268M [00:04<00:00, 58.0MB/s] \n",
      "Downloading (…)okenizer_config.json: 100%|██████████| 48.0/48.0 [00:00<00:00, 10.7kB/s]\n",
      "Downloading (…)solve/main/vocab.txt: 100%|██████████| 232k/232k [00:00<00:00, 3.17MB/s]\n"
     ]
    }
   ],
   "source": [
    "classifier = pipeline(\"sentiment-analysis\")"
   ]
  },
  {
   "cell_type": "code",
   "execution_count": 44,
   "metadata": {},
   "outputs": [
    {
     "data": {
      "text/plain": [
       "[{'label': 'POSITIVE', 'score': 0.9983267188072205}]"
      ]
     },
     "execution_count": 44,
     "metadata": {},
     "output_type": "execute_result"
    }
   ],
   "source": [
    "classifier(\"hi\")"
   ]
  },
  {
   "cell_type": "code",
   "execution_count": 45,
   "metadata": {},
   "outputs": [],
   "source": [
    "def sentiment_classifier(text: str):\n",
    "    \"\"\"\n",
    "    Takes some text in string format (words separated by spaces), tokenizes it and predicts sentiment.\n",
    "    Return will either be 'NEGATIVE' or 'POSITIVE'.\n",
    "    \"\"\"\n",
    "\n",
    "    result = classifier(text)[0]\n",
    "    if result['label']==\"NEGATIVE\":\n",
    "        return -1*result['score']\n",
    "    else:\n",
    "        return result['score']"
   ]
  },
  {
   "cell_type": "code",
   "execution_count": 46,
   "metadata": {},
   "outputs": [],
   "source": [
    "#takes 4 minutes to run on 10k rows. Which means .024 seconds per row\n",
    "df['headline_sentiment'] = df['headline'].apply(sentiment_classifier)"
   ]
  },
  {
   "cell_type": "code",
   "execution_count": 47,
   "metadata": {},
   "outputs": [
    {
     "data": {
      "text/html": [
       "<div>\n",
       "<style scoped>\n",
       "    .dataframe tbody tr th:only-of-type {\n",
       "        vertical-align: middle;\n",
       "    }\n",
       "\n",
       "    .dataframe tbody tr th {\n",
       "        vertical-align: top;\n",
       "    }\n",
       "\n",
       "    .dataframe thead th {\n",
       "        text-align: right;\n",
       "    }\n",
       "</style>\n",
       "<table border=\"1\" class=\"dataframe\">\n",
       "  <thead>\n",
       "    <tr style=\"text-align: right;\">\n",
       "      <th></th>\n",
       "      <th>headline_sentiment</th>\n",
       "      <th>BERT_headline_sentiment_score</th>\n",
       "    </tr>\n",
       "  </thead>\n",
       "  <tbody>\n",
       "    <tr>\n",
       "      <th>2523</th>\n",
       "      <td>-0.980521</td>\n",
       "      <td>2</td>\n",
       "    </tr>\n",
       "    <tr>\n",
       "      <th>6404</th>\n",
       "      <td>0.998999</td>\n",
       "      <td>4</td>\n",
       "    </tr>\n",
       "    <tr>\n",
       "      <th>2495</th>\n",
       "      <td>-0.975270</td>\n",
       "      <td>1</td>\n",
       "    </tr>\n",
       "    <tr>\n",
       "      <th>8014</th>\n",
       "      <td>0.823933</td>\n",
       "      <td>5</td>\n",
       "    </tr>\n",
       "    <tr>\n",
       "      <th>5228</th>\n",
       "      <td>-0.986253</td>\n",
       "      <td>1</td>\n",
       "    </tr>\n",
       "    <tr>\n",
       "      <th>3099</th>\n",
       "      <td>-0.720517</td>\n",
       "      <td>1</td>\n",
       "    </tr>\n",
       "    <tr>\n",
       "      <th>6228</th>\n",
       "      <td>0.997169</td>\n",
       "      <td>4</td>\n",
       "    </tr>\n",
       "    <tr>\n",
       "      <th>3830</th>\n",
       "      <td>-0.978362</td>\n",
       "      <td>1</td>\n",
       "    </tr>\n",
       "    <tr>\n",
       "      <th>8213</th>\n",
       "      <td>0.998692</td>\n",
       "      <td>5</td>\n",
       "    </tr>\n",
       "    <tr>\n",
       "      <th>964</th>\n",
       "      <td>0.999454</td>\n",
       "      <td>5</td>\n",
       "    </tr>\n",
       "    <tr>\n",
       "      <th>217</th>\n",
       "      <td>-0.857746</td>\n",
       "      <td>4</td>\n",
       "    </tr>\n",
       "    <tr>\n",
       "      <th>405</th>\n",
       "      <td>0.694663</td>\n",
       "      <td>1</td>\n",
       "    </tr>\n",
       "    <tr>\n",
       "      <th>4144</th>\n",
       "      <td>-0.954741</td>\n",
       "      <td>5</td>\n",
       "    </tr>\n",
       "    <tr>\n",
       "      <th>5692</th>\n",
       "      <td>0.999404</td>\n",
       "      <td>4</td>\n",
       "    </tr>\n",
       "    <tr>\n",
       "      <th>9322</th>\n",
       "      <td>-0.996611</td>\n",
       "      <td>1</td>\n",
       "    </tr>\n",
       "    <tr>\n",
       "      <th>1989</th>\n",
       "      <td>-0.982609</td>\n",
       "      <td>1</td>\n",
       "    </tr>\n",
       "    <tr>\n",
       "      <th>5446</th>\n",
       "      <td>0.999780</td>\n",
       "      <td>4</td>\n",
       "    </tr>\n",
       "    <tr>\n",
       "      <th>4207</th>\n",
       "      <td>-0.611368</td>\n",
       "      <td>1</td>\n",
       "    </tr>\n",
       "    <tr>\n",
       "      <th>4970</th>\n",
       "      <td>-0.966968</td>\n",
       "      <td>4</td>\n",
       "    </tr>\n",
       "    <tr>\n",
       "      <th>299</th>\n",
       "      <td>0.977044</td>\n",
       "      <td>4</td>\n",
       "    </tr>\n",
       "  </tbody>\n",
       "</table>\n",
       "</div>"
      ],
      "text/plain": [
       "      headline_sentiment  BERT_headline_sentiment_score\n",
       "2523           -0.980521                              2\n",
       "6404            0.998999                              4\n",
       "2495           -0.975270                              1\n",
       "8014            0.823933                              5\n",
       "5228           -0.986253                              1\n",
       "3099           -0.720517                              1\n",
       "6228            0.997169                              4\n",
       "3830           -0.978362                              1\n",
       "8213            0.998692                              5\n",
       "964             0.999454                              5\n",
       "217            -0.857746                              4\n",
       "405             0.694663                              1\n",
       "4144           -0.954741                              5\n",
       "5692            0.999404                              4\n",
       "9322           -0.996611                              1\n",
       "1989           -0.982609                              1\n",
       "5446            0.999780                              4\n",
       "4207           -0.611368                              1\n",
       "4970           -0.966968                              4\n",
       "299             0.977044                              4"
      ]
     },
     "execution_count": 47,
     "metadata": {},
     "output_type": "execute_result"
    }
   ],
   "source": [
    "df[['headline_sentiment', 'BERT_headline_sentiment_score']].sample(20)"
   ]
  },
  {
   "cell_type": "code",
   "execution_count": 50,
   "metadata": {},
   "outputs": [
    {
     "name": "stderr",
     "output_type": "stream",
     "text": [
      "c:\\Users\\mschm\\Desktop\\Masters_DU\\Capstone_Trade_bot_project\\capenv\\lib\\site-packages\\pandas\\plotting\\_matplotlib\\core.py:1114: UserWarning: No data for colormapping provided via 'c'. Parameters 'cmap' will be ignored\n",
      "  scatter = ax.scatter(\n"
     ]
    },
    {
     "data": {
      "text/plain": [
       "<Axes: xlabel='BERT_headline_sentiment_score', ylabel='headline_sentiment'>"
      ]
     },
     "execution_count": 50,
     "metadata": {},
     "output_type": "execute_result"
    },
    {
     "data": {
      "image/png": "[encoded data removed]",
      "text/plain": [
       "<Figure size 432x288 with 1 Axes>"
      ]
     },
     "metadata": {
      "needs_background": "light"
     },
     "output_type": "display_data"
    }
   ],
   "source": [
    "df[['headline_sentiment', 'BERT_headline_sentiment_score']].plot.scatter(x='BERT_headline_sentiment_score', y='headline_sentiment')"
   ]
  },
  {
   "cell_type": "code",
   "execution_count": 61,
   "metadata": {},
   "outputs": [
    {
     "data": {
      "image/png": "[encoded data removed]",
      "text/plain": [
       "<Figure size 720x1800 with 5 Axes>"
      ]
     },
     "metadata": {
      "needs_background": "light"
     },
     "output_type": "display_data"
    }
   ],
   "source": [
    "fig, axes = plt.subplots(nrows=len(df['BERT_headline_sentiment_score'].unique()), ncols=1, figsize=(10, 25))\n",
    "\n",
    "# iterate over unique values of 'x' and create a histogram for each one\n",
    "for i, x_val in enumerate(sorted(df['BERT_headline_sentiment_score'].unique())):\n",
    "    df[df['BERT_headline_sentiment_score'] == x_val]['headline_sentiment'].plot.hist(ax=axes[i], title=f'BERT Score = {x_val}', bins=40)\n",
    "    axes[i].set_xlabel('headline_sentiment')\n",
    "    axes[i].set_ylabel('Frequency')\n",
    "    axes[i].grid(True)"
   ]
  },
  {
   "cell_type": "code",
   "execution_count": 60,
   "metadata": {},
   "outputs": [
    {
     "data": {
      "text/plain": [
       "0.5366396077780085"
      ]
     },
     "execution_count": 60,
     "metadata": {},
     "output_type": "execute_result"
    }
   ],
   "source": [
    "df['BERT_headline_sentiment_score'].corr(df['headline_sentiment'])"
   ]
  }
 ],
 "metadata": {
  "kernelspec": {
   "display_name": "capenv",
   "language": "python",
   "name": "python3"
  },
  "language_info": {
   "codemirror_mode": {
    "name": "ipython",
    "version": 3
   },
   "file_extension": ".py",
   "mimetype": "text/x-python",
   "name": "python",
   "nbconvert_exporter": "python",
   "pygments_lexer": "ipython3",
   "version": "3.8.8"
  },
  "orig_nbformat": 4
 },
 "nbformat": 4,
 "nbformat_minor": 2
}
